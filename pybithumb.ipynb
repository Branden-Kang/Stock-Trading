{
  "nbformat": 4,
  "nbformat_minor": 0,
  "metadata": {
    "colab": {
      "name": "pybithumb.ipynb",
      "provenance": [],
      "collapsed_sections": [],
      "authorship_tag": "ABX9TyNfys1k9+I8hnpzGOxl0t/B"
    },
    "kernelspec": {
      "name": "python3",
      "display_name": "Python 3"
    },
    "language_info": {
      "name": "python"
    }
  },
  "cells": [
    {
      "cell_type": "code",
      "metadata": {
        "colab": {
          "base_uri": "https://localhost:8080/"
        },
        "id": "g2NtCW-ft-0D",
        "outputId": "925d8e5a-736c-42aa-9e0b-82c3c6902b8d"
      },
      "source": [
        "pip install -U pybithumb"
      ],
      "execution_count": 1,
      "outputs": [
        {
          "output_type": "stream",
          "name": "stdout",
          "text": [
            "Collecting pybithumb\n",
            "  Downloading pybithumb-1.0.21-py3-none-any.whl (9.9 kB)\n",
            "Collecting websockets\n",
            "  Downloading websockets-10.0-cp37-cp37m-manylinux2010_x86_64.whl (108 kB)\n",
            "\u001b[K     |████████████████████████████████| 108 kB 7.0 MB/s \n",
            "\u001b[?25hRequirement already satisfied: html5lib in /usr/local/lib/python3.7/dist-packages (from pybithumb) (1.0.1)\n",
            "Collecting datetime\n",
            "  Downloading DateTime-4.3-py2.py3-none-any.whl (60 kB)\n",
            "\u001b[K     |████████████████████████████████| 60 kB 6.9 MB/s \n",
            "\u001b[?25hRequirement already satisfied: requests in /usr/local/lib/python3.7/dist-packages (from pybithumb) (2.23.0)\n",
            "Requirement already satisfied: pandas in /usr/local/lib/python3.7/dist-packages (from pybithumb) (1.1.5)\n",
            "Requirement already satisfied: bs4 in /usr/local/lib/python3.7/dist-packages (from pybithumb) (0.0.1)\n",
            "Requirement already satisfied: beautifulsoup4 in /usr/local/lib/python3.7/dist-packages (from bs4->pybithumb) (4.6.3)\n",
            "Requirement already satisfied: pytz in /usr/local/lib/python3.7/dist-packages (from datetime->pybithumb) (2018.9)\n",
            "Collecting zope.interface\n",
            "  Downloading zope.interface-5.4.0-cp37-cp37m-manylinux2010_x86_64.whl (251 kB)\n",
            "\u001b[K     |████████████████████████████████| 251 kB 29.7 MB/s \n",
            "\u001b[?25hRequirement already satisfied: six>=1.9 in /usr/local/lib/python3.7/dist-packages (from html5lib->pybithumb) (1.15.0)\n",
            "Requirement already satisfied: webencodings in /usr/local/lib/python3.7/dist-packages (from html5lib->pybithumb) (0.5.1)\n",
            "Requirement already satisfied: python-dateutil>=2.7.3 in /usr/local/lib/python3.7/dist-packages (from pandas->pybithumb) (2.8.2)\n",
            "Requirement already satisfied: numpy>=1.15.4 in /usr/local/lib/python3.7/dist-packages (from pandas->pybithumb) (1.19.5)\n",
            "Requirement already satisfied: urllib3!=1.25.0,!=1.25.1,<1.26,>=1.21.1 in /usr/local/lib/python3.7/dist-packages (from requests->pybithumb) (1.24.3)\n",
            "Requirement already satisfied: certifi>=2017.4.17 in /usr/local/lib/python3.7/dist-packages (from requests->pybithumb) (2021.5.30)\n",
            "Requirement already satisfied: idna<3,>=2.5 in /usr/local/lib/python3.7/dist-packages (from requests->pybithumb) (2.10)\n",
            "Requirement already satisfied: chardet<4,>=3.0.2 in /usr/local/lib/python3.7/dist-packages (from requests->pybithumb) (3.0.4)\n",
            "Requirement already satisfied: setuptools in /usr/local/lib/python3.7/dist-packages (from zope.interface->datetime->pybithumb) (57.4.0)\n",
            "Installing collected packages: zope.interface, websockets, datetime, pybithumb\n",
            "Successfully installed datetime-4.3 pybithumb-1.0.21 websockets-10.0 zope.interface-5.4.0\n"
          ]
        }
      ]
    },
    {
      "cell_type": "code",
      "metadata": {
        "colab": {
          "base_uri": "https://localhost:8080/"
        },
        "id": "aF7pVUrYuFR2",
        "outputId": "36afc9ce-753b-466f-fcb6-f2cc4f7eb52c"
      },
      "source": [
        "import pybithumb\n",
        " \n",
        "tickers = pybithumb.get_tickers()\n",
        "print(tickers)"
      ],
      "execution_count": 2,
      "outputs": [
        {
          "output_type": "stream",
          "name": "stdout",
          "text": [
            "['BTC', 'ETH', 'LTC', 'ETC', 'XRP', 'BCH', 'QTUM', 'BTG', 'EOS', 'ICX', 'TRX', 'ELF', 'OMG', 'KNC', 'GLM', 'ZIL', 'WAXP', 'POWR', 'LRC', 'STEEM', 'STRAX', 'ZRX', 'REP', 'XEM', 'SNT', 'ADA', 'CTXC', 'BAT', 'WTC', 'THETA', 'LOOM', 'WAVES', 'TRUE', 'LINK', 'ENJ', 'VET', 'MTL', 'IOST', 'TMTG', 'QKC', 'HDAC', 'AMO', 'BSV', 'DAC', 'ORBS', 'TFUEL', 'VALOR', 'CON', 'ANKR', 'MIX', 'CRO', 'FX', 'CHR', 'MBL', 'MXC', 'FCT', 'TRV', 'DAD', 'WOM', 'SOC', 'EM', 'BOA', 'FLETA', 'SXP', 'COS', 'APIX', 'EL', 'BASIC', 'HIVE', 'XPR', 'VRA', 'FIT', 'EGG', 'BORA', 'ARPA', 'APM', 'CKB', 'AERGO', 'ANW', 'CENNZ', 'EVZ', 'CYCLUB', 'SRM', 'QTCON', 'UNI', 'YFI', 'UMA', 'AAVE', 'COMP', 'REN', 'BAL', 'RSR', 'NMR', 'RLC', 'UOS', 'SAND', 'GOM2', 'RINGX', 'BEL', 'OBSR', 'ORC', 'POLA', 'AWO', 'ADP', 'DVI', 'GHX', 'MIR', 'MVC', 'BLY', 'WOZX', 'ANV', 'GRT', 'MM', 'BIOT', 'XNO', 'SNX', 'RAI', 'COLA', 'NU', 'OXT', 'LINA', 'MAP', 'AQT', 'WIKEN', 'CTSI', 'MANA', 'LPT', 'MKR', 'SUSHI', 'ASM', 'PUNDIX', 'CELR', 'LF', 'ARW', 'MSB', 'RLY', 'OCEAN', 'BFC', 'ALICE', 'CAKE', 'BNT', 'XVS', 'CHZ', 'AXS', 'DAI', 'MATIC', 'BAKE', 'VELO', 'BCD', 'XLM', 'GXC', 'BTT', 'VSYS', 'IPX', 'WICC', 'ONT', 'LUNA', 'AION', 'META', 'KLAY', 'ONG', 'ALGO', 'JST', 'XTZ', 'MLK', 'WEMIX', 'DOT', 'ATOM', 'SSX', 'TEMCO', 'HIBS', 'BURGER', 'DOGE', 'KSM', 'CTK', 'XYM', 'BNB', 'SUN', 'XEC', 'PCI', 'SOL']\n"
          ]
        }
      ]
    },
    {
      "cell_type": "code",
      "metadata": {
        "colab": {
          "base_uri": "https://localhost:8080/"
        },
        "id": "G3tbudFXuKvW",
        "outputId": "530c7126-9b4d-4f51-c54e-1aa0b44e3b4a"
      },
      "source": [
        "print(len(tickers))"
      ],
      "execution_count": 3,
      "outputs": [
        {
          "output_type": "stream",
          "name": "stdout",
          "text": [
            "181\n"
          ]
        }
      ]
    },
    {
      "cell_type": "code",
      "metadata": {
        "colab": {
          "base_uri": "https://localhost:8080/"
        },
        "id": "xEq0c8c2uNBK",
        "outputId": "b0546c94-687b-4704-cc7b-0a73e7b4a626"
      },
      "source": [
        "import pybithumb\n",
        " \n",
        "price = pybithumb.get_current_price(\"BTC\")\n",
        "print(price)"
      ],
      "execution_count": 4,
      "outputs": [
        {
          "output_type": "stream",
          "name": "stdout",
          "text": [
            "52366000.0\n"
          ]
        }
      ]
    },
    {
      "cell_type": "code",
      "metadata": {
        "colab": {
          "base_uri": "https://localhost:8080/",
          "height": 334
        },
        "id": "ry_RyBpEu_0X",
        "outputId": "3eb78918-9f58-4355-f18e-274199a8abcb"
      },
      "source": [
        "import pybithumb\n",
        "import time\n",
        " \n",
        "while True:\n",
        "    price = pybithumb.get_current_price(\"BTC\")\n",
        "    print(price)\n",
        "    time.sleep(1)"
      ],
      "execution_count": 5,
      "outputs": [
        {
          "output_type": "stream",
          "name": "stdout",
          "text": [
            "52373000.0\n",
            "52373000.0\n",
            "52373000.0\n",
            "52373000.0\n",
            "52373000.0\n",
            "52373000.0\n"
          ]
        },
        {
          "output_type": "error",
          "ename": "KeyboardInterrupt",
          "evalue": "ignored",
          "traceback": [
            "\u001b[0;31m---------------------------------------------------------------------------\u001b[0m",
            "\u001b[0;31mKeyboardInterrupt\u001b[0m                         Traceback (most recent call last)",
            "\u001b[0;32m<ipython-input-5-0c6bd8f00029>\u001b[0m in \u001b[0;36m<module>\u001b[0;34m()\u001b[0m\n\u001b[1;32m      5\u001b[0m     \u001b[0mprice\u001b[0m \u001b[0;34m=\u001b[0m \u001b[0mpybithumb\u001b[0m\u001b[0;34m.\u001b[0m\u001b[0mget_current_price\u001b[0m\u001b[0;34m(\u001b[0m\u001b[0;34m\"BTC\"\u001b[0m\u001b[0;34m)\u001b[0m\u001b[0;34m\u001b[0m\u001b[0;34m\u001b[0m\u001b[0m\n\u001b[1;32m      6\u001b[0m     \u001b[0mprint\u001b[0m\u001b[0;34m(\u001b[0m\u001b[0mprice\u001b[0m\u001b[0;34m)\u001b[0m\u001b[0;34m\u001b[0m\u001b[0;34m\u001b[0m\u001b[0m\n\u001b[0;32m----> 7\u001b[0;31m     \u001b[0mtime\u001b[0m\u001b[0;34m.\u001b[0m\u001b[0msleep\u001b[0m\u001b[0;34m(\u001b[0m\u001b[0;36m1\u001b[0m\u001b[0;34m)\u001b[0m\u001b[0;34m\u001b[0m\u001b[0;34m\u001b[0m\u001b[0m\n\u001b[0m",
            "\u001b[0;31mKeyboardInterrupt\u001b[0m: "
          ]
        }
      ]
    },
    {
      "cell_type": "code",
      "metadata": {
        "colab": {
          "base_uri": "https://localhost:8080/",
          "height": 1000
        },
        "id": "xq2npoGuvEZ-",
        "outputId": "c7cc3e85-b727-4bd6-b1a7-58f70aac517f"
      },
      "source": [
        "import pybithumb\n",
        "import time\n",
        " \n",
        "tickers = pybithumb.get_tickers()\n",
        "for ticker in tickers:\n",
        "    price = pybithumb.get_current_price(ticker)\n",
        "    print(ticker, price)\n",
        "    time.sleep(0.1)"
      ],
      "execution_count": 6,
      "outputs": [
        {
          "output_type": "stream",
          "name": "stdout",
          "text": [
            "BTC 52352000.0\n",
            "ETH 3691000.0\n",
            "LTC 193900.0\n",
            "ETC 60250.0\n",
            "XRP 1141.0\n",
            "BCH 662000.0\n",
            "QTUM 12660.0\n",
            "BTG 66500.0\n",
            "EOS 5120.0\n",
            "ICX 1993.0\n",
            "TRX 114.5\n",
            "ELF 979.8\n",
            "OMG 12280.0\n",
            "KNC 1837.0\n",
            "GLM 566.2\n",
            "ZIL 108.8\n",
            "WAXP 273.6\n",
            "POWR 384.6\n",
            "LRC 489.7\n",
            "STEEM 610.0\n",
            "STRAX 2576.0\n",
            "ZRX 1126.0\n",
            "REP 26000.0\n",
            "XEM 189.9\n",
            "SNT 93.64\n",
            "ADA 2625.0\n",
            "CTXC 334.9\n",
            "BAT 802.5\n",
            "WTC 1111.0\n",
            "THETA 6435.0\n"
          ]
        },
        {
          "output_type": "error",
          "ename": "KeyboardInterrupt",
          "evalue": "ignored",
          "traceback": [
            "\u001b[0;31m---------------------------------------------------------------------------\u001b[0m",
            "\u001b[0;31mTypeError\u001b[0m                                 Traceback (most recent call last)",
            "\u001b[0;32m/usr/local/lib/python3.7/dist-packages/urllib3/connectionpool.py\u001b[0m in \u001b[0;36m_make_request\u001b[0;34m(self, conn, method, url, timeout, chunked, **httplib_request_kw)\u001b[0m\n\u001b[1;32m    376\u001b[0m             \u001b[0;32mtry\u001b[0m\u001b[0;34m:\u001b[0m  \u001b[0;31m# Python 2.7, use buffering of HTTP responses\u001b[0m\u001b[0;34m\u001b[0m\u001b[0;34m\u001b[0m\u001b[0m\n\u001b[0;32m--> 377\u001b[0;31m                 \u001b[0mhttplib_response\u001b[0m \u001b[0;34m=\u001b[0m \u001b[0mconn\u001b[0m\u001b[0;34m.\u001b[0m\u001b[0mgetresponse\u001b[0m\u001b[0;34m(\u001b[0m\u001b[0mbuffering\u001b[0m\u001b[0;34m=\u001b[0m\u001b[0;32mTrue\u001b[0m\u001b[0;34m)\u001b[0m\u001b[0;34m\u001b[0m\u001b[0;34m\u001b[0m\u001b[0m\n\u001b[0m\u001b[1;32m    378\u001b[0m             \u001b[0;32mexcept\u001b[0m \u001b[0mTypeError\u001b[0m\u001b[0;34m:\u001b[0m  \u001b[0;31m# Python 3\u001b[0m\u001b[0;34m\u001b[0m\u001b[0;34m\u001b[0m\u001b[0m\n",
            "\u001b[0;31mTypeError\u001b[0m: getresponse() got an unexpected keyword argument 'buffering'",
            "\nDuring handling of the above exception, another exception occurred:\n",
            "\u001b[0;31mKeyboardInterrupt\u001b[0m                         Traceback (most recent call last)",
            "\u001b[0;32m<ipython-input-6-3e4d491d46c5>\u001b[0m in \u001b[0;36m<module>\u001b[0;34m()\u001b[0m\n\u001b[1;32m      4\u001b[0m \u001b[0mtickers\u001b[0m \u001b[0;34m=\u001b[0m \u001b[0mpybithumb\u001b[0m\u001b[0;34m.\u001b[0m\u001b[0mget_tickers\u001b[0m\u001b[0;34m(\u001b[0m\u001b[0;34m)\u001b[0m\u001b[0;34m\u001b[0m\u001b[0;34m\u001b[0m\u001b[0m\n\u001b[1;32m      5\u001b[0m \u001b[0;32mfor\u001b[0m \u001b[0mticker\u001b[0m \u001b[0;32min\u001b[0m \u001b[0mtickers\u001b[0m\u001b[0;34m:\u001b[0m\u001b[0;34m\u001b[0m\u001b[0;34m\u001b[0m\u001b[0m\n\u001b[0;32m----> 6\u001b[0;31m     \u001b[0mprice\u001b[0m \u001b[0;34m=\u001b[0m \u001b[0mpybithumb\u001b[0m\u001b[0;34m.\u001b[0m\u001b[0mget_current_price\u001b[0m\u001b[0;34m(\u001b[0m\u001b[0mticker\u001b[0m\u001b[0;34m)\u001b[0m\u001b[0;34m\u001b[0m\u001b[0;34m\u001b[0m\u001b[0m\n\u001b[0m\u001b[1;32m      7\u001b[0m     \u001b[0mprint\u001b[0m\u001b[0;34m(\u001b[0m\u001b[0mticker\u001b[0m\u001b[0;34m,\u001b[0m \u001b[0mprice\u001b[0m\u001b[0;34m)\u001b[0m\u001b[0;34m\u001b[0m\u001b[0;34m\u001b[0m\u001b[0m\n\u001b[1;32m      8\u001b[0m     \u001b[0mtime\u001b[0m\u001b[0;34m.\u001b[0m\u001b[0msleep\u001b[0m\u001b[0;34m(\u001b[0m\u001b[0;36m0.1\u001b[0m\u001b[0;34m)\u001b[0m\u001b[0;34m\u001b[0m\u001b[0;34m\u001b[0m\u001b[0m\n",
            "\u001b[0;32m/usr/local/lib/python3.7/dist-packages/pybithumb/__init__.py\u001b[0m in \u001b[0;36mget_current_price\u001b[0;34m(order_currency, payment_currency)\u001b[0m\n\u001b[1;32m     15\u001b[0m \u001b[0;34m\u001b[0m\u001b[0m\n\u001b[1;32m     16\u001b[0m \u001b[0;32mdef\u001b[0m \u001b[0mget_current_price\u001b[0m\u001b[0;34m(\u001b[0m\u001b[0morder_currency\u001b[0m\u001b[0;34m,\u001b[0m \u001b[0mpayment_currency\u001b[0m\u001b[0;34m=\u001b[0m\u001b[0;34m\"KRW\"\u001b[0m\u001b[0;34m)\u001b[0m\u001b[0;34m:\u001b[0m\u001b[0;34m\u001b[0m\u001b[0;34m\u001b[0m\u001b[0m\n\u001b[0;32m---> 17\u001b[0;31m     \u001b[0;32mreturn\u001b[0m \u001b[0mBithumb\u001b[0m\u001b[0;34m.\u001b[0m\u001b[0mget_current_price\u001b[0m\u001b[0;34m(\u001b[0m\u001b[0morder_currency\u001b[0m\u001b[0;34m,\u001b[0m \u001b[0mpayment_currency\u001b[0m\u001b[0;34m)\u001b[0m\u001b[0;34m\u001b[0m\u001b[0;34m\u001b[0m\u001b[0m\n\u001b[0m\u001b[1;32m     18\u001b[0m \u001b[0;34m\u001b[0m\u001b[0m\n\u001b[1;32m     19\u001b[0m \u001b[0;34m\u001b[0m\u001b[0m\n",
            "\u001b[0;32m/usr/local/lib/python3.7/dist-packages/pybithumb/client.py\u001b[0m in \u001b[0;36mget_current_price\u001b[0;34m(order_currency, payment_currency)\u001b[0m\n\u001b[1;32m     97\u001b[0m         \u001b[0mresp\u001b[0m \u001b[0;34m=\u001b[0m \u001b[0;32mNone\u001b[0m\u001b[0;34m\u001b[0m\u001b[0;34m\u001b[0m\u001b[0m\n\u001b[1;32m     98\u001b[0m         \u001b[0;32mtry\u001b[0m\u001b[0;34m:\u001b[0m\u001b[0;34m\u001b[0m\u001b[0;34m\u001b[0m\u001b[0m\n\u001b[0;32m---> 99\u001b[0;31m             \u001b[0mresp\u001b[0m \u001b[0;34m=\u001b[0m \u001b[0mPublicApi\u001b[0m\u001b[0;34m.\u001b[0m\u001b[0mticker\u001b[0m\u001b[0;34m(\u001b[0m\u001b[0morder_currency\u001b[0m\u001b[0;34m,\u001b[0m \u001b[0mpayment_currency\u001b[0m\u001b[0;34m)\u001b[0m\u001b[0;34m\u001b[0m\u001b[0;34m\u001b[0m\u001b[0m\n\u001b[0m\u001b[1;32m    100\u001b[0m             \u001b[0;32mif\u001b[0m \u001b[0morder_currency\u001b[0m \u001b[0;34m!=\u001b[0m \u001b[0;34m\"ALL\"\u001b[0m\u001b[0;34m:\u001b[0m\u001b[0;34m\u001b[0m\u001b[0;34m\u001b[0m\u001b[0m\n\u001b[1;32m    101\u001b[0m                 \u001b[0;32mreturn\u001b[0m \u001b[0mfloat\u001b[0m\u001b[0;34m(\u001b[0m\u001b[0mresp\u001b[0m\u001b[0;34m[\u001b[0m\u001b[0;34m'data'\u001b[0m\u001b[0;34m]\u001b[0m\u001b[0;34m[\u001b[0m\u001b[0;34m'closing_price'\u001b[0m\u001b[0;34m]\u001b[0m\u001b[0;34m)\u001b[0m\u001b[0;34m\u001b[0m\u001b[0;34m\u001b[0m\u001b[0m\n",
            "\u001b[0;32m/usr/local/lib/python3.7/dist-packages/pybithumb/core.py\u001b[0m in \u001b[0;36mticker\u001b[0;34m(order_currency, payment_currency)\u001b[0m\n\u001b[1;32m     13\u001b[0m     \u001b[0;32mdef\u001b[0m \u001b[0mticker\u001b[0m\u001b[0;34m(\u001b[0m\u001b[0morder_currency\u001b[0m\u001b[0;34m,\u001b[0m \u001b[0mpayment_currency\u001b[0m\u001b[0;34m=\u001b[0m\u001b[0;34m\"KRW\"\u001b[0m\u001b[0;34m)\u001b[0m\u001b[0;34m:\u001b[0m\u001b[0;34m\u001b[0m\u001b[0;34m\u001b[0m\u001b[0m\n\u001b[1;32m     14\u001b[0m         \u001b[0muri\u001b[0m \u001b[0;34m=\u001b[0m \u001b[0;34m\"/public/ticker/{}_{}\"\u001b[0m\u001b[0;34m.\u001b[0m\u001b[0mformat\u001b[0m\u001b[0;34m(\u001b[0m\u001b[0morder_currency\u001b[0m\u001b[0;34m,\u001b[0m \u001b[0mpayment_currency\u001b[0m\u001b[0;34m)\u001b[0m\u001b[0;34m\u001b[0m\u001b[0;34m\u001b[0m\u001b[0m\n\u001b[0;32m---> 15\u001b[0;31m         \u001b[0;32mreturn\u001b[0m \u001b[0mBithumbHttp\u001b[0m\u001b[0;34m(\u001b[0m\u001b[0;34m)\u001b[0m\u001b[0;34m.\u001b[0m\u001b[0mget\u001b[0m\u001b[0;34m(\u001b[0m\u001b[0muri\u001b[0m\u001b[0;34m)\u001b[0m\u001b[0;34m\u001b[0m\u001b[0;34m\u001b[0m\u001b[0m\n\u001b[0m\u001b[1;32m     16\u001b[0m \u001b[0;34m\u001b[0m\u001b[0m\n\u001b[1;32m     17\u001b[0m     \u001b[0;34m@\u001b[0m\u001b[0mstaticmethod\u001b[0m\u001b[0;34m\u001b[0m\u001b[0;34m\u001b[0m\u001b[0m\n",
            "\u001b[0;32m/usr/local/lib/python3.7/dist-packages/pybithumb/core.py\u001b[0m in \u001b[0;36mget\u001b[0;34m(self, path, timeout, **kwargs)\u001b[0m\n\u001b[1;32m    110\u001b[0m         \u001b[0;32mtry\u001b[0m\u001b[0;34m:\u001b[0m\u001b[0;34m\u001b[0m\u001b[0;34m\u001b[0m\u001b[0m\n\u001b[1;32m    111\u001b[0m             \u001b[0muri\u001b[0m \u001b[0;34m=\u001b[0m \u001b[0mself\u001b[0m\u001b[0;34m.\u001b[0m\u001b[0mbase_url\u001b[0m \u001b[0;34m+\u001b[0m \u001b[0mpath\u001b[0m\u001b[0;34m\u001b[0m\u001b[0;34m\u001b[0m\u001b[0m\n\u001b[0;32m--> 112\u001b[0;31m             \u001b[0;32mreturn\u001b[0m \u001b[0mself\u001b[0m\u001b[0;34m.\u001b[0m\u001b[0msession\u001b[0m\u001b[0;34m.\u001b[0m\u001b[0mget\u001b[0m\u001b[0;34m(\u001b[0m\u001b[0murl\u001b[0m\u001b[0;34m=\u001b[0m\u001b[0muri\u001b[0m\u001b[0;34m,\u001b[0m \u001b[0mparams\u001b[0m\u001b[0;34m=\u001b[0m\u001b[0mkwargs\u001b[0m\u001b[0;34m,\u001b[0m \u001b[0mtimeout\u001b[0m\u001b[0;34m=\u001b[0m\u001b[0mtimeout\u001b[0m\u001b[0;34m)\u001b[0m\u001b[0;34m.\u001b[0m\u001b[0;31m\\\u001b[0m\u001b[0;34m\u001b[0m\u001b[0;34m\u001b[0m\u001b[0m\n\u001b[0m\u001b[1;32m    113\u001b[0m                 \u001b[0mjson\u001b[0m\u001b[0;34m(\u001b[0m\u001b[0;34m)\u001b[0m\u001b[0;34m\u001b[0m\u001b[0;34m\u001b[0m\u001b[0m\n\u001b[1;32m    114\u001b[0m         \u001b[0;32mexcept\u001b[0m \u001b[0mException\u001b[0m \u001b[0;32mas\u001b[0m \u001b[0mx\u001b[0m\u001b[0;34m:\u001b[0m\u001b[0;34m\u001b[0m\u001b[0;34m\u001b[0m\u001b[0m\n",
            "\u001b[0;32m/usr/local/lib/python3.7/dist-packages/requests/sessions.py\u001b[0m in \u001b[0;36mget\u001b[0;34m(self, url, **kwargs)\u001b[0m\n\u001b[1;32m    541\u001b[0m \u001b[0;34m\u001b[0m\u001b[0m\n\u001b[1;32m    542\u001b[0m         \u001b[0mkwargs\u001b[0m\u001b[0;34m.\u001b[0m\u001b[0msetdefault\u001b[0m\u001b[0;34m(\u001b[0m\u001b[0;34m'allow_redirects'\u001b[0m\u001b[0;34m,\u001b[0m \u001b[0;32mTrue\u001b[0m\u001b[0;34m)\u001b[0m\u001b[0;34m\u001b[0m\u001b[0;34m\u001b[0m\u001b[0m\n\u001b[0;32m--> 543\u001b[0;31m         \u001b[0;32mreturn\u001b[0m \u001b[0mself\u001b[0m\u001b[0;34m.\u001b[0m\u001b[0mrequest\u001b[0m\u001b[0;34m(\u001b[0m\u001b[0;34m'GET'\u001b[0m\u001b[0;34m,\u001b[0m \u001b[0murl\u001b[0m\u001b[0;34m,\u001b[0m \u001b[0;34m**\u001b[0m\u001b[0mkwargs\u001b[0m\u001b[0;34m)\u001b[0m\u001b[0;34m\u001b[0m\u001b[0;34m\u001b[0m\u001b[0m\n\u001b[0m\u001b[1;32m    544\u001b[0m \u001b[0;34m\u001b[0m\u001b[0m\n\u001b[1;32m    545\u001b[0m     \u001b[0;32mdef\u001b[0m \u001b[0moptions\u001b[0m\u001b[0;34m(\u001b[0m\u001b[0mself\u001b[0m\u001b[0;34m,\u001b[0m \u001b[0murl\u001b[0m\u001b[0;34m,\u001b[0m \u001b[0;34m**\u001b[0m\u001b[0mkwargs\u001b[0m\u001b[0;34m)\u001b[0m\u001b[0;34m:\u001b[0m\u001b[0;34m\u001b[0m\u001b[0;34m\u001b[0m\u001b[0m\n",
            "\u001b[0;32m/usr/local/lib/python3.7/dist-packages/requests/sessions.py\u001b[0m in \u001b[0;36mrequest\u001b[0;34m(self, method, url, params, data, headers, cookies, files, auth, timeout, allow_redirects, proxies, hooks, stream, verify, cert, json)\u001b[0m\n\u001b[1;32m    528\u001b[0m         }\n\u001b[1;32m    529\u001b[0m         \u001b[0msend_kwargs\u001b[0m\u001b[0;34m.\u001b[0m\u001b[0mupdate\u001b[0m\u001b[0;34m(\u001b[0m\u001b[0msettings\u001b[0m\u001b[0;34m)\u001b[0m\u001b[0;34m\u001b[0m\u001b[0;34m\u001b[0m\u001b[0m\n\u001b[0;32m--> 530\u001b[0;31m         \u001b[0mresp\u001b[0m \u001b[0;34m=\u001b[0m \u001b[0mself\u001b[0m\u001b[0;34m.\u001b[0m\u001b[0msend\u001b[0m\u001b[0;34m(\u001b[0m\u001b[0mprep\u001b[0m\u001b[0;34m,\u001b[0m \u001b[0;34m**\u001b[0m\u001b[0msend_kwargs\u001b[0m\u001b[0;34m)\u001b[0m\u001b[0;34m\u001b[0m\u001b[0;34m\u001b[0m\u001b[0m\n\u001b[0m\u001b[1;32m    531\u001b[0m \u001b[0;34m\u001b[0m\u001b[0m\n\u001b[1;32m    532\u001b[0m         \u001b[0;32mreturn\u001b[0m \u001b[0mresp\u001b[0m\u001b[0;34m\u001b[0m\u001b[0;34m\u001b[0m\u001b[0m\n",
            "\u001b[0;32m/usr/local/lib/python3.7/dist-packages/requests/sessions.py\u001b[0m in \u001b[0;36msend\u001b[0;34m(self, request, **kwargs)\u001b[0m\n\u001b[1;32m    641\u001b[0m \u001b[0;34m\u001b[0m\u001b[0m\n\u001b[1;32m    642\u001b[0m         \u001b[0;31m# Send the request\u001b[0m\u001b[0;34m\u001b[0m\u001b[0;34m\u001b[0m\u001b[0;34m\u001b[0m\u001b[0m\n\u001b[0;32m--> 643\u001b[0;31m         \u001b[0mr\u001b[0m \u001b[0;34m=\u001b[0m \u001b[0madapter\u001b[0m\u001b[0;34m.\u001b[0m\u001b[0msend\u001b[0m\u001b[0;34m(\u001b[0m\u001b[0mrequest\u001b[0m\u001b[0;34m,\u001b[0m \u001b[0;34m**\u001b[0m\u001b[0mkwargs\u001b[0m\u001b[0;34m)\u001b[0m\u001b[0;34m\u001b[0m\u001b[0;34m\u001b[0m\u001b[0m\n\u001b[0m\u001b[1;32m    644\u001b[0m \u001b[0;34m\u001b[0m\u001b[0m\n\u001b[1;32m    645\u001b[0m         \u001b[0;31m# Total elapsed time of the request (approximately)\u001b[0m\u001b[0;34m\u001b[0m\u001b[0;34m\u001b[0m\u001b[0;34m\u001b[0m\u001b[0m\n",
            "\u001b[0;32m/usr/local/lib/python3.7/dist-packages/requests/adapters.py\u001b[0m in \u001b[0;36msend\u001b[0;34m(self, request, stream, timeout, verify, cert, proxies)\u001b[0m\n\u001b[1;32m    447\u001b[0m                     \u001b[0mdecode_content\u001b[0m\u001b[0;34m=\u001b[0m\u001b[0;32mFalse\u001b[0m\u001b[0;34m,\u001b[0m\u001b[0;34m\u001b[0m\u001b[0;34m\u001b[0m\u001b[0m\n\u001b[1;32m    448\u001b[0m                     \u001b[0mretries\u001b[0m\u001b[0;34m=\u001b[0m\u001b[0mself\u001b[0m\u001b[0;34m.\u001b[0m\u001b[0mmax_retries\u001b[0m\u001b[0;34m,\u001b[0m\u001b[0;34m\u001b[0m\u001b[0;34m\u001b[0m\u001b[0m\n\u001b[0;32m--> 449\u001b[0;31m                     \u001b[0mtimeout\u001b[0m\u001b[0;34m=\u001b[0m\u001b[0mtimeout\u001b[0m\u001b[0;34m\u001b[0m\u001b[0;34m\u001b[0m\u001b[0m\n\u001b[0m\u001b[1;32m    450\u001b[0m                 )\n\u001b[1;32m    451\u001b[0m \u001b[0;34m\u001b[0m\u001b[0m\n",
            "\u001b[0;32m/usr/local/lib/python3.7/dist-packages/urllib3/connectionpool.py\u001b[0m in \u001b[0;36murlopen\u001b[0;34m(self, method, url, body, headers, retries, redirect, assert_same_host, timeout, pool_timeout, release_conn, chunked, body_pos, **response_kw)\u001b[0m\n\u001b[1;32m    598\u001b[0m                                                   \u001b[0mtimeout\u001b[0m\u001b[0;34m=\u001b[0m\u001b[0mtimeout_obj\u001b[0m\u001b[0;34m,\u001b[0m\u001b[0;34m\u001b[0m\u001b[0;34m\u001b[0m\u001b[0m\n\u001b[1;32m    599\u001b[0m                                                   \u001b[0mbody\u001b[0m\u001b[0;34m=\u001b[0m\u001b[0mbody\u001b[0m\u001b[0;34m,\u001b[0m \u001b[0mheaders\u001b[0m\u001b[0;34m=\u001b[0m\u001b[0mheaders\u001b[0m\u001b[0;34m,\u001b[0m\u001b[0;34m\u001b[0m\u001b[0;34m\u001b[0m\u001b[0m\n\u001b[0;32m--> 600\u001b[0;31m                                                   chunked=chunked)\n\u001b[0m\u001b[1;32m    601\u001b[0m \u001b[0;34m\u001b[0m\u001b[0m\n\u001b[1;32m    602\u001b[0m             \u001b[0;31m# If we're going to release the connection in ``finally:``, then\u001b[0m\u001b[0;34m\u001b[0m\u001b[0;34m\u001b[0m\u001b[0;34m\u001b[0m\u001b[0m\n",
            "\u001b[0;32m/usr/local/lib/python3.7/dist-packages/urllib3/connectionpool.py\u001b[0m in \u001b[0;36m_make_request\u001b[0;34m(self, conn, method, url, timeout, chunked, **httplib_request_kw)\u001b[0m\n\u001b[1;32m    378\u001b[0m             \u001b[0;32mexcept\u001b[0m \u001b[0mTypeError\u001b[0m\u001b[0;34m:\u001b[0m  \u001b[0;31m# Python 3\u001b[0m\u001b[0;34m\u001b[0m\u001b[0;34m\u001b[0m\u001b[0m\n\u001b[1;32m    379\u001b[0m                 \u001b[0;32mtry\u001b[0m\u001b[0;34m:\u001b[0m\u001b[0;34m\u001b[0m\u001b[0;34m\u001b[0m\u001b[0m\n\u001b[0;32m--> 380\u001b[0;31m                     \u001b[0mhttplib_response\u001b[0m \u001b[0;34m=\u001b[0m \u001b[0mconn\u001b[0m\u001b[0;34m.\u001b[0m\u001b[0mgetresponse\u001b[0m\u001b[0;34m(\u001b[0m\u001b[0;34m)\u001b[0m\u001b[0;34m\u001b[0m\u001b[0;34m\u001b[0m\u001b[0m\n\u001b[0m\u001b[1;32m    381\u001b[0m                 \u001b[0;32mexcept\u001b[0m \u001b[0mException\u001b[0m \u001b[0;32mas\u001b[0m \u001b[0me\u001b[0m\u001b[0;34m:\u001b[0m\u001b[0;34m\u001b[0m\u001b[0;34m\u001b[0m\u001b[0m\n\u001b[1;32m    382\u001b[0m                     \u001b[0;31m# Remove the TypeError from the exception chain in Python 3;\u001b[0m\u001b[0;34m\u001b[0m\u001b[0;34m\u001b[0m\u001b[0;34m\u001b[0m\u001b[0m\n",
            "\u001b[0;32m/usr/lib/python3.7/http/client.py\u001b[0m in \u001b[0;36mgetresponse\u001b[0;34m(self)\u001b[0m\n\u001b[1;32m   1371\u001b[0m         \u001b[0;32mtry\u001b[0m\u001b[0;34m:\u001b[0m\u001b[0;34m\u001b[0m\u001b[0;34m\u001b[0m\u001b[0m\n\u001b[1;32m   1372\u001b[0m             \u001b[0;32mtry\u001b[0m\u001b[0;34m:\u001b[0m\u001b[0;34m\u001b[0m\u001b[0;34m\u001b[0m\u001b[0m\n\u001b[0;32m-> 1373\u001b[0;31m                 \u001b[0mresponse\u001b[0m\u001b[0;34m.\u001b[0m\u001b[0mbegin\u001b[0m\u001b[0;34m(\u001b[0m\u001b[0;34m)\u001b[0m\u001b[0;34m\u001b[0m\u001b[0;34m\u001b[0m\u001b[0m\n\u001b[0m\u001b[1;32m   1374\u001b[0m             \u001b[0;32mexcept\u001b[0m \u001b[0mConnectionError\u001b[0m\u001b[0;34m:\u001b[0m\u001b[0;34m\u001b[0m\u001b[0;34m\u001b[0m\u001b[0m\n\u001b[1;32m   1375\u001b[0m                 \u001b[0mself\u001b[0m\u001b[0;34m.\u001b[0m\u001b[0mclose\u001b[0m\u001b[0;34m(\u001b[0m\u001b[0;34m)\u001b[0m\u001b[0;34m\u001b[0m\u001b[0;34m\u001b[0m\u001b[0m\n",
            "\u001b[0;32m/usr/lib/python3.7/http/client.py\u001b[0m in \u001b[0;36mbegin\u001b[0;34m(self)\u001b[0m\n\u001b[1;32m    317\u001b[0m         \u001b[0;31m# read until we get a non-100 response\u001b[0m\u001b[0;34m\u001b[0m\u001b[0;34m\u001b[0m\u001b[0;34m\u001b[0m\u001b[0m\n\u001b[1;32m    318\u001b[0m         \u001b[0;32mwhile\u001b[0m \u001b[0;32mTrue\u001b[0m\u001b[0;34m:\u001b[0m\u001b[0;34m\u001b[0m\u001b[0;34m\u001b[0m\u001b[0m\n\u001b[0;32m--> 319\u001b[0;31m             \u001b[0mversion\u001b[0m\u001b[0;34m,\u001b[0m \u001b[0mstatus\u001b[0m\u001b[0;34m,\u001b[0m \u001b[0mreason\u001b[0m \u001b[0;34m=\u001b[0m \u001b[0mself\u001b[0m\u001b[0;34m.\u001b[0m\u001b[0m_read_status\u001b[0m\u001b[0;34m(\u001b[0m\u001b[0;34m)\u001b[0m\u001b[0;34m\u001b[0m\u001b[0;34m\u001b[0m\u001b[0m\n\u001b[0m\u001b[1;32m    320\u001b[0m             \u001b[0;32mif\u001b[0m \u001b[0mstatus\u001b[0m \u001b[0;34m!=\u001b[0m \u001b[0mCONTINUE\u001b[0m\u001b[0;34m:\u001b[0m\u001b[0;34m\u001b[0m\u001b[0;34m\u001b[0m\u001b[0m\n\u001b[1;32m    321\u001b[0m                 \u001b[0;32mbreak\u001b[0m\u001b[0;34m\u001b[0m\u001b[0;34m\u001b[0m\u001b[0m\n",
            "\u001b[0;32m/usr/lib/python3.7/http/client.py\u001b[0m in \u001b[0;36m_read_status\u001b[0;34m(self)\u001b[0m\n\u001b[1;32m    278\u001b[0m \u001b[0;34m\u001b[0m\u001b[0m\n\u001b[1;32m    279\u001b[0m     \u001b[0;32mdef\u001b[0m \u001b[0m_read_status\u001b[0m\u001b[0;34m(\u001b[0m\u001b[0mself\u001b[0m\u001b[0;34m)\u001b[0m\u001b[0;34m:\u001b[0m\u001b[0;34m\u001b[0m\u001b[0;34m\u001b[0m\u001b[0m\n\u001b[0;32m--> 280\u001b[0;31m         \u001b[0mline\u001b[0m \u001b[0;34m=\u001b[0m \u001b[0mstr\u001b[0m\u001b[0;34m(\u001b[0m\u001b[0mself\u001b[0m\u001b[0;34m.\u001b[0m\u001b[0mfp\u001b[0m\u001b[0;34m.\u001b[0m\u001b[0mreadline\u001b[0m\u001b[0;34m(\u001b[0m\u001b[0m_MAXLINE\u001b[0m \u001b[0;34m+\u001b[0m \u001b[0;36m1\u001b[0m\u001b[0;34m)\u001b[0m\u001b[0;34m,\u001b[0m \u001b[0;34m\"iso-8859-1\"\u001b[0m\u001b[0;34m)\u001b[0m\u001b[0;34m\u001b[0m\u001b[0;34m\u001b[0m\u001b[0m\n\u001b[0m\u001b[1;32m    281\u001b[0m         \u001b[0;32mif\u001b[0m \u001b[0mlen\u001b[0m\u001b[0;34m(\u001b[0m\u001b[0mline\u001b[0m\u001b[0;34m)\u001b[0m \u001b[0;34m>\u001b[0m \u001b[0m_MAXLINE\u001b[0m\u001b[0;34m:\u001b[0m\u001b[0;34m\u001b[0m\u001b[0;34m\u001b[0m\u001b[0m\n\u001b[1;32m    282\u001b[0m             \u001b[0;32mraise\u001b[0m \u001b[0mLineTooLong\u001b[0m\u001b[0;34m(\u001b[0m\u001b[0;34m\"status line\"\u001b[0m\u001b[0;34m)\u001b[0m\u001b[0;34m\u001b[0m\u001b[0;34m\u001b[0m\u001b[0m\n",
            "\u001b[0;32m/usr/lib/python3.7/socket.py\u001b[0m in \u001b[0;36mreadinto\u001b[0;34m(self, b)\u001b[0m\n\u001b[1;32m    587\u001b[0m         \u001b[0;32mwhile\u001b[0m \u001b[0;32mTrue\u001b[0m\u001b[0;34m:\u001b[0m\u001b[0;34m\u001b[0m\u001b[0;34m\u001b[0m\u001b[0m\n\u001b[1;32m    588\u001b[0m             \u001b[0;32mtry\u001b[0m\u001b[0;34m:\u001b[0m\u001b[0;34m\u001b[0m\u001b[0;34m\u001b[0m\u001b[0m\n\u001b[0;32m--> 589\u001b[0;31m                 \u001b[0;32mreturn\u001b[0m \u001b[0mself\u001b[0m\u001b[0;34m.\u001b[0m\u001b[0m_sock\u001b[0m\u001b[0;34m.\u001b[0m\u001b[0mrecv_into\u001b[0m\u001b[0;34m(\u001b[0m\u001b[0mb\u001b[0m\u001b[0;34m)\u001b[0m\u001b[0;34m\u001b[0m\u001b[0;34m\u001b[0m\u001b[0m\n\u001b[0m\u001b[1;32m    590\u001b[0m             \u001b[0;32mexcept\u001b[0m \u001b[0mtimeout\u001b[0m\u001b[0;34m:\u001b[0m\u001b[0;34m\u001b[0m\u001b[0;34m\u001b[0m\u001b[0m\n\u001b[1;32m    591\u001b[0m                 \u001b[0mself\u001b[0m\u001b[0;34m.\u001b[0m\u001b[0m_timeout_occurred\u001b[0m \u001b[0;34m=\u001b[0m \u001b[0;32mTrue\u001b[0m\u001b[0;34m\u001b[0m\u001b[0;34m\u001b[0m\u001b[0m\n",
            "\u001b[0;32m/usr/lib/python3.7/ssl.py\u001b[0m in \u001b[0;36mrecv_into\u001b[0;34m(self, buffer, nbytes, flags)\u001b[0m\n\u001b[1;32m   1069\u001b[0m                   \u001b[0;34m\"non-zero flags not allowed in calls to recv_into() on %s\"\u001b[0m \u001b[0;34m%\u001b[0m\u001b[0;34m\u001b[0m\u001b[0;34m\u001b[0m\u001b[0m\n\u001b[1;32m   1070\u001b[0m                   self.__class__)\n\u001b[0;32m-> 1071\u001b[0;31m             \u001b[0;32mreturn\u001b[0m \u001b[0mself\u001b[0m\u001b[0;34m.\u001b[0m\u001b[0mread\u001b[0m\u001b[0;34m(\u001b[0m\u001b[0mnbytes\u001b[0m\u001b[0;34m,\u001b[0m \u001b[0mbuffer\u001b[0m\u001b[0;34m)\u001b[0m\u001b[0;34m\u001b[0m\u001b[0;34m\u001b[0m\u001b[0m\n\u001b[0m\u001b[1;32m   1072\u001b[0m         \u001b[0;32melse\u001b[0m\u001b[0;34m:\u001b[0m\u001b[0;34m\u001b[0m\u001b[0;34m\u001b[0m\u001b[0m\n\u001b[1;32m   1073\u001b[0m             \u001b[0;32mreturn\u001b[0m \u001b[0msuper\u001b[0m\u001b[0;34m(\u001b[0m\u001b[0;34m)\u001b[0m\u001b[0;34m.\u001b[0m\u001b[0mrecv_into\u001b[0m\u001b[0;34m(\u001b[0m\u001b[0mbuffer\u001b[0m\u001b[0;34m,\u001b[0m \u001b[0mnbytes\u001b[0m\u001b[0;34m,\u001b[0m \u001b[0mflags\u001b[0m\u001b[0;34m)\u001b[0m\u001b[0;34m\u001b[0m\u001b[0;34m\u001b[0m\u001b[0m\n",
            "\u001b[0;32m/usr/lib/python3.7/ssl.py\u001b[0m in \u001b[0;36mread\u001b[0;34m(self, len, buffer)\u001b[0m\n\u001b[1;32m    927\u001b[0m         \u001b[0;32mtry\u001b[0m\u001b[0;34m:\u001b[0m\u001b[0;34m\u001b[0m\u001b[0;34m\u001b[0m\u001b[0m\n\u001b[1;32m    928\u001b[0m             \u001b[0;32mif\u001b[0m \u001b[0mbuffer\u001b[0m \u001b[0;32mis\u001b[0m \u001b[0;32mnot\u001b[0m \u001b[0;32mNone\u001b[0m\u001b[0;34m:\u001b[0m\u001b[0;34m\u001b[0m\u001b[0;34m\u001b[0m\u001b[0m\n\u001b[0;32m--> 929\u001b[0;31m                 \u001b[0;32mreturn\u001b[0m \u001b[0mself\u001b[0m\u001b[0;34m.\u001b[0m\u001b[0m_sslobj\u001b[0m\u001b[0;34m.\u001b[0m\u001b[0mread\u001b[0m\u001b[0;34m(\u001b[0m\u001b[0mlen\u001b[0m\u001b[0;34m,\u001b[0m \u001b[0mbuffer\u001b[0m\u001b[0;34m)\u001b[0m\u001b[0;34m\u001b[0m\u001b[0;34m\u001b[0m\u001b[0m\n\u001b[0m\u001b[1;32m    930\u001b[0m             \u001b[0;32melse\u001b[0m\u001b[0;34m:\u001b[0m\u001b[0;34m\u001b[0m\u001b[0;34m\u001b[0m\u001b[0m\n\u001b[1;32m    931\u001b[0m                 \u001b[0;32mreturn\u001b[0m \u001b[0mself\u001b[0m\u001b[0;34m.\u001b[0m\u001b[0m_sslobj\u001b[0m\u001b[0;34m.\u001b[0m\u001b[0mread\u001b[0m\u001b[0;34m(\u001b[0m\u001b[0mlen\u001b[0m\u001b[0;34m)\u001b[0m\u001b[0;34m\u001b[0m\u001b[0;34m\u001b[0m\u001b[0m\n",
            "\u001b[0;31mKeyboardInterrupt\u001b[0m: "
          ]
        }
      ]
    },
    {
      "cell_type": "code",
      "metadata": {
        "colab": {
          "base_uri": "https://localhost:8080/"
        },
        "id": "J59GKt1ZvK96",
        "outputId": "be98ad37-250a-4d8f-ae22-3764e651c1ae"
      },
      "source": [
        "import pybithumb\n",
        " \n",
        "detail = pybithumb.get_market_detail(\"BTC\")\n",
        "print(detail)"
      ],
      "execution_count": 7,
      "outputs": [
        {
          "output_type": "stream",
          "name": "stdout",
          "text": [
            "(54773000.0, 55056000.0, 50700000.0, 52341000.0, 3320.95128948)\n"
          ]
        }
      ]
    },
    {
      "cell_type": "code",
      "metadata": {
        "colab": {
          "base_uri": "https://localhost:8080/"
        },
        "id": "tpzA3aD4vTNW",
        "outputId": "f8e187c8-f56e-49ac-b71a-55c60a151af4"
      },
      "source": [
        "import pybithumb\n",
        " \n",
        "orderbook = pybithumb.get_orderbook(\"BTC\")\n",
        "print(orderbook)\n",
        " \n",
        "for k in orderbook:\n",
        "    print(k)"
      ],
      "execution_count": 8,
      "outputs": [
        {
          "output_type": "stream",
          "name": "stdout",
          "text": [
            "{'timestamp': '1632234226350', 'payment_currency': 'KRW', 'order_currency': 'BTC', 'bids': [{'price': 52227000.0, 'quantity': 0.0013}, {'price': 52223000.0, 'quantity': 0.4166}, {'price': 52222000.0, 'quantity': 0.0048}, {'price': 52220000.0, 'quantity': 0.0023}, {'price': 52211000.0, 'quantity': 0.0436}], 'asks': [{'price': 52230000.0, 'quantity': 3.8065}, {'price': 52253000.0, 'quantity': 0.0466}, {'price': 52263000.0, 'quantity': 0.9099}, {'price': 52266000.0, 'quantity': 0.0171}, {'price': 52267000.0, 'quantity': 0.0402}]}\n",
            "timestamp\n",
            "payment_currency\n",
            "order_currency\n",
            "bids\n",
            "asks\n"
          ]
        }
      ]
    },
    {
      "cell_type": "code",
      "metadata": {
        "colab": {
          "base_uri": "https://localhost:8080/"
        },
        "id": "NHld6UtCvb5n",
        "outputId": "977e8ce4-4ae2-4187-9bd7-47dafde6f926"
      },
      "source": [
        "print(orderbook['payment_currency'])"
      ],
      "execution_count": 10,
      "outputs": [
        {
          "output_type": "stream",
          "name": "stdout",
          "text": [
            "KRW\n"
          ]
        }
      ]
    },
    {
      "cell_type": "code",
      "metadata": {
        "colab": {
          "base_uri": "https://localhost:8080/"
        },
        "id": "qwtfyctgvftq",
        "outputId": "52d05a12-ed13-4f5f-9ba1-c2533eab1711"
      },
      "source": [
        "print(orderbook['order_currency'])"
      ],
      "execution_count": 11,
      "outputs": [
        {
          "output_type": "stream",
          "name": "stdout",
          "text": [
            "BTC\n"
          ]
        }
      ]
    },
    {
      "cell_type": "code",
      "metadata": {
        "colab": {
          "base_uri": "https://localhost:8080/"
        },
        "id": "NbEJAbdAvi9Y",
        "outputId": "bceec982-4a96-407b-bfd8-723c8cd15774"
      },
      "source": [
        "import pybithumb\n",
        "import datetime\n",
        "\n",
        "orderbook = pybithumb.get_orderbook(\"BTC\")\n",
        "ms = int(orderbook[\"timestamp\"])\n",
        "\n",
        "dt = datetime.datetime.fromtimestamp(ms/1000)\n",
        "print(dt)"
      ],
      "execution_count": 13,
      "outputs": [
        {
          "output_type": "stream",
          "name": "stdout",
          "text": [
            "2021-09-21 14:24:36.354000\n"
          ]
        }
      ]
    },
    {
      "cell_type": "code",
      "metadata": {
        "colab": {
          "base_uri": "https://localhost:8080/"
        },
        "id": "ioo-RlBWvl4N",
        "outputId": "f712cf9d-2b0b-4399-fdc7-d1a436262928"
      },
      "source": [
        "import pybithumb\n",
        " \n",
        "orderbook = pybithumb.get_orderbook(\"BTC\")\n",
        "bids = orderbook['bids']\n",
        "asks = orderbook['asks']\n",
        "print(bids)\n",
        "print(asks)"
      ],
      "execution_count": 14,
      "outputs": [
        {
          "output_type": "stream",
          "name": "stdout",
          "text": [
            "[{'price': 52264000.0, 'quantity': 0.0476}, {'price': 52262000.0, 'quantity': 0.112}, {'price': 52261000.0, 'quantity': 0.0424}, {'price': 52259000.0, 'quantity': 0.91}, {'price': 52255000.0, 'quantity': 0.0095}]\n",
            "[{'price': 52299000.0, 'quantity': 0.3252}, {'price': 52312000.0, 'quantity': 0.0099}, {'price': 52318000.0, 'quantity': 0.91}, {'price': 52320000.0, 'quantity': 0.0432}, {'price': 52322000.0, 'quantity': 0.0092}]\n"
          ]
        }
      ]
    },
    {
      "cell_type": "code",
      "metadata": {
        "colab": {
          "base_uri": "https://localhost:8080/"
        },
        "id": "Mf5fl3Lhvq0A",
        "outputId": "bca89bf8-07ba-4eb9-8c98-eca7cf27caae"
      },
      "source": [
        "import pybithumb\n",
        " \n",
        "orderbook = pybithumb.get_orderbook(\"BTC\")\n",
        "bids = orderbook['bids']\n",
        " \n",
        "for bid in bids:\n",
        "    print(bid)"
      ],
      "execution_count": 15,
      "outputs": [
        {
          "output_type": "stream",
          "name": "stdout",
          "text": [
            "{'price': 52273000.0, 'quantity': 0.119}\n",
            "{'price': 52272000.0, 'quantity': 0.91}\n",
            "{'price': 52271000.0, 'quantity': 0.1119}\n",
            "{'price': 52259000.0, 'quantity': 0.0095}\n",
            "{'price': 52257000.0, 'quantity': 0.047}\n"
          ]
        }
      ]
    },
    {
      "cell_type": "code",
      "metadata": {
        "colab": {
          "base_uri": "https://localhost:8080/"
        },
        "id": "hC9O-NfIvthx",
        "outputId": "b6a1da4c-16e8-4dec-f48f-c4d195813770"
      },
      "source": [
        "import pybithumb\n",
        " \n",
        "orderbook = pybithumb.get_orderbook(\"BTC\")\n",
        "bids = orderbook['bids']\n",
        " \n",
        "for bid in bids:\n",
        "    price = bid['price']\n",
        "    quant = bid['quantity']\n",
        "    print(\"매수호가: \", price, \"매수잔량: \", quant)"
      ],
      "execution_count": 16,
      "outputs": [
        {
          "output_type": "stream",
          "name": "stdout",
          "text": [
            "매수호가:  52274000.0 매수잔량:  0.1119\n",
            "매수호가:  52273000.0 매수잔량:  0.0489\n",
            "매수호가:  52272000.0 매수잔량:  0.8942\n",
            "매수호가:  52270000.0 매수잔량:  0.0089\n",
            "매수호가:  52259000.0 매수잔량:  0.559\n"
          ]
        }
      ]
    },
    {
      "cell_type": "code",
      "metadata": {
        "colab": {
          "base_uri": "https://localhost:8080/"
        },
        "id": "5NP0KYKWvwhL",
        "outputId": "908a2292-a007-409c-9c6f-8ca304569f3c"
      },
      "source": [
        "import pybithumb\n",
        " \n",
        "all = pybithumb.get_current_price(\"ALL\") \n",
        "for k, v in all.items():\n",
        "    print(k, v)"
      ],
      "execution_count": 17,
      "outputs": [
        {
          "output_type": "stream",
          "name": "stdout",
          "text": [
            "BTC {'opening_price': '54773000', 'closing_price': '52346000', 'min_price': '50700000', 'max_price': '55056000', 'units_traded': '3328.36592609', 'acc_trade_value': '177457108933.275', 'prev_closing_price': '54772000', 'units_traded_24H': '3378.42204064', 'acc_trade_value_24H': '180201434928.2719', 'fluctate_24H': '-2376000', 'fluctate_rate_24H': '-4.34'}\n",
            "ETH {'opening_price': '3825000', 'closing_price': '3690000', 'min_price': '3537000', 'max_price': '3889000', 'units_traded': '43849.10162018', 'acc_trade_value': '163697704917.3513', 'prev_closing_price': '3827000', 'units_traded_24H': '44539.15744984', 'acc_trade_value_24H': '166339575235.6513', 'fluctate_24H': '-131000', 'fluctate_rate_24H': '-3.43'}\n",
            "LTC {'opening_price': '200700', 'closing_price': '193600', 'min_price': '188100', 'max_price': '204500', 'units_traded': '148968.33199294', 'acc_trade_value': '29513402179.6192', 'prev_closing_price': '200700', 'units_traded_24H': '156240.11845857', 'acc_trade_value_24H': '30973733843.5468', 'fluctate_24H': '-6800', 'fluctate_rate_24H': '-3.39'}\n",
            "ETC {'opening_price': '62450', 'closing_price': '60250', 'min_price': '58200', 'max_price': '64000', 'units_traded': '355787.97348095', 'acc_trade_value': '21757849772.1374', 'prev_closing_price': '62500', 'units_traded_24H': '362062.88819822', 'acc_trade_value_24H': '22149639527.0724', 'fluctate_24H': '-2050', 'fluctate_rate_24H': '-3.29'}\n",
            "XRP {'opening_price': '1163', 'closing_price': '1142', 'min_price': '1090', 'max_price': '1200', 'units_traded': '104072628.60888178', 'acc_trade_value': '120245441755.4712', 'prev_closing_price': '1164', 'units_traded_24H': '107052591.03918467', 'acc_trade_value_24H': '123720856476.0914', 'fluctate_24H': '-20', 'fluctate_rate_24H': '-1.72'}\n",
            "BCH {'opening_price': '686000', 'closing_price': '660000', 'min_price': '643000', 'max_price': '692500', 'units_traded': '15418.48392067', 'acc_trade_value': '10334878245.5213', 'prev_closing_price': '686500', 'units_traded_24H': '15587.84131125', 'acc_trade_value_24H': '10451011796.609', 'fluctate_24H': '-24500', 'fluctate_rate_24H': '-3.58'}\n",
            "QTUM {'opening_price': '13300', 'closing_price': '12630', 'min_price': '12050', 'max_price': '13760', 'units_traded': '831411.7957715', 'acc_trade_value': '10692171911.8371', 'prev_closing_price': '13310', 'units_traded_24H': '842299.4492316', 'acc_trade_value_24H': '10836961525.1339', 'fluctate_24H': '-610', 'fluctate_rate_24H': '-4.61'}\n",
            "BTG {'opening_price': '70250', 'closing_price': '66900', 'min_price': '64950', 'max_price': '72000', 'units_traded': '86898.94712216', 'acc_trade_value': '5942305850.1728', 'prev_closing_price': '70250', 'units_traded_24H': '88067.46698972', 'acc_trade_value_24H': '6024619173.0022', 'fluctate_24H': '-3650', 'fluctate_rate_24H': '-5.17'}\n",
            "EOS {'opening_price': '5435', 'closing_price': '5110', 'min_price': '4877', 'max_price': '5515', 'units_traded': '5109378.54860629', 'acc_trade_value': '26568238667.0684', 'prev_closing_price': '5435', 'units_traded_24H': '5234197.55454576', 'acc_trade_value_24H': '27248869074.8967', 'fluctate_24H': '-320', 'fluctate_rate_24H': '-5.89'}\n",
            "ICX {'opening_price': '2017', 'closing_price': '1984', 'min_price': '1902', 'max_price': '2217', 'units_traded': '1399717.04925329', 'acc_trade_value': '2879728271.3254', 'prev_closing_price': '2023', 'units_traded_24H': '1407761.55516413', 'acc_trade_value_24H': '2896007745.9305', 'fluctate_24H': '-34', 'fluctate_rate_24H': '-1.68'}\n",
            "TRX {'opening_price': '117.9', 'closing_price': '114.2', 'min_price': '109.2', 'max_price': '119.4', 'units_traded': '113271123.92513205', 'acc_trade_value': '12997500210.4925', 'prev_closing_price': '117.8', 'units_traded_24H': '116486827.35937115', 'acc_trade_value_24H': '13376442564.9479', 'fluctate_24H': '-3.2', 'fluctate_rate_24H': '-2.73'}\n",
            "ELF {'opening_price': '964.9', 'closing_price': '979.8', 'min_price': '882', 'max_price': '1231', 'units_traded': '5658225.19182528', 'acc_trade_value': '6074260567.7398', 'prev_closing_price': '964.9', 'units_traded_24H': '5726446.47464504', 'acc_trade_value_24H': '6138126417.2555', 'fluctate_24H': '48.8', 'fluctate_rate_24H': '5.24'}\n",
            "OMG {'opening_price': '12580', 'closing_price': '12270', 'min_price': '11840', 'max_price': '14340', 'units_traded': '3139411.21075266', 'acc_trade_value': '41678512735.5079', 'prev_closing_price': '12580', 'units_traded_24H': '3466755.87230531', 'acc_trade_value_24H': '45774286045.3789', 'fluctate_24H': '690', 'fluctate_rate_24H': '5.96'}\n",
            "KNC {'opening_price': '1910', 'closing_price': '1837', 'min_price': '1761', 'max_price': '1955', 'units_traded': '534875.62750875', 'acc_trade_value': '1002975646.1736', 'prev_closing_price': '1912', 'units_traded_24H': '551697.48990875', 'acc_trade_value_24H': '1035162820.5784', 'fluctate_24H': '-71', 'fluctate_rate_24H': '-3.72'}\n",
            "GLM {'opening_price': '637.8', 'closing_price': '566.2', 'min_price': '543.6', 'max_price': '641.8', 'units_traded': '3473439.3173865', 'acc_trade_value': '2054021610.5147', 'prev_closing_price': '639.9', 'units_traded_24H': '3821661.09965814', 'acc_trade_value_24H': '2275208211.1836', 'fluctate_24H': '-48.6', 'fluctate_rate_24H': '-7.91'}\n",
            "ZIL {'opening_price': '112.3', 'closing_price': '108.8', 'min_price': '102.1', 'max_price': '113.8', 'units_traded': '5728724.18539036', 'acc_trade_value': '621764553.7706', 'prev_closing_price': '112.6', 'units_traded_24H': '5812084.31330482', 'acc_trade_value_24H': '631139779.1187', 'fluctate_24H': '-3.1', 'fluctate_rate_24H': '-2.77'}\n",
            "WAXP {'opening_price': '291.6', 'closing_price': '272.3', 'min_price': '262.2', 'max_price': '298.4', 'units_traded': '10559229.89095869', 'acc_trade_value': '2984855821.1055', 'prev_closing_price': '291.8', 'units_traded_24H': '11074806.42642658', 'acc_trade_value_24H': '3135560481.1516', 'fluctate_24H': '-17.9', 'fluctate_rate_24H': '-6.17'}\n",
            "POWR {'opening_price': '409.4', 'closing_price': '383.1', 'min_price': '367', 'max_price': '432.5', 'units_traded': '5499348.80177263', 'acc_trade_value': '2185200324.1558', 'prev_closing_price': '410.2', 'units_traded_24H': '5580252.24365038', 'acc_trade_value_24H': '2218270814.7571', 'fluctate_24H': '-23.8', 'fluctate_rate_24H': '-5.85'}\n",
            "LRC {'opening_price': '511.9', 'closing_price': '489.7', 'min_price': '479.1', 'max_price': '518', 'units_traded': '1291254.8169588', 'acc_trade_value': '645163068.5545', 'prev_closing_price': '509.4', 'units_traded_24H': '1311305.11959302', 'acc_trade_value_24H': '655377691.6114', 'fluctate_24H': '-18.6', 'fluctate_rate_24H': '-3.66'}\n",
            "STEEM {'opening_price': '658.1', 'closing_price': '610', 'min_price': '595', 'max_price': '670', 'units_traded': '2058047.14446198', 'acc_trade_value': '1304935452.0054', 'prev_closing_price': '658.3', 'units_traded_24H': '2114139.99316367', 'acc_trade_value_24H': '1341908174.2297', 'fluctate_24H': '-47.4', 'fluctate_rate_24H': '-7.21'}\n",
            "STRAX {'opening_price': '2648', 'closing_price': '2578', 'min_price': '2378', 'max_price': '2765', 'units_traded': '399199.93925023', 'acc_trade_value': '1032352070.8795', 'prev_closing_price': '2653', 'units_traded_24H': '420771.37547917', 'acc_trade_value_24H': '1089273918.4782', 'fluctate_24H': '-57', 'fluctate_rate_24H': '-2.16'}\n",
            "ZRX {'opening_price': '1156', 'closing_price': '1126', 'min_price': '1079', 'max_price': '1187', 'units_traded': '320320.83325431', 'acc_trade_value': '364338270.3701', 'prev_closing_price': '1170', 'units_traded_24H': '324428.99425517', 'acc_trade_value_24H': '369136217.0482', 'fluctate_24H': '-47', 'fluctate_rate_24H': '-4.01'}\n",
            "REP {'opening_price': '27380', 'closing_price': '25880', 'min_price': '25180', 'max_price': '28130', 'units_traded': '71228.50960888', 'acc_trade_value': '1901035101.9099', 'prev_closing_price': '27430', 'units_traded_24H': '72985.65200523', 'acc_trade_value_24H': '1949106913.4089', 'fluctate_24H': '-1390', 'fluctate_rate_24H': '-5.1'}\n",
            "XEM {'opening_price': '198.6', 'closing_price': '189.6', 'min_price': '180', 'max_price': '201.6', 'units_traded': '17017601.14859019', 'acc_trade_value': '3271502148.4336', 'prev_closing_price': '199.5', 'units_traded_24H': '17570960.39527051', 'acc_trade_value_24H': '3381586805.9396', 'fluctate_24H': '-8.9', 'fluctate_rate_24H': '-4.48'}\n",
            "SNT {'opening_price': '99.5', 'closing_price': '93.39', 'min_price': '89.3', 'max_price': '103', 'units_traded': '11494365.15440965', 'acc_trade_value': '1117155041.9246', 'prev_closing_price': '99.5', 'units_traded_24H': '11837824.22165384', 'acc_trade_value_24H': '1151317206.2606', 'fluctate_24H': '-5.51', 'fluctate_rate_24H': '-5.57'}\n",
            "ADA {'opening_price': '2690', 'closing_price': '2620', 'min_price': '2478', 'max_price': '2721', 'units_traded': '17648856.92597517', 'acc_trade_value': '46293314912.4171', 'prev_closing_price': '2693', 'units_traded_24H': '18006273.44336064', 'acc_trade_value_24H': '47251709287.4466', 'fluctate_24H': '-48', 'fluctate_rate_24H': '-1.8'}\n",
            "CTXC {'opening_price': '287.1', 'closing_price': '334.9', 'min_price': '261.6', 'max_price': '410', 'units_traded': '35318080.29812007', 'acc_trade_value': '12117122228.6349', 'prev_closing_price': '288.7', 'units_traded_24H': '35474402.10003554', 'acc_trade_value_24H': '12161635400.1505', 'fluctate_24H': '58', 'fluctate_rate_24H': '20.95'}\n",
            "BAT {'opening_price': '828.1', 'closing_price': '803.1', 'min_price': '780', 'max_price': '854.7', 'units_traded': '458217.19518198', 'acc_trade_value': '372724378.8913', 'prev_closing_price': '830.4', 'units_traded_24H': '458735.74760013', 'acc_trade_value_24H': '373154792.6163', 'fluctate_24H': '-27', 'fluctate_rate_24H': '-3.25'}\n",
            "WTC {'opening_price': '1226', 'closing_price': '1104', 'min_price': '1051', 'max_price': '1228', 'units_traded': '445503.87361719', 'acc_trade_value': '507175202.8979', 'prev_closing_price': '1227', 'units_traded_24H': '457560.09628056', 'acc_trade_value_24H': '521981157.9488', 'fluctate_24H': '-124', 'fluctate_rate_24H': '-10.1'}\n",
            "THETA {'opening_price': '6620', 'closing_price': '6420', 'min_price': '5910', 'max_price': '6710', 'units_traded': '360354.13762115', 'acc_trade_value': '2315155955.4244', 'prev_closing_price': '6635', 'units_traded_24H': '365698.90304784', 'acc_trade_value_24H': '2350654748.3319', 'fluctate_24H': '-235', 'fluctate_rate_24H': '-3.53'}\n",
            "LOOM {'opening_price': '154', 'closing_price': '144.9', 'min_price': '135', 'max_price': '199.7', 'units_traded': '33501737.29943607', 'acc_trade_value': '5507860780.5426', 'prev_closing_price': '154', 'units_traded_24H': '33770130.07751351', 'acc_trade_value_24H': '5548429701.4172', 'fluctate_24H': '-4.8', 'fluctate_rate_24H': '-3.21'}\n",
            "WAVES {'opening_price': '29950', 'closing_price': '29020', 'min_price': '27110', 'max_price': '31510', 'units_traded': '40772.80745267', 'acc_trade_value': '1205493198.8869', 'prev_closing_price': '29900', 'units_traded_24H': '41529.04653312', 'acc_trade_value_24H': '1228081550.5347', 'fluctate_24H': '-840', 'fluctate_rate_24H': '-2.81'}\n",
            "TRUE {'opening_price': '177.3', 'closing_price': '173.7', 'min_price': '170', 'max_price': '200.5', 'units_traded': '2485605.39227712', 'acc_trade_value': '459475864.5781', 'prev_closing_price': '177.2', 'units_traded_24H': '2497956.44073504', 'acc_trade_value_24H': '461654100.8674', 'fluctate_24H': '-4', 'fluctate_rate_24H': '-2.25'}\n",
            "LINK {'opening_price': '30510', 'closing_price': '28790', 'min_price': '27900', 'max_price': '31020', 'units_traded': '532104.9470746', 'acc_trade_value': '15633003446.1949', 'prev_closing_price': '30510', 'units_traded_24H': '541894.76670875', 'acc_trade_value_24H': '15932317536.5389', 'fluctate_24H': '-1680', 'fluctate_rate_24H': '-5.51'}\n",
            "ENJ {'opening_price': '1752', 'closing_price': '1670', 'min_price': '1573', 'max_price': '1790', 'units_traded': '1242672.71753573', 'acc_trade_value': '2086673099.1279', 'prev_closing_price': '1757', 'units_traded_24H': '1287596.1646949', 'acc_trade_value_24H': '2165713606.956', 'fluctate_24H': '-81', 'fluctate_rate_24H': '-4.63'}\n",
            "VET {'opening_price': '119.3', 'closing_price': '115.9', 'min_price': '109.3', 'max_price': '120.9', 'units_traded': '40723839.84504912', 'acc_trade_value': '4712200326.1552', 'prev_closing_price': '119.6', 'units_traded_24H': '41335541.46888808', 'acc_trade_value_24H': '4785461079.774', 'fluctate_24H': '-3.7', 'fluctate_rate_24H': '-3.09'}\n",
            "MTL {'opening_price': '3887', 'closing_price': '3729', 'min_price': '3461', 'max_price': '4329', 'units_traded': '2090919.79800909', 'acc_trade_value': '8080243037.466', 'prev_closing_price': '3887', 'units_traded_24H': '2158198.26295832', 'acc_trade_value_24H': '8340791708.7833', 'fluctate_24H': '-128', 'fluctate_rate_24H': '-3.32'}\n",
            "IOST {'opening_price': '72.51', 'closing_price': '70.35', 'min_price': '63.94', 'max_price': '75.32', 'units_traded': '80532665.68032695', 'acc_trade_value': '5660771498.7607', 'prev_closing_price': '72.68', 'units_traded_24H': '81408388.71113005', 'acc_trade_value_24H': '5724484149.1928', 'fluctate_24H': '-2.24', 'fluctate_rate_24H': '-3.09'}\n",
            "TMTG {'opening_price': '2.591', 'closing_price': '2.447', 'min_price': '2.415', 'max_price': '2.596', 'units_traded': '191344262.31526404', 'acc_trade_value': '478284367.7853', 'prev_closing_price': '2.587', 'units_traded_24H': '195434125.70508793', 'acc_trade_value_24H': '488878212.7863', 'fluctate_24H': '-0.14', 'fluctate_rate_24H': '-5.67'}\n",
            "QKC {'opening_price': '23.98', 'closing_price': '22.2', 'min_price': '21', 'max_price': '24', 'units_traded': '43331779.06144203', 'acc_trade_value': '983858860.3141', 'prev_closing_price': '23.95', 'units_traded_24H': '43897831.1020087', 'acc_trade_value_24H': '997413450.7667', 'fluctate_24H': '-1.63', 'fluctate_rate_24H': '-6.84'}\n",
            "HDAC {'opening_price': '137.8', 'closing_price': '128.7', 'min_price': '118.9', 'max_price': '149.9', 'units_traded': '103361943.10353625', 'acc_trade_value': '13923116662.2486', 'prev_closing_price': '137.8', 'units_traded_24H': '108878012.46329739', 'acc_trade_value_24H': '14681485318.3719', 'fluctate_24H': '-6', 'fluctate_rate_24H': '-4.45'}\n",
            "AMO {'opening_price': '2.724', 'closing_price': '2.526', 'min_price': '2.487', 'max_price': '2.755', 'units_traded': '304818681.59388023', 'acc_trade_value': '792939327.869', 'prev_closing_price': '2.725', 'units_traded_24H': '326472883.19452639', 'acc_trade_value_24H': '851816619.1661', 'fluctate_24H': '-0.19', 'fluctate_rate_24H': '-7.1'}\n",
            "BSV {'opening_price': '171500', 'closing_price': '179100', 'min_price': '161300', 'max_price': '187100', 'units_traded': '14355.06701698', 'acc_trade_value': '2493436261.9686', 'prev_closing_price': '171700', 'units_traded_24H': '14464.33690194', 'acc_trade_value_24H': '2512258481.4373', 'fluctate_24H': '6700', 'fluctate_rate_24H': '3.89'}\n",
            "DAC {'opening_price': '2.423', 'closing_price': '2.419', 'min_price': '2.267', 'max_price': '2.731', 'units_traded': '1208978689.83069931', 'acc_trade_value': '2960157244.3373', 'prev_closing_price': '2.422', 'units_traded_24H': '1261178491.04758375', 'acc_trade_value_24H': '3087890811.9052', 'fluctate_24H': '-0.11', 'fluctate_rate_24H': '-4.46'}\n",
            "ORBS {'opening_price': '147', 'closing_price': '133.5', 'min_price': '129', 'max_price': '147.6', 'units_traded': '14129903.75074872', 'acc_trade_value': '1953164657.7628', 'prev_closing_price': '147.2', 'units_traded_24H': '14282408.34815291', 'acc_trade_value_24H': '1975644917.6313', 'fluctate_24H': '-13.6', 'fluctate_rate_24H': '-9.25'}\n",
            "TFUEL {'opening_price': '332', 'closing_price': '320.7', 'min_price': '307', 'max_price': '339.6', 'units_traded': '10717028.52410678', 'acc_trade_value': '3506285859.8006', 'prev_closing_price': '332.7', 'units_traded_24H': '11146063.55040978', 'acc_trade_value_24H': '3649396295.098', 'fluctate_24H': '-11.8', 'fluctate_rate_24H': '-3.55'}\n",
            "VALOR {'opening_price': '455.5', 'closing_price': '436', 'min_price': '423.5', 'max_price': '485', 'units_traded': '280352.29449899', 'acc_trade_value': '125305444.1828', 'prev_closing_price': '456', 'units_traded_24H': '301669.07772599', 'acc_trade_value_24H': '134932871.5122', 'fluctate_24H': '-13', 'fluctate_rate_24H': '-2.9'}\n",
            "CON {'opening_price': '2.841', 'closing_price': '2.609', 'min_price': '2.458', 'max_price': '3.34', 'units_traded': '297206899.57979535', 'acc_trade_value': '843047669.1392', 'prev_closing_price': '2.821', 'units_traded_24H': '298468361.29239535', 'acc_trade_value_24H': '846616763.2872', 'fluctate_24H': '-0.23', 'fluctate_rate_24H': '-8.17'}\n",
            "ANKR {'opening_price': '102.8', 'closing_price': '101.5', 'min_price': '94.61', 'max_price': '104.8', 'units_traded': '11061846.80404855', 'acc_trade_value': '1121908108.1314', 'prev_closing_price': '103.1', 'units_traded_24H': '11551828.6296696', 'acc_trade_value_24H': '1172548651.4583', 'fluctate_24H': '-1.7', 'fluctate_rate_24H': '-1.65'}\n",
            "MIX {'opening_price': '7.219', 'closing_price': '6.078', 'min_price': '5.602', 'max_price': '7.297', 'units_traded': '925694993.69157166', 'acc_trade_value': '5761591691.4705', 'prev_closing_price': '7.297', 'units_traded_24H': '978025703.43702416', 'acc_trade_value_24H': '6136238015.3198', 'fluctate_24H': '-1.02', 'fluctate_rate_24H': '-14.41'}\n",
            "CRO {'opening_price': '191', 'closing_price': '186.8', 'min_price': '177.9', 'max_price': '193.5', 'units_traded': '3559932.96270795', 'acc_trade_value': '661118507.8862', 'prev_closing_price': '191', 'units_traded_24H': '3611914.14431595', 'acc_trade_value_24H': '671078983.8894', 'fluctate_24H': '-4.8', 'fluctate_rate_24H': '-2.51'}\n",
            "FX {'opening_price': '976.3', 'closing_price': '944.6', 'min_price': '855', 'max_price': '1006', 'units_traded': '1516025.74285927', 'acc_trade_value': '1432550182.6941', 'prev_closing_price': '976.3', 'units_traded_24H': '1536875.32853819', 'acc_trade_value_24H': '1453016313.8033', 'fluctate_24H': '-47.6', 'fluctate_rate_24H': '-4.8'}\n",
            "CHR {'opening_price': '359', 'closing_price': '332.9', 'min_price': '319.2', 'max_price': '367.6', 'units_traded': '1769200.52705698', 'acc_trade_value': '600603136.2251', 'prev_closing_price': '361.1', 'units_traded_24H': '1776462.49797295', 'acc_trade_value_24H': '603213767.3512', 'fluctate_24H': '-28.3', 'fluctate_rate_24H': '-7.83'}\n",
            "MBL {'opening_price': '10.59', 'closing_price': '10.05', 'min_price': '9.586', 'max_price': '10.71', 'units_traded': '113322491.93680443', 'acc_trade_value': '1155573517.406', 'prev_closing_price': '10.59', 'units_traded_24H': '115913861.89516284', 'acc_trade_value_24H': '1183050093.6435', 'fluctate_24H': '-0.57', 'fluctate_rate_24H': '-5.37'}\n",
            "MXC {'opening_price': '37.81', 'closing_price': '38.26', 'min_price': '35', 'max_price': '42.74', 'units_traded': '8572291.25451084', 'acc_trade_value': '328975069.2648', 'prev_closing_price': '37.94', 'units_traded_24H': '8600715.45457539', 'acc_trade_value_24H': '330048124.7338', 'fluctate_24H': '1.04', 'fluctate_rate_24H': '2.79'}\n",
            "FCT {'opening_price': '189.7', 'closing_price': '176.2', 'min_price': '169.1', 'max_price': '195.1', 'units_traded': '3077570.72935912', 'acc_trade_value': '554264589.3998', 'prev_closing_price': '190.4', 'units_traded_24H': '3130849.17449516', 'acc_trade_value_24H': '564424318.216', 'fluctate_24H': '-13.6', 'fluctate_rate_24H': '-7.17'}\n",
            "TRV {'opening_price': '18.9', 'closing_price': '17.83', 'min_price': '17.46', 'max_price': '18.92', 'units_traded': '28088047.95621707', 'acc_trade_value': '508621210.234', 'prev_closing_price': '19.06', 'units_traded_24H': '28340468.4196331', 'acc_trade_value_24H': '513417678.0938', 'fluctate_24H': '-0.93', 'fluctate_rate_24H': '-4.96'}\n",
            "DAD {'opening_price': '253.4', 'closing_price': '242.5', 'min_price': '222.6', 'max_price': '255.2', 'units_traded': '409838.26650775', 'acc_trade_value': '99243969.0816', 'prev_closing_price': '255.7', 'units_traded_24H': '430755.77297082', 'acc_trade_value_24H': '104589835.2811', 'fluctate_24H': '-9.6', 'fluctate_rate_24H': '-3.81'}\n",
            "WOM {'opening_price': '160.4', 'closing_price': '163', 'min_price': '153', 'max_price': '199', 'units_traded': '7669601.48950287', 'acc_trade_value': '1311739553.8939', 'prev_closing_price': '160', 'units_traded_24H': '7681144.92151753', 'acc_trade_value_24H': '1313578684.0414', 'fluctate_24H': '3', 'fluctate_rate_24H': '1.88'}\n",
            "SOC {'opening_price': '29.85', 'closing_price': '27.04', 'min_price': '26.5', 'max_price': '29.96', 'units_traded': '64076445.26747056', 'acc_trade_value': '1779347776.7444', 'prev_closing_price': '29.75', 'units_traded_24H': '65829179.95741594', 'acc_trade_value_24H': '1831440460.993', 'fluctate_24H': '-2.68', 'fluctate_rate_24H': '-9.02'}\n",
            "EM {'opening_price': '6.273', 'closing_price': '6.001', 'min_price': '5.752', 'max_price': '8.307', 'units_traded': '769729376.39780711', 'acc_trade_value': '5269040031.4172', 'prev_closing_price': '6.273', 'units_traded_24H': '797317128.1206122', 'acc_trade_value_24H': '5447026384.7822', 'fluctate_24H': '-0.22', 'fluctate_rate_24H': '-3.63'}\n",
            "BOA {'opening_price': '119.1', 'closing_price': '116.2', 'min_price': '112.7', 'max_price': '125', 'units_traded': '1604680.2016655', 'acc_trade_value': '189524838.4361', 'prev_closing_price': '120.5', 'units_traded_24H': '1892314.4795874', 'acc_trade_value_24H': '223947962.5622', 'fluctate_24H': '-3.4', 'fluctate_rate_24H': '-2.84'}\n",
            "FLETA {'opening_price': '13.77', 'closing_price': '13.02', 'min_price': '12.42', 'max_price': '14.04', 'units_traded': '44695111.93461658', 'acc_trade_value': '584223557.369', 'prev_closing_price': '13.73', 'units_traded_24H': '45649313.2595853', 'acc_trade_value_24H': '596930230.7741', 'fluctate_24H': '-0.12', 'fluctate_rate_24H': '-0.91'}\n",
            "SXP {'opening_price': '2761', 'closing_price': '2664', 'min_price': '2509', 'max_price': '2798', 'units_traded': '2296532.86726513', 'acc_trade_value': '6169151690.5506', 'prev_closing_price': '2761', 'units_traded_24H': '2344599.75002879', 'acc_trade_value_24H': '6301734332.5619', 'fluctate_24H': '-92', 'fluctate_rate_24H': '-3.34'}\n",
            "COS {'opening_price': '25.92', 'closing_price': '24.07', 'min_price': '23', 'max_price': '27.52', 'units_traded': '44842256.49529595', 'acc_trade_value': '1138259605.4444', 'prev_closing_price': '25.93', 'units_traded_24H': '46818977.57399595', 'acc_trade_value_24H': '1189078227.9276', 'fluctate_24H': '-1.42', 'fluctate_rate_24H': '-5.57'}\n",
            "APIX {'opening_price': '71', 'closing_price': '68.58', 'min_price': '65', 'max_price': '71.59', 'units_traded': '2623991.17278565', 'acc_trade_value': '180022311.2187', 'prev_closing_price': '71', 'units_traded_24H': '2663581.40563701', 'acc_trade_value_24H': '182848176.9515', 'fluctate_24H': '-2.42', 'fluctate_rate_24H': '-3.41'}\n",
            "EL {'opening_price': '8.783', 'closing_price': '8.024', 'min_price': '7.8', 'max_price': '10.98', 'units_traded': '498991374.36010083', 'acc_trade_value': '4725881000.6564', 'prev_closing_price': '8.783', 'units_traded_24H': '502631938.90944993', 'acc_trade_value_24H': '4757901111.3752', 'fluctate_24H': '-0.95', 'fluctate_rate_24H': '-10.65'}\n",
            "BASIC {'opening_price': '17.84', 'closing_price': '15.79', 'min_price': '15.6', 'max_price': '17.99', 'units_traded': '184356307.7238503', 'acc_trade_value': '3070976805.9347', 'prev_closing_price': '17.65', 'units_traded_24H': '192880607.22169895', 'acc_trade_value_24H': '3221253180.968', 'fluctate_24H': '-2.19', 'fluctate_rate_24H': '-12.18'}\n",
            "HIVE {'opening_price': '789.1', 'closing_price': '729.4', 'min_price': '704.4', 'max_price': '854', 'units_traded': '5537853.92703873', 'acc_trade_value': '4263143603.4053', 'prev_closing_price': '788.9', 'units_traded_24H': '5685007.1128713', 'acc_trade_value_24H': '4378676419.3811', 'fluctate_24H': '-52.8', 'fluctate_rate_24H': '-6.75'}\n",
            "XPR {'opening_price': '9.175', 'closing_price': '8.48', 'min_price': '7.934', 'max_price': '9.499', 'units_traded': '132364959.12747215', 'acc_trade_value': '1128455320.2581', 'prev_closing_price': '9.175', 'units_traded_24H': '134088270.68481017', 'acc_trade_value_24H': '1144182425.8175', 'fluctate_24H': '-0.63', 'fluctate_rate_24H': '-7.01'}\n",
            "VRA {'opening_price': '39.94', 'closing_price': '37.27', 'min_price': '33.75', 'max_price': '43.8', 'units_traded': '178853636.07778649', 'acc_trade_value': '6709582101.9196', 'prev_closing_price': '39.96', 'units_traded_24H': '182882802.28208111', 'acc_trade_value_24H': '6871799729.1704', 'fluctate_24H': '-2.66', 'fluctate_rate_24H': '-6.66'}\n",
            "FIT {'opening_price': '1.282', 'closing_price': '1.251', 'min_price': '1.22', 'max_price': '1.346', 'units_traded': '535664366.82065363', 'acc_trade_value': '685843447.7178', 'prev_closing_price': '1.282', 'units_traded_24H': '556277239.68960398', 'acc_trade_value_24H': '712237622.2497', 'fluctate_24H': '-0.03', 'fluctate_rate_24H': '-3.02'}\n",
            "EGG {'opening_price': '6.088', 'closing_price': '5.289', 'min_price': '5', 'max_price': '7', 'units_traded': '218529049.58153518', 'acc_trade_value': '1224561096.6054', 'prev_closing_price': '5.999', 'units_traded_24H': '223390401.89974553', 'acc_trade_value_24H': '1253846054.1444', 'fluctate_24H': '-0.67', 'fluctate_rate_24H': '-11.29'}\n",
            "BORA {'opening_price': '207.2', 'closing_price': '193.9', 'min_price': '187.6', 'max_price': '209.2', 'units_traded': '6395294.65280266', 'acc_trade_value': '1294005307.844', 'prev_closing_price': '206.7', 'units_traded_24H': '6852737.19522053', 'acc_trade_value_24H': '1388588993.2223', 'fluctate_24H': '-13.3', 'fluctate_rate_24H': '-6.42'}\n",
            "ARPA {'opening_price': '88.21', 'closing_price': '83.88', 'min_price': '76.22', 'max_price': '93.77', 'units_traded': '7051074.04703442', 'acc_trade_value': '606242258.8015', 'prev_closing_price': '88.74', 'units_traded_24H': '7087861.59020979', 'acc_trade_value_24H': '609511005.1099', 'fluctate_24H': '-5', 'fluctate_rate_24H': '-5.63'}\n",
            "APM {'opening_price': '38.97', 'closing_price': '37.97', 'min_price': '36.05', 'max_price': '45', 'units_traded': '21893586.56096854', 'acc_trade_value': '894534252.9112', 'prev_closing_price': '39.13', 'units_traded_24H': '21898620.2112792', 'acc_trade_value_24H': '894732252.3825', 'fluctate_24H': '-1.52', 'fluctate_rate_24H': '-3.85'}\n",
            "CKB {'opening_price': '18.21', 'closing_price': '16.37', 'min_price': '15.54', 'max_price': '19.5', 'units_traded': '138497401.92027639', 'acc_trade_value': '2314360385.9043', 'prev_closing_price': '18.15', 'units_traded_24H': '139419231.27931327', 'acc_trade_value_24H': '2331116698.8661', 'fluctate_24H': '-1.92', 'fluctate_rate_24H': '-10.5'}\n",
            "AERGO {'opening_price': '369.7', 'closing_price': '326.7', 'min_price': '314.5', 'max_price': '388', 'units_traded': '16141434.46047459', 'acc_trade_value': '5600570579.9069', 'prev_closing_price': '368.6', 'units_traded_24H': '16480898.16791869', 'acc_trade_value_24H': '5724981976.1053', 'fluctate_24H': '-40.1', 'fluctate_rate_24H': '-10.93'}\n",
            "ANW {'opening_price': '44.77', 'closing_price': '43.7', 'min_price': '42.9', 'max_price': '46.59', 'units_traded': '127558929.23099001', 'acc_trade_value': '5624735406.0197', 'prev_closing_price': '44.93', 'units_traded_24H': '132504047.87127276', 'acc_trade_value_24H': '5846393748.5701', 'fluctate_24H': '-1.12', 'fluctate_rate_24H': '-2.5'}\n",
            "CENNZ {'opening_price': '123.4', 'closing_price': '94.55', 'min_price': '91.1', 'max_price': '138.9', 'units_traded': '30506846.42784056', 'acc_trade_value': '3157323337.7822', 'prev_closing_price': '122.6', 'units_traded_24H': '32243614.52966326', 'acc_trade_value_24H': '3370400657.6725', 'fluctate_24H': '-29.75', 'fluctate_rate_24H': '-23.93'}\n",
            "EVZ {'opening_price': '50.3', 'closing_price': '47.39', 'min_price': '46.02', 'max_price': '50.8', 'units_traded': '5239085.52959359', 'acc_trade_value': '252554375.5523', 'prev_closing_price': '50.3', 'units_traded_24H': '5336981.0589911', 'acc_trade_value_24H': '257458030.3264', 'fluctate_24H': '-2.31', 'fluctate_rate_24H': '-4.65'}\n",
            "CYCLUB {'opening_price': '29.72', 'closing_price': '30.5', 'min_price': '29.11', 'max_price': '33.98', 'units_traded': '26707171.33064776', 'acc_trade_value': '830800979.3881', 'prev_closing_price': '29.79', 'units_traded_24H': '26899505.7739478', 'acc_trade_value_24H': '836553088.5267', 'fluctate_24H': '0.7', 'fluctate_rate_24H': '2.35'}\n",
            "SRM {'opening_price': '10600', 'closing_price': '9675', 'min_price': '9300', 'max_price': '10730', 'units_traded': '1007736.83086673', 'acc_trade_value': '10105234150.8109', 'prev_closing_price': '10600', 'units_traded_24H': '1027930.71237849', 'acc_trade_value_24H': '10319533652.2167', 'fluctate_24H': '-865', 'fluctate_rate_24H': '-8.21'}\n",
            "QTCON {'opening_price': '15.3', 'closing_price': '14.4', 'min_price': '13.51', 'max_price': '15.99', 'units_traded': '36245044.27121691', 'acc_trade_value': '533447453.7056', 'prev_closing_price': '15.3', 'units_traded_24H': '36505833.25000012', 'acc_trade_value_24H': '537458864.5268', 'fluctate_24H': '-1.05', 'fluctate_rate_24H': '-6.8'}\n",
            "UNI {'opening_price': '26990', 'closing_price': '25780', 'min_price': '24420', 'max_price': '27500', 'units_traded': '1267471.17243818', 'acc_trade_value': '33361176879.9929', 'prev_closing_price': '27030', 'units_traded_24H': '1325036.11032427', 'acc_trade_value_24H': '34917731002.6339', 'fluctate_24H': '-1220', 'fluctate_rate_24H': '-4.52'}\n",
            "YFI {'opening_price': '37380000', 'closing_price': '36236000', 'min_price': '35168000', 'max_price': '38345000', 'units_traded': '76.92450325', 'acc_trade_value': '2818189768.7999', 'prev_closing_price': '37326000', 'units_traded_24H': '78.65128307', 'acc_trade_value_24H': '2882921629.3999', 'fluctate_24H': '-1296000', 'fluctate_rate_24H': '-3.45'}\n",
            "UMA {'opening_price': '12730', 'closing_price': '12860', 'min_price': '11810', 'max_price': '14700', 'units_traded': '186389.99012301', 'acc_trade_value': '2494065713.2224', 'prev_closing_price': '12720', 'units_traded_24H': '187152.35210121', 'acc_trade_value_24H': '2503750868.4524', 'fluctate_24H': '120', 'fluctate_rate_24H': '0.94'}\n",
            "AAVE {'opening_price': '374900', 'closing_price': '362200', 'min_price': '347500', 'max_price': '385500', 'units_traded': '532.35990335', 'acc_trade_value': '194014531.4099', 'prev_closing_price': '376100', 'units_traded_24H': '535.35341817', 'acc_trade_value_24H': '195141638.7299', 'fluctate_24H': '-15900', 'fluctate_rate_24H': '-4.21'}\n",
            "COMP {'opening_price': '439700', 'closing_price': '411100', 'min_price': '400000', 'max_price': '450300', 'units_traded': '908.1623218', 'acc_trade_value': '381715510.3699', 'prev_closing_price': '440700', 'units_traded_24H': '927.14778975', 'acc_trade_value_24H': '390085103.9899', 'fluctate_24H': '-31800', 'fluctate_rate_24H': '-7.18'}\n",
            "REN {'opening_price': '983.2', 'closing_price': '1011', 'min_price': '891.8', 'max_price': '1043', 'units_traded': '1216845.89894069', 'acc_trade_value': '1200999627.8814', 'prev_closing_price': '989.9', 'units_traded_24H': '1237918.16374374', 'acc_trade_value_24H': '1221743940.7349', 'fluctate_24H': '29.9', 'fluctate_rate_24H': '3.05'}\n",
            "BAL {'opening_price': '27270', 'closing_price': '26540', 'min_price': '25230', 'max_price': '27770', 'units_traded': '18134.31839197', 'acc_trade_value': '485249784.1099', 'prev_closing_price': '27450', 'units_traded_24H': '18364.45270858', 'acc_trade_value_24H': '491565272.1289', 'fluctate_24H': '-1060', 'fluctate_rate_24H': '-3.84'}\n",
            "RSR {'opening_price': '40.4', 'closing_price': '37.81', 'min_price': '35.41', 'max_price': '40.96', 'units_traded': '14651773.19289059', 'acc_trade_value': '560007162.8716', 'prev_closing_price': '40.44', 'units_traded_24H': '15315254.39873977', 'acc_trade_value_24H': '586744136.1212', 'fluctate_24H': '-2.37', 'fluctate_rate_24H': '-5.9'}\n",
            "NMR {'opening_price': '51450', 'closing_price': '49250', 'min_price': '46670', 'max_price': '53400', 'units_traded': '7407.43528746', 'acc_trade_value': '369070160.0819', 'prev_closing_price': '51600', 'units_traded_24H': '7678.08436731', 'acc_trade_value_24H': '382970002.3119', 'fluctate_24H': '-2300', 'fluctate_rate_24H': '-4.46'}\n",
            "RLC {'opening_price': '4181', 'closing_price': '4009', 'min_price': '3789', 'max_price': '4288', 'units_traded': '405753.51460703', 'acc_trade_value': '1647694669.781', 'prev_closing_price': '4186', 'units_traded_24H': '414400.23711013', 'acc_trade_value_24H': '1683809287.4494', 'fluctate_24H': '-161', 'fluctate_rate_24H': '-3.86'}\n",
            "UOS {'opening_price': '767.9', 'closing_price': '732.3', 'min_price': '710', 'max_price': '771', 'units_traded': '417831.14480771', 'acc_trade_value': '306615600.4069', 'prev_closing_price': '765.9', 'units_traded_24H': '445015.55355869', 'acc_trade_value_24H': '327619719.3334', 'fluctate_24H': '-45.5', 'fluctate_rate_24H': '-5.85'}\n",
            "SAND {'opening_price': '822.4', 'closing_price': '800.6', 'min_price': '742', 'max_price': '834', 'units_traded': '8349995.11014321', 'acc_trade_value': '6688911522.2293', 'prev_closing_price': '823.1', 'units_traded_24H': '8481095.41735845', 'acc_trade_value_24H': '6796833344.4493', 'fluctate_24H': '-21.4', 'fluctate_rate_24H': '-2.60'}\n",
            "GOM2 {'opening_price': '11.49', 'closing_price': '11.32', 'min_price': '10.86', 'max_price': '12.09', 'units_traded': '81282818.52157083', 'acc_trade_value': '908367383.3315', 'prev_closing_price': '11.38', 'units_traded_24H': '81709449.13197465', 'acc_trade_value_24H': '913245745.8445', 'fluctate_24H': '-0.2', 'fluctate_rate_24H': '-1.74'}\n",
            "RINGX {'opening_price': '43.86', 'closing_price': '38.79', 'min_price': '37.5', 'max_price': '47', 'units_traded': '36302870.73107993', 'acc_trade_value': '1449493938.8754', 'prev_closing_price': '43.74', 'units_traded_24H': '37975159.66399755', 'acc_trade_value_24H': '1521672951.5514', 'fluctate_24H': '-3.7', 'fluctate_rate_24H': '-8.71'}\n",
            "BEL {'opening_price': '2073', 'closing_price': '1975', 'min_price': '1898', 'max_price': '2109', 'units_traded': '61317.36901173', 'acc_trade_value': '124565704.0084', 'prev_closing_price': '2071', 'units_traded_24H': '64032.89510352', 'acc_trade_value_24H': '130184531.5276', 'fluctate_24H': '-101', 'fluctate_rate_24H': '-4.87'}\n",
            "OBSR {'opening_price': '9.356', 'closing_price': '9.099', 'min_price': '8.56', 'max_price': '10.6', 'units_traded': '78274370.1078605', 'acc_trade_value': '734528170.8872', 'prev_closing_price': '9.28', 'units_traded_24H': '79146443.19307142', 'acc_trade_value_24H': '742639105.7137', 'fluctate_24H': '-0.26', 'fluctate_rate_24H': '-2.78'}\n",
            "ORC {'opening_price': '709.2', 'closing_price': '702.6', 'min_price': '673', 'max_price': '749.9', 'units_traded': '2862739.17293172', 'acc_trade_value': '2016633376.9487', 'prev_closing_price': '709.2', 'units_traded_24H': '2959582.91760828', 'acc_trade_value_24H': '2085470998.532', 'fluctate_24H': '-10.6', 'fluctate_rate_24H': '-1.49'}\n",
            "POLA {'opening_price': '91.36', 'closing_price': '90.36', 'min_price': '88', 'max_price': '94.59', 'units_traded': '6912974.56296473', 'acc_trade_value': '630147633.1482', 'prev_closing_price': '90.86', 'units_traded_24H': '7101672.26626473', 'acc_trade_value_24H': '647372954.5097', 'fluctate_24H': '-0.63', 'fluctate_rate_24H': '-0.69'}\n",
            "AWO {'opening_price': '19.85', 'closing_price': '19.18', 'min_price': '18.82', 'max_price': '19.85', 'units_traded': '5557929.00940316', 'acc_trade_value': '106889962.7359', 'prev_closing_price': '19.82', 'units_traded_24H': '5932901.44123821', 'acc_trade_value_24H': '114276184.6456', 'fluctate_24H': '-0.21', 'fluctate_rate_24H': '-1.08'}\n",
            "ADP {'opening_price': '70.36', 'closing_price': '70.93', 'min_price': '67.29', 'max_price': '72.58', 'units_traded': '21246920.92044317', 'acc_trade_value': '1486032036.7255', 'prev_closing_price': '70.37', 'units_traded_24H': '21977248.367499', 'acc_trade_value_24H': '1538127395.893', 'fluctate_24H': '-0.62', 'fluctate_rate_24H': '-0.87'}\n",
            "DVI {'opening_price': '637.6', 'closing_price': '604.3', 'min_price': '580', 'max_price': '700', 'units_traded': '8429215.89909702', 'acc_trade_value': '5320868748.9601', 'prev_closing_price': '637.6', 'units_traded_24H': '8641539.83510716', 'acc_trade_value_24H': '5454937673.7999', 'fluctate_24H': '-26.8', 'fluctate_rate_24H': '-4.25'}\n",
            "GHX {'opening_price': '66.52', 'closing_price': '63.21', 'min_price': '60.9', 'max_price': '70', 'units_traded': '9310346.86314902', 'acc_trade_value': '597096042.9853', 'prev_closing_price': '66.51', 'units_traded_24H': '9616093.20282627', 'acc_trade_value_24H': '617339187.3081', 'fluctate_24H': '-3.07', 'fluctate_rate_24H': '-4.63'}\n",
            "MIR {'opening_price': '4065', 'closing_price': '3842', 'min_price': '3801', 'max_price': '4068', 'units_traded': '111816.49372908', 'acc_trade_value': '440191062.8392', 'prev_closing_price': '4065', 'units_traded_24H': '116998.72208346', 'acc_trade_value_24H': '461109379.9188', 'fluctate_24H': '-190', 'fluctate_rate_24H': '-4.71'}\n",
            "MVC {'opening_price': '25.79', 'closing_price': '24.59', 'min_price': '24.1', 'max_price': '26.79', 'units_traded': '195656487.43251368', 'acc_trade_value': '4937113794.8419', 'prev_closing_price': '25.73', 'units_traded_24H': '200194915.41892097', 'acc_trade_value_24H': '5054841724.3735', 'fluctate_24H': '-1.49', 'fluctate_rate_24H': '-5.71'}\n",
            "BLY {'opening_price': '34.64', 'closing_price': '33.78', 'min_price': '32.89', 'max_price': '35.41', 'units_traded': '9681383.25689258', 'acc_trade_value': '331243658.7118', 'prev_closing_price': '34.73', 'units_traded_24H': '9991892.96229224', 'acc_trade_value_24H': '342017999.7125', 'fluctate_24H': '-0.92', 'fluctate_rate_24H': '-2.65'}\n",
            "WOZX {'opening_price': '1117', 'closing_price': '1065', 'min_price': '1050', 'max_price': '1163', 'units_traded': '381913.09003453', 'acc_trade_value': '409475556.7919', 'prev_closing_price': '1105', 'units_traded_24H': '438578.40540788', 'acc_trade_value_24H': '472674558.504', 'fluctate_24H': '-53', 'fluctate_rate_24H': '-4.74'}\n",
            "ANV {'opening_price': '1222', 'closing_price': '1184', 'min_price': '1125', 'max_price': '1250', 'units_traded': '41790361.73469169', 'acc_trade_value': '49825489489.2126', 'prev_closing_price': '1220', 'units_traded_24H': '43873126.74763115', 'acc_trade_value_24H': '52328561329.7838', 'fluctate_24H': '-9', 'fluctate_rate_24H': '-0.75'}\n",
            "GRT {'opening_price': '888.1', 'closing_price': '869.6', 'min_price': '820.9', 'max_price': '920.1', 'units_traded': '987584.77534552', 'acc_trade_value': '868577112.869', 'prev_closing_price': '891.3', 'units_traded_24H': '1016825.56902811', 'acc_trade_value_24H': '894547280.7125', 'fluctate_24H': '-14.1', 'fluctate_rate_24H': '-1.6'}\n",
            "MM {'opening_price': '399.5', 'closing_price': '393.8', 'min_price': '382.1', 'max_price': '465.5', 'units_traded': '7449489.37485925', 'acc_trade_value': '2977786044.2999', 'prev_closing_price': '399.5', 'units_traded_24H': '7621731.11455098', 'acc_trade_value_24H': '3047080127.1367', 'fluctate_24H': '-18.7', 'fluctate_rate_24H': '-4.53'}\n",
            "BIOT {'opening_price': '45.05', 'closing_price': '42.36', 'min_price': '40.5', 'max_price': '47.84', 'units_traded': '657763546.89756031', 'acc_trade_value': '28667656056.086', 'prev_closing_price': '45.05', 'units_traded_24H': '676410645.9056859', 'acc_trade_value_24H': '29525295767.4459', 'fluctate_24H': '-3.01', 'fluctate_rate_24H': '-6.63'}\n",
            "XNO {'opening_price': '100.6', 'closing_price': '95.1', 'min_price': '90', 'max_price': '101.9', 'units_traded': '92609233.230542', 'acc_trade_value': '9008693336.7365', 'prev_closing_price': '100.9', 'units_traded_24H': '95185170.04153884', 'acc_trade_value_24H': '9268169527.3942', 'fluctate_24H': '-5.6', 'fluctate_rate_24H': '-5.56'}\n",
            "SNX {'opening_price': '13640', 'closing_price': '12970', 'min_price': '12480', 'max_price': '14040', 'units_traded': '157247.91847397', 'acc_trade_value': '2097647606.6554', 'prev_closing_price': '13600', 'units_traded_24H': '159252.66585393', 'acc_trade_value_24H': '2124927831.1754', 'fluctate_24H': '-630', 'fluctate_rate_24H': '-4.63'}\n",
            "RAI {'opening_price': '758.7', 'closing_price': '723.6', 'min_price': '721.3', 'max_price': '764.6', 'units_traded': '218554.34668533', 'acc_trade_value': '161918817.0215', 'prev_closing_price': '756.3', 'units_traded_24H': '226105.72622936', 'acc_trade_value_24H': '167641475.5157', 'fluctate_24H': '-35.4', 'fluctate_rate_24H': '-4.66'}\n",
            "COLA {'opening_price': '273.2', 'closing_price': '261.9', 'min_price': '251.1', 'max_price': '285.5', 'units_traded': '934756.12460459', 'acc_trade_value': '249428933.8448', 'prev_closing_price': '273.2', 'units_traded_24H': '995576.65240459', 'acc_trade_value_24H': '266050831.261', 'fluctate_24H': '-11.4', 'fluctate_rate_24H': '-4.17'}\n",
            "NU {'opening_price': '500.5', 'closing_price': '462.2', 'min_price': '441.4', 'max_price': '820', 'units_traded': '203125525.30176306', 'acc_trade_value': '119957940070.0532', 'prev_closing_price': '500.2', 'units_traded_24H': '203939353.17280478', 'acc_trade_value_24H': '120364920831.6625', 'fluctate_24H': '-38.7', 'fluctate_rate_24H': '-7.73'}\n",
            "OXT {'opening_price': '406.3', 'closing_price': '412.4', 'min_price': '397.8', 'max_price': '468', 'units_traded': '5977906.44639459', 'acc_trade_value': '2526394584.3441', 'prev_closing_price': '407.8', 'units_traded_24H': '6048704.93762719', 'acc_trade_value_24H': '2555209550.3939', 'fluctate_24H': '3.3', 'fluctate_rate_24H': '0.81'}\n",
            "LINA {'opening_price': '49.43', 'closing_price': '46.48', 'min_price': '44', 'max_price': '49.99', 'units_traded': '14110242.10128195', 'acc_trade_value': '665090052.8331', 'prev_closing_price': '49.55', 'units_traded_24H': '14241029.49505894', 'acc_trade_value_24H': '671550889.9306', 'fluctate_24H': '-3', 'fluctate_rate_24H': '-6.06'}\n",
            "MAP {'opening_price': '29.49', 'closing_price': '27.37', 'min_price': '26.95', 'max_price': '30', 'units_traded': '12330824.14168389', 'acc_trade_value': '346607549.8499', 'prev_closing_price': '29.49', 'units_traded_24H': '12496552.03261808', 'acc_trade_value_24H': '351448356.3641', 'fluctate_24H': '-1.63', 'fluctate_rate_24H': '-5.62'}\n",
            "AQT {'opening_price': '4194', 'closing_price': '3856', 'min_price': '3731', 'max_price': '4276', 'units_traded': '153227.73724776', 'acc_trade_value': '626119455.1241', 'prev_closing_price': '4206', 'units_traded_24H': '155905.75946621', 'acc_trade_value_24H': '637430884.8488', 'fluctate_24H': '-356', 'fluctate_rate_24H': '-8.45'}\n",
            "WIKEN {'opening_price': '14.81', 'closing_price': '11.36', 'min_price': '10.98', 'max_price': '14.9', 'units_traded': '368355031.89702634', 'acc_trade_value': '4481898838.8472', 'prev_closing_price': '14.81', 'units_traded_24H': '472832504.70151853', 'acc_trade_value_24H': '6027853037.4984', 'fluctate_24H': '-2.52', 'fluctate_rate_24H': '-18.16'}\n",
            "CTSI {'opening_price': '730.1', 'closing_price': '676', 'min_price': '651.5', 'max_price': '763.7', 'units_traded': '933382.9293356', 'acc_trade_value': '649538823.6846', 'prev_closing_price': '730.3', 'units_traded_24H': '977581.8902728', 'acc_trade_value_24H': '681802241.3579', 'fluctate_24H': '-59.3', 'fluctate_rate_24H': '-8.06'}\n",
            "MANA {'opening_price': '880.1', 'closing_price': '827.2', 'min_price': '792', 'max_price': '893', 'units_traded': '4061765.36165213', 'acc_trade_value': '3425426877.8941', 'prev_closing_price': '883.1', 'units_traded_24H': '4128711.15662464', 'acc_trade_value_24H': '3484443763.4263', 'fluctate_24H': '-53', 'fluctate_rate_24H': '-6.02'}\n",
            "LPT {'opening_price': '21160', 'closing_price': '19900', 'min_price': '19590', 'max_price': '21380', 'units_traded': '80028.79817048', 'acc_trade_value': '1643992448.8879', 'prev_closing_price': '21180', 'units_traded_24H': '82114.35817417', 'acc_trade_value_24H': '1688099912.7369', 'fluctate_24H': '-1210', 'fluctate_rate_24H': '-5.73'}\n",
            "MKR {'opening_price': '3156000', 'closing_price': '3020000', 'min_price': '2921000', 'max_price': '3191000', 'units_traded': '53.8854717', 'acc_trade_value': '164015159.8999', 'prev_closing_price': '3165000', 'units_traded_24H': '54.00754811', 'acc_trade_value_24H': '164400982.8999', 'fluctate_24H': '-151000', 'fluctate_rate_24H': '-4.76'}\n",
            "SUSHI {'opening_price': '13210', 'closing_price': '12690', 'min_price': '12030', 'max_price': '13740', 'units_traded': '189586.96358554', 'acc_trade_value': '2478056336.7168', 'prev_closing_price': '13210', 'units_traded_24H': '190637.9466285', 'acc_trade_value_24H': '2491989662.7578', 'fluctate_24H': '-580', 'fluctate_rate_24H': '-4.37'}\n",
            "ASM {'opening_price': '45.66', 'closing_price': '42.81', 'min_price': '41.42', 'max_price': '45.66', 'units_traded': '179000893.94266123', 'acc_trade_value': '7827894381.0092', 'prev_closing_price': '45.77', 'units_traded_24H': '183713498.05151302', 'acc_trade_value_24H': '8040514039.3292', 'fluctate_24H': '-2.26', 'fluctate_rate_24H': '-5.01'}\n",
            "PUNDIX {'opening_price': '1760', 'closing_price': '1640', 'min_price': '1557', 'max_price': '1783', 'units_traded': '1709770.912605', 'acc_trade_value': '2858759802.4849', 'prev_closing_price': '1755', 'units_traded_24H': '1749764.85166681', 'acc_trade_value_24H': '2929177034.9714', 'fluctate_24H': '-120', 'fluctate_rate_24H': '-6.82'}\n",
            "CELR {'opening_price': '110', 'closing_price': '115.1', 'min_price': '99.9', 'max_price': '133.8', 'units_traded': '40817865.81837597', 'acc_trade_value': '4899697174.4959', 'prev_closing_price': '110', 'units_traded_24H': '41048621.04199615', 'acc_trade_value_24H': '4925190330.8564', 'fluctate_24H': '3.7', 'fluctate_rate_24H': '3.32'}\n",
            "LF {'opening_price': '746.9', 'closing_price': '718.5', 'min_price': '690', 'max_price': '772', 'units_traded': '41792595.16648301', 'acc_trade_value': '30875120257.4302', 'prev_closing_price': '746.9', 'units_traded_24H': '43133182.53844644', 'acc_trade_value_24H': '31874381607.2083', 'fluctate_24H': '-21.7', 'fluctate_rate_24H': '-2.93'}\n",
            "ARW {'opening_price': '2968', 'closing_price': '2877', 'min_price': '2865', 'max_price': '2969', 'units_traded': '69826.20759246', 'acc_trade_value': '203224324.4473', 'prev_closing_price': '2968', 'units_traded_24H': '71711.17835872', 'acc_trade_value_24H': '208795298.8797', 'fluctate_24H': '-60', 'fluctate_rate_24H': '-2.04'}\n",
            "MSB {'opening_price': '237.4', 'closing_price': '227.4', 'min_price': '221.5', 'max_price': '247.8', 'units_traded': '54170586.33550747', 'acc_trade_value': '12606576490.3289', 'prev_closing_price': '237.4', 'units_traded_24H': '55654999.16945426', 'acc_trade_value_24H': '12958896128.8181', 'fluctate_24H': '-9.6', 'fluctate_rate_24H': '-4.05'}\n",
            "RLY {'opening_price': '748.1', 'closing_price': '718', 'min_price': '710', 'max_price': '757.3', 'units_traded': '83232.56199542', 'acc_trade_value': '60687149.3131', 'prev_closing_price': '748.1', 'units_traded_24H': '84576.19938351', 'acc_trade_value_24H': '61692087.1199', 'fluctate_24H': '-29', 'fluctate_rate_24H': '-3.88'}\n",
            "OCEAN {'opening_price': '832.6', 'closing_price': '819.1', 'min_price': '768', 'max_price': '950', 'units_traded': '177571.51578067', 'acc_trade_value': '145689202.4579', 'prev_closing_price': '832.7', 'units_traded_24H': '178797.85643916', 'acc_trade_value_24H': '146710486.0446', 'fluctate_24H': '-20.7', 'fluctate_rate_24H': '-2.46'}\n",
            "BFC {'opening_price': '349', 'closing_price': '334.5', 'min_price': '309', 'max_price': '359.8', 'units_traded': '5452246.26380879', 'acc_trade_value': '1853010385.9001', 'prev_closing_price': '348.9', 'units_traded_24H': '5556744.99008537', 'acc_trade_value_24H': '1889722895.779', 'fluctate_24H': '-14.9', 'fluctate_rate_24H': '-4.26'}\n",
            "ALICE {'opening_price': '13200', 'closing_price': '12780', 'min_price': '11790', 'max_price': '13470', 'units_traded': '299132.89517271', 'acc_trade_value': '3801801218.8133', 'prev_closing_price': '13200', 'units_traded_24H': '304854.52624265', 'acc_trade_value_24H': '3877601502.8759', 'fluctate_24H': '-470', 'fluctate_rate_24H': '-3.55'}\n",
            "CAKE {'opening_price': '24820', 'closing_price': '23670', 'min_price': '22610', 'max_price': '25260', 'units_traded': '29600.56649722', 'acc_trade_value': '709593810.407', 'prev_closing_price': '24950', 'units_traded_24H': '29881.77167738', 'acc_trade_value_24H': '716590258.124', 'fluctate_24H': '-1160', 'fluctate_rate_24H': '-4.67'}\n",
            "BNT {'opening_price': '4531', 'closing_price': '4338', 'min_price': '4172', 'max_price': '5205', 'units_traded': '68957.59911921', 'acc_trade_value': '304613386.2945', 'prev_closing_price': '4562', 'units_traded_24H': '69170.8423551', 'acc_trade_value_24H': '305584820.3146', 'fluctate_24H': '-193', 'fluctate_rate_24H': '-4.26'}\n",
            "XVS {'opening_price': '32910', 'closing_price': '30190', 'min_price': '27720', 'max_price': '33530', 'units_traded': '15734.12069596', 'acc_trade_value': '491261129.9109', 'prev_closing_price': '32910', 'units_traded_24H': '16102.89614193', 'acc_trade_value_24H': '503446273.6799', 'fluctate_24H': '-2710', 'fluctate_rate_24H': '-8.24'}\n",
            "CHZ {'opening_price': '354.3', 'closing_price': '333', 'min_price': '315', 'max_price': '360.2', 'units_traded': '3114439.24473971', 'acc_trade_value': '1054758323.5729', 'prev_closing_price': '354.5', 'units_traded_24H': '3305734.23661774', 'acc_trade_value_24H': '1122496667.987', 'fluctate_24H': '-23.6', 'fluctate_rate_24H': '-6.62'}\n",
            "AXS {'opening_price': '70900', 'closing_price': '68050', 'min_price': '63750', 'max_price': '74450', 'units_traded': '23209.1574363', 'acc_trade_value': '1601734626.9999', 'prev_closing_price': '71050', 'units_traded_24H': '23602.26034386', 'acc_trade_value_24H': '1629609209.2299', 'fluctate_24H': '-2600', 'fluctate_rate_24H': '-3.68'}\n",
            "DAI {'opening_price': '1251', 'closing_price': '1226', 'min_price': '1220', 'max_price': '1273', 'units_traded': '709394.25005792', 'acc_trade_value': '885691610.3611', 'prev_closing_price': '1246', 'units_traded_24H': '769199.24165792', 'acc_trade_value_24H': '960218628.3839', 'fluctate_24H': '-21', 'fluctate_rate_24H': '-1.68'}\n",
            "MATIC {'opening_price': '1490', 'closing_price': '1417', 'min_price': '1344', 'max_price': '1517', 'units_traded': '389277.09913406', 'acc_trade_value': '557756691.0421', 'prev_closing_price': '1495', 'units_traded_24H': '393018.19836226', 'acc_trade_value_24H': '563365948.6582', 'fluctate_24H': '-97', 'fluctate_rate_24H': '-6.41'}\n",
            "BAKE {'opening_price': '2125', 'closing_price': '2016', 'min_price': '1928', 'max_price': '2165', 'units_traded': '127956.5559509', 'acc_trade_value': '263472586.6157', 'prev_closing_price': '2114', 'units_traded_24H': '129982.73721416', 'acc_trade_value_24H': '267757871.1763', 'fluctate_24H': '-104', 'fluctate_rate_24H': '-4.91'}\n",
            "VELO {'opening_price': '417.4', 'closing_price': '390.8', 'min_price': '373.7', 'max_price': '500.4', 'units_traded': '28071418.44119073', 'acc_trade_value': '11739418723.4507', 'prev_closing_price': '418.8', 'units_traded_24H': '28269355.47876346', 'acc_trade_value_24H': '11822094334.5536', 'fluctate_24H': '-25.2', 'fluctate_rate_24H': '-6.06'}\n",
            "BCD {'opening_price': '2211', 'closing_price': '2129', 'min_price': '1998', 'max_price': '2242', 'units_traded': '467495.27202964', 'acc_trade_value': '995133045.3225', 'prev_closing_price': '2221', 'units_traded_24H': '479489.62359818', 'acc_trade_value_24H': '1021683728.9882', 'fluctate_24H': '-66', 'fluctate_rate_24H': '-3.01'}\n",
            "XLM {'opening_price': '354.6', 'closing_price': '344.2', 'min_price': '337.3', 'max_price': '361', 'units_traded': '152657005.33329315', 'acc_trade_value': '53507815178.1718', 'prev_closing_price': '355', 'units_traded_24H': '159075557.77282705', 'acc_trade_value_24H': '55783929001.7298', 'fluctate_24H': '-8.7', 'fluctate_rate_24H': '-2.47'}\n",
            "GXC {'opening_price': '812.1', 'closing_price': '764.5', 'min_price': '739', 'max_price': '819.7', 'units_traded': '220466.81361062', 'acc_trade_value': '171644213.1681', 'prev_closing_price': '822.9', 'units_traded_24H': '226159.6931251', 'acc_trade_value_24H': '176289319.1835', 'fluctate_24H': '-48.1', 'fluctate_rate_24H': '-5.92'}\n",
            "BTT {'opening_price': '4.301', 'closing_price': '4.122', 'min_price': '3.941', 'max_price': '4.354', 'units_traded': '2199137450.15998037', 'acc_trade_value': '9115733396.0637', 'prev_closing_price': '4.303', 'units_traded_24H': '2236759135.37428745', 'acc_trade_value_24H': '9277681460.548', 'fluctate_24H': '-0.19', 'fluctate_rate_24H': '-4.47'}\n",
            "VSYS {'opening_price': '22.22', 'closing_price': '21.5', 'min_price': '20.89', 'max_price': '22.34', 'units_traded': '7971233.12844105', 'acc_trade_value': '172576313.8958', 'prev_closing_price': '22.16', 'units_traded_24H': '8204017.44994502', 'acc_trade_value_24H': '177739073.2855', 'fluctate_24H': '-0.75', 'fluctate_rate_24H': '-3.37'}\n",
            "IPX {'opening_price': '43.69', 'closing_price': '41.5', 'min_price': '40.23', 'max_price': '45.04', 'units_traded': '6492210.83582929', 'acc_trade_value': '277389690.9725', 'prev_closing_price': '43.66', 'units_traded_24H': '6908174.50332448', 'acc_trade_value_24H': '295845310.6261', 'fluctate_24H': '-3.76', 'fluctate_rate_24H': '-8.31'}\n",
            "WICC {'opening_price': '196.7', 'closing_price': '191.9', 'min_price': '184.5', 'max_price': '198.5', 'units_traded': '2201633.91041256', 'acc_trade_value': '420486907.6456', 'prev_closing_price': '197', 'units_traded_24H': '2286452.86861761', 'acc_trade_value_24H': '437235422.4604', 'fluctate_24H': '-5.6', 'fluctate_rate_24H': '-2.84'}\n",
            "ONT {'opening_price': '1079', 'closing_price': '1040', 'min_price': '1000', 'max_price': '1093', 'units_traded': '1662940.03635289', 'acc_trade_value': '1741509616.7875', 'prev_closing_price': '1082', 'units_traded_24H': '1711846.5322673', 'acc_trade_value_24H': '1794226745.0471', 'fluctate_24H': '-34', 'fluctate_rate_24H': '-3.17'}\n",
            "LUNA {'opening_price': '36060', 'closing_price': '34200', 'min_price': '32500', 'max_price': '36730', 'units_traded': '850934.1229809', 'acc_trade_value': '29414691143.0164', 'prev_closing_price': '36070', 'units_traded_24H': '870767.14112081', 'acc_trade_value_24H': '30137529158.4156', 'fluctate_24H': '-1840', 'fluctate_rate_24H': '-5.11'}\n",
            "AION {'opening_price': '202.8', 'closing_price': '189.7', 'min_price': '181.8', 'max_price': '208', 'units_traded': '1650219.7901095', 'acc_trade_value': '318256016.4703', 'prev_closing_price': '202', 'units_traded_24H': '1664776.2758293', 'acc_trade_value_24H': '321185186.437', 'fluctate_24H': '-11.6', 'fluctate_rate_24H': '-5.76'}\n",
            "META {'opening_price': '113', 'closing_price': '110.5', 'min_price': '101.1', 'max_price': '128.5', 'units_traded': '618720799.40254911', 'acc_trade_value': '71117558709.6446', 'prev_closing_price': '112.9', 'units_traded_24H': '618781424.92336953', 'acc_trade_value_24H': '71124364894.4421', 'fluctate_24H': '-1.1', 'fluctate_rate_24H': '-0.99'}\n",
            "KLAY {'opening_price': '1362', 'closing_price': '1309', 'min_price': '1280', 'max_price': '1410', 'units_traded': '18677256.5619182', 'acc_trade_value': '24918323185.2851', 'prev_closing_price': '1361', 'units_traded_24H': '19472747.49184834', 'acc_trade_value_24H': '26010308566.0339', 'fluctate_24H': '-63', 'fluctate_rate_24H': '-4.59'}\n",
            "ONG {'opening_price': '1284', 'closing_price': '1313', 'min_price': '1167', 'max_price': '1409', 'units_traded': '4541300.00838055', 'acc_trade_value': '6027112605.3561', 'prev_closing_price': '1284', 'units_traded_24H': '4561194.2659949', 'acc_trade_value_24H': '6052655953.1375', 'fluctate_24H': '31', 'fluctate_rate_24H': '2.42'}\n",
            "ALGO {'opening_price': '2154', 'closing_price': '2113', 'min_price': '1916', 'max_price': '2239', 'units_traded': '2554772.108802', 'acc_trade_value': '5371049181.1171', 'prev_closing_price': '2164', 'units_traded_24H': '2592830.301625', 'acc_trade_value_24H': '5453115820.5918', 'fluctate_24H': '-33', 'fluctate_rate_24H': '-1.54'}\n",
            "JST {'opening_price': '93.58', 'closing_price': '88.2', 'min_price': '84.3', 'max_price': '94.93', 'units_traded': '12960250.13785017', 'acc_trade_value': '1163157761.6328', 'prev_closing_price': '93.86', 'units_traded_24H': '13211305.00620463', 'acc_trade_value_24H': '1186708346.5766', 'fluctate_24H': '-5.56', 'fluctate_rate_24H': '-5.93'}\n",
            "XTZ {'opening_price': '6890', 'closing_price': '6445', 'min_price': '6085', 'max_price': '7075', 'units_traded': '983978.286814', 'acc_trade_value': '6444200264.825', 'prev_closing_price': '6900', 'units_traded_24H': '996172.946752', 'acc_trade_value_24H': '6528085571.3918', 'fluctate_24H': '-395', 'fluctate_rate_24H': '-5.77'}\n",
            "MLK {'opening_price': '1232', 'closing_price': '1154', 'min_price': '1094', 'max_price': '1258', 'units_traded': '1286008.68058197', 'acc_trade_value': '1512172115.7647', 'prev_closing_price': '1232', 'units_traded_24H': '1319712.51330359', 'acc_trade_value_24H': '1553869620.9151', 'fluctate_24H': '-89', 'fluctate_rate_24H': '-7.16'}\n",
            "WEMIX {'opening_price': '2378', 'closing_price': '2311', 'min_price': '1949', 'max_price': '2667', 'units_traded': '38406234.36633919', 'acc_trade_value': '89239058201.9904', 'prev_closing_price': '2383', 'units_traded_24H': '40031275.322221', 'acc_trade_value_24H': '93147027633.1642', 'fluctate_24H': '-123', 'fluctate_rate_24H': '-5.05'}\n",
            "DOT {'opening_price': '36790', 'closing_price': '35450', 'min_price': '33280', 'max_price': '37450', 'units_traded': '2123435.52557578', 'acc_trade_value': '76434349352.9474', 'prev_closing_price': '36810', 'units_traded_24H': '2201960.64529182', 'acc_trade_value_24H': '79322438343.8234', 'fluctate_24H': '-1310', 'fluctate_rate_24H': '-3.56'}\n",
            "ATOM {'opening_price': '47360', 'closing_price': '42640', 'min_price': '39500', 'max_price': '48100', 'units_traded': '345702.68892484', 'acc_trade_value': '15157158429.1982', 'prev_closing_price': '47320', 'units_traded_24H': '353665.49864886', 'acc_trade_value_24H': '15536830455.8845', 'fluctate_24H': '-5590', 'fluctate_rate_24H': '-11.59'}\n",
            "SSX {'opening_price': '77.57', 'closing_price': '72.65', 'min_price': '69.89', 'max_price': '79.2', 'units_traded': '19563993.16166605', 'acc_trade_value': '1452305421.3089', 'prev_closing_price': '77.74', 'units_traded_24H': '20156812.53342657', 'acc_trade_value_24H': '1498260274.0714', 'fluctate_24H': '-4.73', 'fluctate_rate_24H': '-6.11'}\n",
            "TEMCO {'opening_price': '7.543', 'closing_price': '6.915', 'min_price': '6.777', 'max_price': '8.78', 'units_traded': '315920183.39861329', 'acc_trade_value': '2406708039.8521', 'prev_closing_price': '7.436', 'units_traded_24H': '323286547.228196', 'acc_trade_value_24H': '2461840092.8175', 'fluctate_24H': '-0.45', 'fluctate_rate_24H': '-6.12'}\n",
            "HIBS {'opening_price': '5.497', 'closing_price': '5.017', 'min_price': '4.851', 'max_price': '5.79', 'units_traded': '147552155.1320728', 'acc_trade_value': '784875768.3743', 'prev_closing_price': '5.451', 'units_traded_24H': '152657551.37994562', 'acc_trade_value_24H': '813067254.6095', 'fluctate_24H': '-0.43', 'fluctate_rate_24H': '-8.05'}\n",
            "BURGER {'opening_price': '4524', 'closing_price': '4504', 'min_price': '4152', 'max_price': '5970', 'units_traded': '1297911.05938588', 'acc_trade_value': '6387453472.6742', 'prev_closing_price': '4512', 'units_traded_24H': '1303196.59549305', 'acc_trade_value_24H': '6411413392.4771', 'fluctate_24H': '-36', 'fluctate_rate_24H': '-0.79'}\n",
            "DOGE {'opening_price': '265', 'closing_price': '259.6', 'min_price': '250', 'max_price': '269.8', 'units_traded': '270016553.15244557', 'acc_trade_value': '70454404790.8803', 'prev_closing_price': '265.3', 'units_traded_24H': '280361894.24317148', 'acc_trade_value_24H': '73195887774.0602', 'fluctate_24H': '-4.6', 'fluctate_rate_24H': '-1.74'}\n",
            "KSM {'opening_price': '439400', 'closing_price': '414000', 'min_price': '393900', 'max_price': '445300', 'units_traded': '2822.77992815', 'acc_trade_value': '1183905639.0031', 'prev_closing_price': '443500', 'units_traded_24H': '2977.94910741', 'acc_trade_value_24H': '1252502355.2031', 'fluctate_24H': '-29300', 'fluctate_rate_24H': '-6.61'}\n",
            "CTK {'opening_price': '2129', 'closing_price': '2046', 'min_price': '1854', 'max_price': '2141', 'units_traded': '133534.74377177', 'acc_trade_value': '267024442.228', 'prev_closing_price': '2141', 'units_traded_24H': '136522.86424323', 'acc_trade_value_24H': '273367518.0447', 'fluctate_24H': '-86', 'fluctate_rate_24H': '-4.03'}\n",
            "XYM {'opening_price': '138.6', 'closing_price': '134.3', 'min_price': '134', 'max_price': '142.4', 'units_traded': '654367.69711182', 'acc_trade_value': '89619547.8212', 'prev_closing_price': '141.4', 'units_traded_24H': '718493.71941182', 'acc_trade_value_24H': '98685026.7622', 'fluctate_24H': '-5.1', 'fluctate_rate_24H': '-3.66'}\n",
            "BNB {'opening_price': '463700', 'closing_price': '448700', 'min_price': '430600', 'max_price': '468600', 'units_traded': '89108.86717437', 'acc_trade_value': '40608668540.9604', 'prev_closing_price': '464100', 'units_traded_24H': '92059.5470644', 'acc_trade_value_24H': '41978239946.0561', 'fluctate_24H': '-13600', 'fluctate_rate_24H': '-2.94'}\n",
            "SUN {'opening_price': '39.77', 'closing_price': '37.56', 'min_price': '36.26', 'max_price': '40.35', 'units_traded': '19536448.75906677', 'acc_trade_value': '742814178.1385', 'prev_closing_price': '39.87', 'units_traded_24H': '19851303.43204319', 'acc_trade_value_24H': '755343361.6145', 'fluctate_24H': '-2.18', 'fluctate_rate_24H': '-5.49'}\n",
            "XEC {'opening_price': '0.2705', 'closing_price': '0.259', 'min_price': '0.25', 'max_price': '0.2751', 'units_traded': '61504892172.95907284', 'acc_trade_value': '16136110148.6021', 'prev_closing_price': '0.2702', 'units_traded_24H': '62848504359.72936342', 'acc_trade_value_24H': '16501055475.4175', 'fluctate_24H': '-0.01', 'fluctate_rate_24H': '-5.54'}\n",
            "PCI {'opening_price': '756.5', 'closing_price': '730.4', 'min_price': '695.2', 'max_price': '774.9', 'units_traded': '1244602.06173711', 'acc_trade_value': '930026339.2345', 'prev_closing_price': '758.3', 'units_traded_24H': '1260318.40427358', 'acc_trade_value_24H': '941923237.5658', 'fluctate_24H': '-25', 'fluctate_rate_24H': '-3.31'}\n",
            "SOL {'opening_price': '179100', 'closing_price': '169000', 'min_price': '157200', 'max_price': '182800', 'units_traded': '127280.79383722', 'acc_trade_value': '21815001128.3456', 'prev_closing_price': '179200', 'units_traded_24H': '132419.65785612', 'acc_trade_value_24H': '22732696718.5548', 'fluctate_24H': '-10100', 'fluctate_rate_24H': '-5.64'}\n"
          ]
        }
      ]
    },
    {
      "cell_type": "code",
      "metadata": {
        "colab": {
          "base_uri": "https://localhost:8080/"
        },
        "id": "09wAcxVhv2ED",
        "outputId": "19481d1d-0ed0-41aa-aede-93acb1e47357"
      },
      "source": [
        "import pybithumb\n",
        " \n",
        "all = pybithumb.get_current_price(\"ALL\") \n",
        "for ticker, data in all.items() :\n",
        "    print(ticker, data['closing_price'])"
      ],
      "execution_count": 18,
      "outputs": [
        {
          "output_type": "stream",
          "name": "stdout",
          "text": [
            "BTC 52350000\n",
            "ETH 3688000\n",
            "LTC 193600\n",
            "ETC 60200\n",
            "XRP 1142\n",
            "BCH 660500\n",
            "QTUM 12640\n",
            "BTG 66850\n",
            "EOS 5110\n",
            "ICX 1984\n",
            "TRX 114.2\n",
            "ELF 979.8\n",
            "OMG 12250\n",
            "KNC 1837\n",
            "GLM 566.2\n",
            "ZIL 108.8\n",
            "WAXP 272.3\n",
            "POWR 383.1\n",
            "LRC 489.7\n",
            "STEEM 609\n",
            "STRAX 2577\n",
            "ZRX 1126\n",
            "REP 25880\n",
            "XEM 189.6\n",
            "SNT 93.39\n",
            "ADA 2620\n",
            "CTXC 336.4\n",
            "BAT 803.1\n",
            "WTC 1104\n",
            "THETA 6430\n",
            "LOOM 144.9\n",
            "WAVES 29020\n",
            "TRUE 173.7\n",
            "LINK 28790\n",
            "ENJ 1670\n",
            "VET 116.4\n",
            "MTL 3734\n",
            "IOST 70.63\n",
            "TMTG 2.447\n",
            "QKC 22.2\n",
            "HDAC 128.7\n",
            "AMO 2.526\n",
            "BSV 179100\n",
            "DAC 2.419\n",
            "ORBS 133.8\n",
            "TFUEL 320.7\n",
            "VALOR 436\n",
            "CON 2.609\n",
            "ANKR 101.5\n",
            "MIX 6.079\n",
            "CRO 186.8\n",
            "FX 944.6\n",
            "CHR 334.3\n",
            "MBL 10.05\n",
            "MXC 38.28\n",
            "FCT 176.2\n",
            "TRV 17.83\n",
            "DAD 242.5\n",
            "WOM 163\n",
            "SOC 27.04\n",
            "EM 6.001\n",
            "BOA 117.2\n",
            "FLETA 13.02\n",
            "SXP 2664\n",
            "COS 24.07\n",
            "APIX 68.58\n",
            "EL 8.058\n",
            "BASIC 15.8\n",
            "HIVE 730.1\n",
            "XPR 8.48\n",
            "VRA 37.26\n",
            "FIT 1.252\n",
            "EGG 5.289\n",
            "BORA 193.8\n",
            "ARPA 83.88\n",
            "APM 37.97\n",
            "CKB 16.32\n",
            "AERGO 326.7\n",
            "ANW 43.52\n",
            "CENNZ 94.55\n",
            "EVZ 47.39\n",
            "CYCLUB 30.5\n",
            "SRM 9675\n",
            "QTCON 14.4\n",
            "UNI 25730\n",
            "YFI 36236000\n",
            "UMA 12900\n",
            "AAVE 362200\n",
            "COMP 411100\n",
            "REN 1011\n",
            "BAL 26540\n",
            "RSR 37.81\n",
            "NMR 49250\n",
            "RLC 4009\n",
            "UOS 732.3\n",
            "SAND 800.6\n",
            "GOM2 11.32\n",
            "RINGX 38.79\n",
            "BEL 1975\n",
            "OBSR 9.099\n",
            "ORC 702.6\n",
            "POLA 90.36\n",
            "AWO 19.18\n",
            "ADP 70.93\n",
            "DVI 604.2\n",
            "GHX 63.21\n",
            "MIR 3842\n",
            "MVC 24.59\n",
            "BLY 33.86\n",
            "WOZX 1065\n",
            "ANV 1184\n",
            "GRT 869.6\n",
            "MM 395\n",
            "BIOT 42.57\n",
            "XNO 95.08\n",
            "SNX 12970\n",
            "RAI 723.6\n",
            "COLA 261.9\n",
            "NU 462.2\n",
            "OXT 412.4\n",
            "LINA 46.48\n",
            "MAP 27.37\n",
            "AQT 3856\n",
            "WIKEN 11.36\n",
            "CTSI 676\n",
            "MANA 826\n",
            "LPT 19900\n",
            "MKR 3054000\n",
            "SUSHI 12690\n",
            "ASM 42.77\n",
            "PUNDIX 1640\n",
            "CELR 115.4\n",
            "LF 718.4\n",
            "ARW 2877\n",
            "MSB 227.7\n",
            "RLY 718\n",
            "OCEAN 819.1\n",
            "BFC 334.5\n",
            "ALICE 12780\n",
            "CAKE 23670\n",
            "BNT 4338\n",
            "XVS 30270\n",
            "CHZ 333\n",
            "AXS 68050\n",
            "DAI 1226\n",
            "MATIC 1419\n",
            "BAKE 2016\n",
            "VELO 390.8\n",
            "BCD 2129\n",
            "XLM 344\n",
            "GXC 764.5\n",
            "BTT 4.122\n",
            "VSYS 21.5\n",
            "IPX 41.5\n",
            "WICC 192.4\n",
            "ONT 1040\n",
            "LUNA 34220\n",
            "AION 189.7\n",
            "META 110.5\n",
            "KLAY 1308\n",
            "ONG 1312\n",
            "ALGO 2122\n",
            "JST 88.71\n",
            "XTZ 6445\n",
            "MLK 1154\n",
            "WEMIX 2315\n",
            "DOT 35400\n",
            "ATOM 42620\n",
            "SSX 72.65\n",
            "TEMCO 6.915\n",
            "HIBS 5.017\n",
            "BURGER 4504\n",
            "DOGE 259.8\n",
            "KSM 414000\n",
            "CTK 2046\n",
            "XYM 134.3\n",
            "BNB 448700\n",
            "SUN 37.56\n",
            "XEC 0.2596\n",
            "PCI 735.4\n",
            "SOL 169000\n"
          ]
        }
      ]
    },
    {
      "cell_type": "code",
      "metadata": {
        "colab": {
          "base_uri": "https://localhost:8080/"
        },
        "id": "pC86FzWwv9dj",
        "outputId": "4f88dea4-f7cb-4014-ff16-cb1abaa9eabf"
      },
      "source": [
        "price = {\"open\": 100, 'high': 150, 'low': 90, 'close': 130}\n",
        "print(\"point-1\")\n",
        "try:\n",
        "    open = price['open1']\n",
        "except:\n",
        "    print(\"point-2\")\n",
        "    pass"
      ],
      "execution_count": 20,
      "outputs": [
        {
          "output_type": "stream",
          "name": "stdout",
          "text": [
            "point-1\n",
            "point-2\n"
          ]
        }
      ]
    },
    {
      "cell_type": "code",
      "metadata": {
        "colab": {
          "base_uri": "https://localhost:8080/",
          "height": 368
        },
        "id": "k_LNVPvrwBu_",
        "outputId": "73ee993d-5f52-4429-d53c-fb9fb1d99bc5"
      },
      "source": [
        "import pybithumb\n",
        "import time\n",
        " \n",
        "while True:\n",
        "    price = pybithumb.get_current_price(\"BTC\")\n",
        "    try:\n",
        "        print(price/10)\n",
        "    except:\n",
        "        print(\"에러 발생\", price)\n",
        "    time.sleep(0.2)"
      ],
      "execution_count": 21,
      "outputs": [
        {
          "output_type": "stream",
          "name": "stdout",
          "text": [
            "5232200.0\n",
            "5232200.0\n",
            "5232200.0\n",
            "5232200.0\n",
            "5232200.0\n",
            "5232200.0\n",
            "5232200.0\n",
            "5232200.0\n"
          ]
        },
        {
          "output_type": "error",
          "ename": "KeyboardInterrupt",
          "evalue": "ignored",
          "traceback": [
            "\u001b[0;31m---------------------------------------------------------------------------\u001b[0m",
            "\u001b[0;31mKeyboardInterrupt\u001b[0m                         Traceback (most recent call last)",
            "\u001b[0;32m<ipython-input-21-f83ba980f69f>\u001b[0m in \u001b[0;36m<module>\u001b[0;34m()\u001b[0m\n\u001b[1;32m      8\u001b[0m     \u001b[0;32mexcept\u001b[0m\u001b[0;34m:\u001b[0m\u001b[0;34m\u001b[0m\u001b[0;34m\u001b[0m\u001b[0m\n\u001b[1;32m      9\u001b[0m         \u001b[0mprint\u001b[0m\u001b[0;34m(\u001b[0m\u001b[0;34m\"에러 발생\"\u001b[0m\u001b[0;34m,\u001b[0m \u001b[0mprice\u001b[0m\u001b[0;34m)\u001b[0m\u001b[0;34m\u001b[0m\u001b[0;34m\u001b[0m\u001b[0m\n\u001b[0;32m---> 10\u001b[0;31m     \u001b[0mtime\u001b[0m\u001b[0;34m.\u001b[0m\u001b[0msleep\u001b[0m\u001b[0;34m(\u001b[0m\u001b[0;36m0.2\u001b[0m\u001b[0;34m)\u001b[0m\u001b[0;34m\u001b[0m\u001b[0;34m\u001b[0m\u001b[0m\n\u001b[0m",
            "\u001b[0;31mKeyboardInterrupt\u001b[0m: "
          ]
        }
      ]
    },
    {
      "cell_type": "code",
      "metadata": {
        "colab": {
          "base_uri": "https://localhost:8080/"
        },
        "id": "1kgnViE9xk2J",
        "outputId": "9d032957-1cea-44d0-82ac-b75e5f22cccd"
      },
      "source": [
        "import pybithumb\n",
        "\n",
        "btc = pybithumb.get_ohlcv(\"BTC\")\n",
        "print(btc)"
      ],
      "execution_count": 22,
      "outputs": [
        {
          "output_type": "stream",
          "name": "stdout",
          "text": [
            "                           open        high  ...       close       volume\n",
            "time                                         ...                         \n",
            "2013-12-27 00:00:00    737000.0    755000.0  ...    755000.0     3.780000\n",
            "2013-12-28 00:00:00    750000.0    750000.0  ...    750000.0    12.000000\n",
            "2013-12-29 00:00:00    750000.0    750000.0  ...    739000.0    19.058000\n",
            "2013-12-30 00:00:00    740000.0    772000.0  ...    768000.0     9.488973\n",
            "2013-12-31 00:00:00    768000.0    800000.0  ...    768000.0    18.650350\n",
            "...                         ...         ...  ...         ...          ...\n",
            "2021-09-17 00:00:00  56921000.0  57801000.0  ...  57439000.0  1840.257228\n",
            "2021-09-18 00:00:00  57415000.0  58953000.0  ...  58462000.0  1540.640111\n",
            "2021-09-19 00:00:00  58424000.0  58783000.0  ...  57840000.0  1032.666407\n",
            "2021-09-20 00:00:00  57862000.0  58174000.0  ...  54772000.0  4004.064200\n",
            "2021-09-21 23:00:00  54773000.0  55056000.0  ...  52202000.0  3338.749339\n",
            "\n",
            "[2736 rows x 5 columns]\n"
          ]
        }
      ]
    },
    {
      "cell_type": "code",
      "metadata": {
        "colab": {
          "base_uri": "https://localhost:8080/"
        },
        "id": "pbbtKmoexmDR",
        "outputId": "3807a123-6444-4179-be16-5b15168fa05e"
      },
      "source": [
        "import pybithumb\n",
        "\n",
        "btc = pybithumb.get_ohlcv(\"BTC\")\n",
        "close = btc['close']\n",
        "print(close)"
      ],
      "execution_count": 25,
      "outputs": [
        {
          "output_type": "stream",
          "name": "stdout",
          "text": [
            "time\n",
            "2013-12-27 00:00:00      755000.0\n",
            "2013-12-28 00:00:00      750000.0\n",
            "2013-12-29 00:00:00      739000.0\n",
            "2013-12-30 00:00:00      768000.0\n",
            "2013-12-31 00:00:00      768000.0\n",
            "                          ...    \n",
            "2021-09-17 00:00:00    57439000.0\n",
            "2021-09-18 00:00:00    58462000.0\n",
            "2021-09-19 00:00:00    57840000.0\n",
            "2021-09-20 00:00:00    54772000.0\n",
            "2021-09-21 23:00:00    52242000.0\n",
            "Name: close, Length: 2736, dtype: float64\n"
          ]
        }
      ]
    },
    {
      "cell_type": "code",
      "metadata": {
        "colab": {
          "base_uri": "https://localhost:8080/"
        },
        "id": "tG72aka3xvu_",
        "outputId": "bd88ce3b-86bb-420b-cecc-f58fb572c762"
      },
      "source": [
        "import pybithumb\n",
        "\n",
        "btc = pybithumb.get_ohlcv(\"BTC\")\n",
        "close = btc['close']\n",
        "print((close[0] + close[1] + close[2] + close[3] + close[4]) / 5)\n",
        "print((close[1] + close[2] + close[3] + close[4] + close[5]) / 5)\n",
        "print((close[2] + close[3] + close[4] + close[5] + close[6]) / 5) "
      ],
      "execution_count": 27,
      "outputs": [
        {
          "output_type": "stream",
          "name": "stdout",
          "text": [
            "756000.0\n",
            "760400.0\n",
            "766000.0\n"
          ]
        }
      ]
    },
    {
      "cell_type": "code",
      "metadata": {
        "colab": {
          "base_uri": "https://localhost:8080/"
        },
        "id": "Yonu7fUZycIZ",
        "outputId": "99ae9899-8d43-412b-9b03-577a1a81b05d"
      },
      "source": [
        "import pybithumb\n",
        "\n",
        "btc = pybithumb.get_ohlcv(\"BTC\")\n",
        "close = btc['close']\n",
        "\n",
        "window = close.rolling(5)\n",
        "ma5 = window.mean()\n",
        "print(ma5)"
      ],
      "execution_count": 29,
      "outputs": [
        {
          "output_type": "stream",
          "name": "stdout",
          "text": [
            "time\n",
            "2013-12-27 00:00:00           NaN\n",
            "2013-12-28 00:00:00           NaN\n",
            "2013-12-29 00:00:00           NaN\n",
            "2013-12-30 00:00:00           NaN\n",
            "2013-12-31 00:00:00      756000.0\n",
            "                          ...    \n",
            "2021-09-17 00:00:00    56305000.0\n",
            "2021-09-18 00:00:00    57208200.0\n",
            "2021-09-19 00:00:00    57578800.0\n",
            "2021-09-20 00:00:00    57091800.0\n",
            "2021-09-21 23:00:00    56149200.0\n",
            "Name: close, Length: 2736, dtype: float64\n"
          ]
        }
      ]
    },
    {
      "cell_type": "code",
      "metadata": {
        "colab": {
          "base_uri": "https://localhost:8080/"
        },
        "id": "WVmILQ1Fyt8q",
        "outputId": "212db11e-d615-48ca-f4ee-aa41f1616ac9"
      },
      "source": [
        "import pybithumb\n",
        "\n",
        "df = pybithumb.get_ohlcv(\"BTC\")\n",
        "ma5 = df['close'].rolling(window=5).mean()\n",
        "last_ma5 = ma5[-2]\n",
        "\n",
        "price = pybithumb.get_current_price(\"BTC\")\n",
        "\n",
        "if price > last_ma5:\n",
        "    print(\"상승장\")\n",
        "else:\n",
        "    print(\"하락장\")"
      ],
      "execution_count": 30,
      "outputs": [
        {
          "output_type": "stream",
          "name": "stdout",
          "text": [
            "하락장\n"
          ]
        }
      ]
    },
    {
      "cell_type": "code",
      "metadata": {
        "id": "WFO7nxDRy-Rb"
      },
      "source": [
        "import pybithumb\n",
        "\n",
        "def bull_market(ticker):\n",
        "    df = pybithumb.get_ohlcv(ticker)\n",
        "    ma5 = df['close'].rolling(window=5).mean()\n",
        "    price = pybithumb.get_current_price(ticker)\n",
        "    last_ma5 = ma5[-2]\n",
        "\n",
        "    if price > last_ma5:\n",
        "        return True\n",
        "    else:\n",
        "        return False"
      ],
      "execution_count": 32,
      "outputs": []
    },
    {
      "cell_type": "code",
      "metadata": {
        "id": "1zd837-jzDFe"
      },
      "source": [
        "is_bull = bull_market(\"BTC\")\n",
        "if is_bull:\n",
        "   print(\"상승장\")"
      ],
      "execution_count": 35,
      "outputs": []
    },
    {
      "cell_type": "code",
      "metadata": {
        "colab": {
          "base_uri": "https://localhost:8080/",
          "height": 681
        },
        "id": "MNXTesmzzKu3",
        "outputId": "944c4d5b-2f55-4ea5-c2bc-55e764b15c88"
      },
      "source": [
        "tickers = pybithumb.get_tickers()\n",
        "for ticker in tickers:\n",
        "    is_bull = bull_market(ticker)\n",
        "    if is_bull:\n",
        "        print(ticker, \" 상승장\")\n",
        "    else:\n",
        "        print(ticker, \" 하락장\")"
      ],
      "execution_count": 36,
      "outputs": [
        {
          "output_type": "stream",
          "name": "stdout",
          "text": [
            "BTC  하락장\n",
            "ETH  하락장\n",
            "LTC  하락장\n",
            "ETC  하락장\n",
            "XRP  하락장\n",
            "BCH  하락장\n",
            "QTUM  하락장\n",
            "BTG  하락장\n",
            "EOS  하락장\n"
          ]
        },
        {
          "output_type": "error",
          "ename": "KeyboardInterrupt",
          "evalue": "ignored",
          "traceback": [
            "\u001b[0;31m---------------------------------------------------------------------------\u001b[0m",
            "\u001b[0;31mTypeError\u001b[0m                                 Traceback (most recent call last)",
            "\u001b[0;32m/usr/local/lib/python3.7/dist-packages/urllib3/connectionpool.py\u001b[0m in \u001b[0;36m_make_request\u001b[0;34m(self, conn, method, url, timeout, chunked, **httplib_request_kw)\u001b[0m\n\u001b[1;32m    376\u001b[0m             \u001b[0;32mtry\u001b[0m\u001b[0;34m:\u001b[0m  \u001b[0;31m# Python 2.7, use buffering of HTTP responses\u001b[0m\u001b[0;34m\u001b[0m\u001b[0;34m\u001b[0m\u001b[0m\n\u001b[0;32m--> 377\u001b[0;31m                 \u001b[0mhttplib_response\u001b[0m \u001b[0;34m=\u001b[0m \u001b[0mconn\u001b[0m\u001b[0;34m.\u001b[0m\u001b[0mgetresponse\u001b[0m\u001b[0;34m(\u001b[0m\u001b[0mbuffering\u001b[0m\u001b[0;34m=\u001b[0m\u001b[0;32mTrue\u001b[0m\u001b[0;34m)\u001b[0m\u001b[0;34m\u001b[0m\u001b[0;34m\u001b[0m\u001b[0m\n\u001b[0m\u001b[1;32m    378\u001b[0m             \u001b[0;32mexcept\u001b[0m \u001b[0mTypeError\u001b[0m\u001b[0;34m:\u001b[0m  \u001b[0;31m# Python 3\u001b[0m\u001b[0;34m\u001b[0m\u001b[0;34m\u001b[0m\u001b[0m\n",
            "\u001b[0;31mTypeError\u001b[0m: getresponse() got an unexpected keyword argument 'buffering'",
            "\nDuring handling of the above exception, another exception occurred:\n",
            "\u001b[0;31mKeyboardInterrupt\u001b[0m                         Traceback (most recent call last)",
            "\u001b[0;32m<ipython-input-36-ca72fb313677>\u001b[0m in \u001b[0;36m<module>\u001b[0;34m()\u001b[0m\n\u001b[1;32m      1\u001b[0m \u001b[0mtickers\u001b[0m \u001b[0;34m=\u001b[0m \u001b[0mpybithumb\u001b[0m\u001b[0;34m.\u001b[0m\u001b[0mget_tickers\u001b[0m\u001b[0;34m(\u001b[0m\u001b[0;34m)\u001b[0m\u001b[0;34m\u001b[0m\u001b[0;34m\u001b[0m\u001b[0m\n\u001b[1;32m      2\u001b[0m \u001b[0;32mfor\u001b[0m \u001b[0mticker\u001b[0m \u001b[0;32min\u001b[0m \u001b[0mtickers\u001b[0m\u001b[0;34m:\u001b[0m\u001b[0;34m\u001b[0m\u001b[0;34m\u001b[0m\u001b[0m\n\u001b[0;32m----> 3\u001b[0;31m     \u001b[0mis_bull\u001b[0m \u001b[0;34m=\u001b[0m \u001b[0mbull_market\u001b[0m\u001b[0;34m(\u001b[0m\u001b[0mticker\u001b[0m\u001b[0;34m)\u001b[0m\u001b[0;34m\u001b[0m\u001b[0;34m\u001b[0m\u001b[0m\n\u001b[0m\u001b[1;32m      4\u001b[0m     \u001b[0;32mif\u001b[0m \u001b[0mis_bull\u001b[0m\u001b[0;34m:\u001b[0m\u001b[0;34m\u001b[0m\u001b[0;34m\u001b[0m\u001b[0m\n\u001b[1;32m      5\u001b[0m         \u001b[0mprint\u001b[0m\u001b[0;34m(\u001b[0m\u001b[0mticker\u001b[0m\u001b[0;34m,\u001b[0m \u001b[0;34m\" 상승장\"\u001b[0m\u001b[0;34m)\u001b[0m\u001b[0;34m\u001b[0m\u001b[0;34m\u001b[0m\u001b[0m\n",
            "\u001b[0;32m<ipython-input-32-e09c635baa52>\u001b[0m in \u001b[0;36mbull_market\u001b[0;34m(ticker)\u001b[0m\n\u001b[1;32m      4\u001b[0m     \u001b[0mdf\u001b[0m \u001b[0;34m=\u001b[0m \u001b[0mpybithumb\u001b[0m\u001b[0;34m.\u001b[0m\u001b[0mget_ohlcv\u001b[0m\u001b[0;34m(\u001b[0m\u001b[0mticker\u001b[0m\u001b[0;34m)\u001b[0m\u001b[0;34m\u001b[0m\u001b[0;34m\u001b[0m\u001b[0m\n\u001b[1;32m      5\u001b[0m     \u001b[0mma5\u001b[0m \u001b[0;34m=\u001b[0m \u001b[0mdf\u001b[0m\u001b[0;34m[\u001b[0m\u001b[0;34m'close'\u001b[0m\u001b[0;34m]\u001b[0m\u001b[0;34m.\u001b[0m\u001b[0mrolling\u001b[0m\u001b[0;34m(\u001b[0m\u001b[0mwindow\u001b[0m\u001b[0;34m=\u001b[0m\u001b[0;36m5\u001b[0m\u001b[0;34m)\u001b[0m\u001b[0;34m.\u001b[0m\u001b[0mmean\u001b[0m\u001b[0;34m(\u001b[0m\u001b[0;34m)\u001b[0m\u001b[0;34m\u001b[0m\u001b[0;34m\u001b[0m\u001b[0m\n\u001b[0;32m----> 6\u001b[0;31m     \u001b[0mprice\u001b[0m \u001b[0;34m=\u001b[0m \u001b[0mpybithumb\u001b[0m\u001b[0;34m.\u001b[0m\u001b[0mget_current_price\u001b[0m\u001b[0;34m(\u001b[0m\u001b[0mticker\u001b[0m\u001b[0;34m)\u001b[0m\u001b[0;34m\u001b[0m\u001b[0;34m\u001b[0m\u001b[0m\n\u001b[0m\u001b[1;32m      7\u001b[0m     \u001b[0mlast_ma5\u001b[0m \u001b[0;34m=\u001b[0m \u001b[0mma5\u001b[0m\u001b[0;34m[\u001b[0m\u001b[0;34m-\u001b[0m\u001b[0;36m2\u001b[0m\u001b[0;34m]\u001b[0m\u001b[0;34m\u001b[0m\u001b[0;34m\u001b[0m\u001b[0m\n\u001b[1;32m      8\u001b[0m \u001b[0;34m\u001b[0m\u001b[0m\n",
            "\u001b[0;32m/usr/local/lib/python3.7/dist-packages/pybithumb/__init__.py\u001b[0m in \u001b[0;36mget_current_price\u001b[0;34m(order_currency, payment_currency)\u001b[0m\n\u001b[1;32m     15\u001b[0m \u001b[0;34m\u001b[0m\u001b[0m\n\u001b[1;32m     16\u001b[0m \u001b[0;32mdef\u001b[0m \u001b[0mget_current_price\u001b[0m\u001b[0;34m(\u001b[0m\u001b[0morder_currency\u001b[0m\u001b[0;34m,\u001b[0m \u001b[0mpayment_currency\u001b[0m\u001b[0;34m=\u001b[0m\u001b[0;34m\"KRW\"\u001b[0m\u001b[0;34m)\u001b[0m\u001b[0;34m:\u001b[0m\u001b[0;34m\u001b[0m\u001b[0;34m\u001b[0m\u001b[0m\n\u001b[0;32m---> 17\u001b[0;31m     \u001b[0;32mreturn\u001b[0m \u001b[0mBithumb\u001b[0m\u001b[0;34m.\u001b[0m\u001b[0mget_current_price\u001b[0m\u001b[0;34m(\u001b[0m\u001b[0morder_currency\u001b[0m\u001b[0;34m,\u001b[0m \u001b[0mpayment_currency\u001b[0m\u001b[0;34m)\u001b[0m\u001b[0;34m\u001b[0m\u001b[0;34m\u001b[0m\u001b[0m\n\u001b[0m\u001b[1;32m     18\u001b[0m \u001b[0;34m\u001b[0m\u001b[0m\n\u001b[1;32m     19\u001b[0m \u001b[0;34m\u001b[0m\u001b[0m\n",
            "\u001b[0;32m/usr/local/lib/python3.7/dist-packages/pybithumb/client.py\u001b[0m in \u001b[0;36mget_current_price\u001b[0;34m(order_currency, payment_currency)\u001b[0m\n\u001b[1;32m     97\u001b[0m         \u001b[0mresp\u001b[0m \u001b[0;34m=\u001b[0m \u001b[0;32mNone\u001b[0m\u001b[0;34m\u001b[0m\u001b[0;34m\u001b[0m\u001b[0m\n\u001b[1;32m     98\u001b[0m         \u001b[0;32mtry\u001b[0m\u001b[0;34m:\u001b[0m\u001b[0;34m\u001b[0m\u001b[0;34m\u001b[0m\u001b[0m\n\u001b[0;32m---> 99\u001b[0;31m             \u001b[0mresp\u001b[0m \u001b[0;34m=\u001b[0m \u001b[0mPublicApi\u001b[0m\u001b[0;34m.\u001b[0m\u001b[0mticker\u001b[0m\u001b[0;34m(\u001b[0m\u001b[0morder_currency\u001b[0m\u001b[0;34m,\u001b[0m \u001b[0mpayment_currency\u001b[0m\u001b[0;34m)\u001b[0m\u001b[0;34m\u001b[0m\u001b[0;34m\u001b[0m\u001b[0m\n\u001b[0m\u001b[1;32m    100\u001b[0m             \u001b[0;32mif\u001b[0m \u001b[0morder_currency\u001b[0m \u001b[0;34m!=\u001b[0m \u001b[0;34m\"ALL\"\u001b[0m\u001b[0;34m:\u001b[0m\u001b[0;34m\u001b[0m\u001b[0;34m\u001b[0m\u001b[0m\n\u001b[1;32m    101\u001b[0m                 \u001b[0;32mreturn\u001b[0m \u001b[0mfloat\u001b[0m\u001b[0;34m(\u001b[0m\u001b[0mresp\u001b[0m\u001b[0;34m[\u001b[0m\u001b[0;34m'data'\u001b[0m\u001b[0;34m]\u001b[0m\u001b[0;34m[\u001b[0m\u001b[0;34m'closing_price'\u001b[0m\u001b[0;34m]\u001b[0m\u001b[0;34m)\u001b[0m\u001b[0;34m\u001b[0m\u001b[0;34m\u001b[0m\u001b[0m\n",
            "\u001b[0;32m/usr/local/lib/python3.7/dist-packages/pybithumb/core.py\u001b[0m in \u001b[0;36mticker\u001b[0;34m(order_currency, payment_currency)\u001b[0m\n\u001b[1;32m     13\u001b[0m     \u001b[0;32mdef\u001b[0m \u001b[0mticker\u001b[0m\u001b[0;34m(\u001b[0m\u001b[0morder_currency\u001b[0m\u001b[0;34m,\u001b[0m \u001b[0mpayment_currency\u001b[0m\u001b[0;34m=\u001b[0m\u001b[0;34m\"KRW\"\u001b[0m\u001b[0;34m)\u001b[0m\u001b[0;34m:\u001b[0m\u001b[0;34m\u001b[0m\u001b[0;34m\u001b[0m\u001b[0m\n\u001b[1;32m     14\u001b[0m         \u001b[0muri\u001b[0m \u001b[0;34m=\u001b[0m \u001b[0;34m\"/public/ticker/{}_{}\"\u001b[0m\u001b[0;34m.\u001b[0m\u001b[0mformat\u001b[0m\u001b[0;34m(\u001b[0m\u001b[0morder_currency\u001b[0m\u001b[0;34m,\u001b[0m \u001b[0mpayment_currency\u001b[0m\u001b[0;34m)\u001b[0m\u001b[0;34m\u001b[0m\u001b[0;34m\u001b[0m\u001b[0m\n\u001b[0;32m---> 15\u001b[0;31m         \u001b[0;32mreturn\u001b[0m \u001b[0mBithumbHttp\u001b[0m\u001b[0;34m(\u001b[0m\u001b[0;34m)\u001b[0m\u001b[0;34m.\u001b[0m\u001b[0mget\u001b[0m\u001b[0;34m(\u001b[0m\u001b[0muri\u001b[0m\u001b[0;34m)\u001b[0m\u001b[0;34m\u001b[0m\u001b[0;34m\u001b[0m\u001b[0m\n\u001b[0m\u001b[1;32m     16\u001b[0m \u001b[0;34m\u001b[0m\u001b[0m\n\u001b[1;32m     17\u001b[0m     \u001b[0;34m@\u001b[0m\u001b[0mstaticmethod\u001b[0m\u001b[0;34m\u001b[0m\u001b[0;34m\u001b[0m\u001b[0m\n",
            "\u001b[0;32m/usr/local/lib/python3.7/dist-packages/pybithumb/core.py\u001b[0m in \u001b[0;36mget\u001b[0;34m(self, path, timeout, **kwargs)\u001b[0m\n\u001b[1;32m    110\u001b[0m         \u001b[0;32mtry\u001b[0m\u001b[0;34m:\u001b[0m\u001b[0;34m\u001b[0m\u001b[0;34m\u001b[0m\u001b[0m\n\u001b[1;32m    111\u001b[0m             \u001b[0muri\u001b[0m \u001b[0;34m=\u001b[0m \u001b[0mself\u001b[0m\u001b[0;34m.\u001b[0m\u001b[0mbase_url\u001b[0m \u001b[0;34m+\u001b[0m \u001b[0mpath\u001b[0m\u001b[0;34m\u001b[0m\u001b[0;34m\u001b[0m\u001b[0m\n\u001b[0;32m--> 112\u001b[0;31m             \u001b[0;32mreturn\u001b[0m \u001b[0mself\u001b[0m\u001b[0;34m.\u001b[0m\u001b[0msession\u001b[0m\u001b[0;34m.\u001b[0m\u001b[0mget\u001b[0m\u001b[0;34m(\u001b[0m\u001b[0murl\u001b[0m\u001b[0;34m=\u001b[0m\u001b[0muri\u001b[0m\u001b[0;34m,\u001b[0m \u001b[0mparams\u001b[0m\u001b[0;34m=\u001b[0m\u001b[0mkwargs\u001b[0m\u001b[0;34m,\u001b[0m \u001b[0mtimeout\u001b[0m\u001b[0;34m=\u001b[0m\u001b[0mtimeout\u001b[0m\u001b[0;34m)\u001b[0m\u001b[0;34m.\u001b[0m\u001b[0;31m\\\u001b[0m\u001b[0;34m\u001b[0m\u001b[0;34m\u001b[0m\u001b[0m\n\u001b[0m\u001b[1;32m    113\u001b[0m                 \u001b[0mjson\u001b[0m\u001b[0;34m(\u001b[0m\u001b[0;34m)\u001b[0m\u001b[0;34m\u001b[0m\u001b[0;34m\u001b[0m\u001b[0m\n\u001b[1;32m    114\u001b[0m         \u001b[0;32mexcept\u001b[0m \u001b[0mException\u001b[0m \u001b[0;32mas\u001b[0m \u001b[0mx\u001b[0m\u001b[0;34m:\u001b[0m\u001b[0;34m\u001b[0m\u001b[0;34m\u001b[0m\u001b[0m\n",
            "\u001b[0;32m/usr/local/lib/python3.7/dist-packages/requests/sessions.py\u001b[0m in \u001b[0;36mget\u001b[0;34m(self, url, **kwargs)\u001b[0m\n\u001b[1;32m    541\u001b[0m \u001b[0;34m\u001b[0m\u001b[0m\n\u001b[1;32m    542\u001b[0m         \u001b[0mkwargs\u001b[0m\u001b[0;34m.\u001b[0m\u001b[0msetdefault\u001b[0m\u001b[0;34m(\u001b[0m\u001b[0;34m'allow_redirects'\u001b[0m\u001b[0;34m,\u001b[0m \u001b[0;32mTrue\u001b[0m\u001b[0;34m)\u001b[0m\u001b[0;34m\u001b[0m\u001b[0;34m\u001b[0m\u001b[0m\n\u001b[0;32m--> 543\u001b[0;31m         \u001b[0;32mreturn\u001b[0m \u001b[0mself\u001b[0m\u001b[0;34m.\u001b[0m\u001b[0mrequest\u001b[0m\u001b[0;34m(\u001b[0m\u001b[0;34m'GET'\u001b[0m\u001b[0;34m,\u001b[0m \u001b[0murl\u001b[0m\u001b[0;34m,\u001b[0m \u001b[0;34m**\u001b[0m\u001b[0mkwargs\u001b[0m\u001b[0;34m)\u001b[0m\u001b[0;34m\u001b[0m\u001b[0;34m\u001b[0m\u001b[0m\n\u001b[0m\u001b[1;32m    544\u001b[0m \u001b[0;34m\u001b[0m\u001b[0m\n\u001b[1;32m    545\u001b[0m     \u001b[0;32mdef\u001b[0m \u001b[0moptions\u001b[0m\u001b[0;34m(\u001b[0m\u001b[0mself\u001b[0m\u001b[0;34m,\u001b[0m \u001b[0murl\u001b[0m\u001b[0;34m,\u001b[0m \u001b[0;34m**\u001b[0m\u001b[0mkwargs\u001b[0m\u001b[0;34m)\u001b[0m\u001b[0;34m:\u001b[0m\u001b[0;34m\u001b[0m\u001b[0;34m\u001b[0m\u001b[0m\n",
            "\u001b[0;32m/usr/local/lib/python3.7/dist-packages/requests/sessions.py\u001b[0m in \u001b[0;36mrequest\u001b[0;34m(self, method, url, params, data, headers, cookies, files, auth, timeout, allow_redirects, proxies, hooks, stream, verify, cert, json)\u001b[0m\n\u001b[1;32m    528\u001b[0m         }\n\u001b[1;32m    529\u001b[0m         \u001b[0msend_kwargs\u001b[0m\u001b[0;34m.\u001b[0m\u001b[0mupdate\u001b[0m\u001b[0;34m(\u001b[0m\u001b[0msettings\u001b[0m\u001b[0;34m)\u001b[0m\u001b[0;34m\u001b[0m\u001b[0;34m\u001b[0m\u001b[0m\n\u001b[0;32m--> 530\u001b[0;31m         \u001b[0mresp\u001b[0m \u001b[0;34m=\u001b[0m \u001b[0mself\u001b[0m\u001b[0;34m.\u001b[0m\u001b[0msend\u001b[0m\u001b[0;34m(\u001b[0m\u001b[0mprep\u001b[0m\u001b[0;34m,\u001b[0m \u001b[0;34m**\u001b[0m\u001b[0msend_kwargs\u001b[0m\u001b[0;34m)\u001b[0m\u001b[0;34m\u001b[0m\u001b[0;34m\u001b[0m\u001b[0m\n\u001b[0m\u001b[1;32m    531\u001b[0m \u001b[0;34m\u001b[0m\u001b[0m\n\u001b[1;32m    532\u001b[0m         \u001b[0;32mreturn\u001b[0m \u001b[0mresp\u001b[0m\u001b[0;34m\u001b[0m\u001b[0;34m\u001b[0m\u001b[0m\n",
            "\u001b[0;32m/usr/local/lib/python3.7/dist-packages/requests/sessions.py\u001b[0m in \u001b[0;36msend\u001b[0;34m(self, request, **kwargs)\u001b[0m\n\u001b[1;32m    641\u001b[0m \u001b[0;34m\u001b[0m\u001b[0m\n\u001b[1;32m    642\u001b[0m         \u001b[0;31m# Send the request\u001b[0m\u001b[0;34m\u001b[0m\u001b[0;34m\u001b[0m\u001b[0;34m\u001b[0m\u001b[0m\n\u001b[0;32m--> 643\u001b[0;31m         \u001b[0mr\u001b[0m \u001b[0;34m=\u001b[0m \u001b[0madapter\u001b[0m\u001b[0;34m.\u001b[0m\u001b[0msend\u001b[0m\u001b[0;34m(\u001b[0m\u001b[0mrequest\u001b[0m\u001b[0;34m,\u001b[0m \u001b[0;34m**\u001b[0m\u001b[0mkwargs\u001b[0m\u001b[0;34m)\u001b[0m\u001b[0;34m\u001b[0m\u001b[0;34m\u001b[0m\u001b[0m\n\u001b[0m\u001b[1;32m    644\u001b[0m \u001b[0;34m\u001b[0m\u001b[0m\n\u001b[1;32m    645\u001b[0m         \u001b[0;31m# Total elapsed time of the request (approximately)\u001b[0m\u001b[0;34m\u001b[0m\u001b[0;34m\u001b[0m\u001b[0;34m\u001b[0m\u001b[0m\n",
            "\u001b[0;32m/usr/local/lib/python3.7/dist-packages/requests/adapters.py\u001b[0m in \u001b[0;36msend\u001b[0;34m(self, request, stream, timeout, verify, cert, proxies)\u001b[0m\n\u001b[1;32m    447\u001b[0m                     \u001b[0mdecode_content\u001b[0m\u001b[0;34m=\u001b[0m\u001b[0;32mFalse\u001b[0m\u001b[0;34m,\u001b[0m\u001b[0;34m\u001b[0m\u001b[0;34m\u001b[0m\u001b[0m\n\u001b[1;32m    448\u001b[0m                     \u001b[0mretries\u001b[0m\u001b[0;34m=\u001b[0m\u001b[0mself\u001b[0m\u001b[0;34m.\u001b[0m\u001b[0mmax_retries\u001b[0m\u001b[0;34m,\u001b[0m\u001b[0;34m\u001b[0m\u001b[0;34m\u001b[0m\u001b[0m\n\u001b[0;32m--> 449\u001b[0;31m                     \u001b[0mtimeout\u001b[0m\u001b[0;34m=\u001b[0m\u001b[0mtimeout\u001b[0m\u001b[0;34m\u001b[0m\u001b[0;34m\u001b[0m\u001b[0m\n\u001b[0m\u001b[1;32m    450\u001b[0m                 )\n\u001b[1;32m    451\u001b[0m \u001b[0;34m\u001b[0m\u001b[0m\n",
            "\u001b[0;32m/usr/local/lib/python3.7/dist-packages/urllib3/connectionpool.py\u001b[0m in \u001b[0;36murlopen\u001b[0;34m(self, method, url, body, headers, retries, redirect, assert_same_host, timeout, pool_timeout, release_conn, chunked, body_pos, **response_kw)\u001b[0m\n\u001b[1;32m    598\u001b[0m                                                   \u001b[0mtimeout\u001b[0m\u001b[0;34m=\u001b[0m\u001b[0mtimeout_obj\u001b[0m\u001b[0;34m,\u001b[0m\u001b[0;34m\u001b[0m\u001b[0;34m\u001b[0m\u001b[0m\n\u001b[1;32m    599\u001b[0m                                                   \u001b[0mbody\u001b[0m\u001b[0;34m=\u001b[0m\u001b[0mbody\u001b[0m\u001b[0;34m,\u001b[0m \u001b[0mheaders\u001b[0m\u001b[0;34m=\u001b[0m\u001b[0mheaders\u001b[0m\u001b[0;34m,\u001b[0m\u001b[0;34m\u001b[0m\u001b[0;34m\u001b[0m\u001b[0m\n\u001b[0;32m--> 600\u001b[0;31m                                                   chunked=chunked)\n\u001b[0m\u001b[1;32m    601\u001b[0m \u001b[0;34m\u001b[0m\u001b[0m\n\u001b[1;32m    602\u001b[0m             \u001b[0;31m# If we're going to release the connection in ``finally:``, then\u001b[0m\u001b[0;34m\u001b[0m\u001b[0;34m\u001b[0m\u001b[0;34m\u001b[0m\u001b[0m\n",
            "\u001b[0;32m/usr/local/lib/python3.7/dist-packages/urllib3/connectionpool.py\u001b[0m in \u001b[0;36m_make_request\u001b[0;34m(self, conn, method, url, timeout, chunked, **httplib_request_kw)\u001b[0m\n\u001b[1;32m    378\u001b[0m             \u001b[0;32mexcept\u001b[0m \u001b[0mTypeError\u001b[0m\u001b[0;34m:\u001b[0m  \u001b[0;31m# Python 3\u001b[0m\u001b[0;34m\u001b[0m\u001b[0;34m\u001b[0m\u001b[0m\n\u001b[1;32m    379\u001b[0m                 \u001b[0;32mtry\u001b[0m\u001b[0;34m:\u001b[0m\u001b[0;34m\u001b[0m\u001b[0;34m\u001b[0m\u001b[0m\n\u001b[0;32m--> 380\u001b[0;31m                     \u001b[0mhttplib_response\u001b[0m \u001b[0;34m=\u001b[0m \u001b[0mconn\u001b[0m\u001b[0;34m.\u001b[0m\u001b[0mgetresponse\u001b[0m\u001b[0;34m(\u001b[0m\u001b[0;34m)\u001b[0m\u001b[0;34m\u001b[0m\u001b[0;34m\u001b[0m\u001b[0m\n\u001b[0m\u001b[1;32m    381\u001b[0m                 \u001b[0;32mexcept\u001b[0m \u001b[0mException\u001b[0m \u001b[0;32mas\u001b[0m \u001b[0me\u001b[0m\u001b[0;34m:\u001b[0m\u001b[0;34m\u001b[0m\u001b[0;34m\u001b[0m\u001b[0m\n\u001b[1;32m    382\u001b[0m                     \u001b[0;31m# Remove the TypeError from the exception chain in Python 3;\u001b[0m\u001b[0;34m\u001b[0m\u001b[0;34m\u001b[0m\u001b[0;34m\u001b[0m\u001b[0m\n",
            "\u001b[0;32m/usr/lib/python3.7/http/client.py\u001b[0m in \u001b[0;36mgetresponse\u001b[0;34m(self)\u001b[0m\n\u001b[1;32m   1371\u001b[0m         \u001b[0;32mtry\u001b[0m\u001b[0;34m:\u001b[0m\u001b[0;34m\u001b[0m\u001b[0;34m\u001b[0m\u001b[0m\n\u001b[1;32m   1372\u001b[0m             \u001b[0;32mtry\u001b[0m\u001b[0;34m:\u001b[0m\u001b[0;34m\u001b[0m\u001b[0;34m\u001b[0m\u001b[0m\n\u001b[0;32m-> 1373\u001b[0;31m                 \u001b[0mresponse\u001b[0m\u001b[0;34m.\u001b[0m\u001b[0mbegin\u001b[0m\u001b[0;34m(\u001b[0m\u001b[0;34m)\u001b[0m\u001b[0;34m\u001b[0m\u001b[0;34m\u001b[0m\u001b[0m\n\u001b[0m\u001b[1;32m   1374\u001b[0m             \u001b[0;32mexcept\u001b[0m \u001b[0mConnectionError\u001b[0m\u001b[0;34m:\u001b[0m\u001b[0;34m\u001b[0m\u001b[0;34m\u001b[0m\u001b[0m\n\u001b[1;32m   1375\u001b[0m                 \u001b[0mself\u001b[0m\u001b[0;34m.\u001b[0m\u001b[0mclose\u001b[0m\u001b[0;34m(\u001b[0m\u001b[0;34m)\u001b[0m\u001b[0;34m\u001b[0m\u001b[0;34m\u001b[0m\u001b[0m\n",
            "\u001b[0;32m/usr/lib/python3.7/http/client.py\u001b[0m in \u001b[0;36mbegin\u001b[0;34m(self)\u001b[0m\n\u001b[1;32m    317\u001b[0m         \u001b[0;31m# read until we get a non-100 response\u001b[0m\u001b[0;34m\u001b[0m\u001b[0;34m\u001b[0m\u001b[0;34m\u001b[0m\u001b[0m\n\u001b[1;32m    318\u001b[0m         \u001b[0;32mwhile\u001b[0m \u001b[0;32mTrue\u001b[0m\u001b[0;34m:\u001b[0m\u001b[0;34m\u001b[0m\u001b[0;34m\u001b[0m\u001b[0m\n\u001b[0;32m--> 319\u001b[0;31m             \u001b[0mversion\u001b[0m\u001b[0;34m,\u001b[0m \u001b[0mstatus\u001b[0m\u001b[0;34m,\u001b[0m \u001b[0mreason\u001b[0m \u001b[0;34m=\u001b[0m \u001b[0mself\u001b[0m\u001b[0;34m.\u001b[0m\u001b[0m_read_status\u001b[0m\u001b[0;34m(\u001b[0m\u001b[0;34m)\u001b[0m\u001b[0;34m\u001b[0m\u001b[0;34m\u001b[0m\u001b[0m\n\u001b[0m\u001b[1;32m    320\u001b[0m             \u001b[0;32mif\u001b[0m \u001b[0mstatus\u001b[0m \u001b[0;34m!=\u001b[0m \u001b[0mCONTINUE\u001b[0m\u001b[0;34m:\u001b[0m\u001b[0;34m\u001b[0m\u001b[0;34m\u001b[0m\u001b[0m\n\u001b[1;32m    321\u001b[0m                 \u001b[0;32mbreak\u001b[0m\u001b[0;34m\u001b[0m\u001b[0;34m\u001b[0m\u001b[0m\n",
            "\u001b[0;32m/usr/lib/python3.7/http/client.py\u001b[0m in \u001b[0;36m_read_status\u001b[0;34m(self)\u001b[0m\n\u001b[1;32m    278\u001b[0m \u001b[0;34m\u001b[0m\u001b[0m\n\u001b[1;32m    279\u001b[0m     \u001b[0;32mdef\u001b[0m \u001b[0m_read_status\u001b[0m\u001b[0;34m(\u001b[0m\u001b[0mself\u001b[0m\u001b[0;34m)\u001b[0m\u001b[0;34m:\u001b[0m\u001b[0;34m\u001b[0m\u001b[0;34m\u001b[0m\u001b[0m\n\u001b[0;32m--> 280\u001b[0;31m         \u001b[0mline\u001b[0m \u001b[0;34m=\u001b[0m \u001b[0mstr\u001b[0m\u001b[0;34m(\u001b[0m\u001b[0mself\u001b[0m\u001b[0;34m.\u001b[0m\u001b[0mfp\u001b[0m\u001b[0;34m.\u001b[0m\u001b[0mreadline\u001b[0m\u001b[0;34m(\u001b[0m\u001b[0m_MAXLINE\u001b[0m \u001b[0;34m+\u001b[0m \u001b[0;36m1\u001b[0m\u001b[0;34m)\u001b[0m\u001b[0;34m,\u001b[0m \u001b[0;34m\"iso-8859-1\"\u001b[0m\u001b[0;34m)\u001b[0m\u001b[0;34m\u001b[0m\u001b[0;34m\u001b[0m\u001b[0m\n\u001b[0m\u001b[1;32m    281\u001b[0m         \u001b[0;32mif\u001b[0m \u001b[0mlen\u001b[0m\u001b[0;34m(\u001b[0m\u001b[0mline\u001b[0m\u001b[0;34m)\u001b[0m \u001b[0;34m>\u001b[0m \u001b[0m_MAXLINE\u001b[0m\u001b[0;34m:\u001b[0m\u001b[0;34m\u001b[0m\u001b[0;34m\u001b[0m\u001b[0m\n\u001b[1;32m    282\u001b[0m             \u001b[0;32mraise\u001b[0m \u001b[0mLineTooLong\u001b[0m\u001b[0;34m(\u001b[0m\u001b[0;34m\"status line\"\u001b[0m\u001b[0;34m)\u001b[0m\u001b[0;34m\u001b[0m\u001b[0;34m\u001b[0m\u001b[0m\n",
            "\u001b[0;32m/usr/lib/python3.7/socket.py\u001b[0m in \u001b[0;36mreadinto\u001b[0;34m(self, b)\u001b[0m\n\u001b[1;32m    587\u001b[0m         \u001b[0;32mwhile\u001b[0m \u001b[0;32mTrue\u001b[0m\u001b[0;34m:\u001b[0m\u001b[0;34m\u001b[0m\u001b[0;34m\u001b[0m\u001b[0m\n\u001b[1;32m    588\u001b[0m             \u001b[0;32mtry\u001b[0m\u001b[0;34m:\u001b[0m\u001b[0;34m\u001b[0m\u001b[0;34m\u001b[0m\u001b[0m\n\u001b[0;32m--> 589\u001b[0;31m                 \u001b[0;32mreturn\u001b[0m \u001b[0mself\u001b[0m\u001b[0;34m.\u001b[0m\u001b[0m_sock\u001b[0m\u001b[0;34m.\u001b[0m\u001b[0mrecv_into\u001b[0m\u001b[0;34m(\u001b[0m\u001b[0mb\u001b[0m\u001b[0;34m)\u001b[0m\u001b[0;34m\u001b[0m\u001b[0;34m\u001b[0m\u001b[0m\n\u001b[0m\u001b[1;32m    590\u001b[0m             \u001b[0;32mexcept\u001b[0m \u001b[0mtimeout\u001b[0m\u001b[0;34m:\u001b[0m\u001b[0;34m\u001b[0m\u001b[0;34m\u001b[0m\u001b[0m\n\u001b[1;32m    591\u001b[0m                 \u001b[0mself\u001b[0m\u001b[0;34m.\u001b[0m\u001b[0m_timeout_occurred\u001b[0m \u001b[0;34m=\u001b[0m \u001b[0;32mTrue\u001b[0m\u001b[0;34m\u001b[0m\u001b[0;34m\u001b[0m\u001b[0m\n",
            "\u001b[0;32m/usr/lib/python3.7/ssl.py\u001b[0m in \u001b[0;36mrecv_into\u001b[0;34m(self, buffer, nbytes, flags)\u001b[0m\n\u001b[1;32m   1069\u001b[0m                   \u001b[0;34m\"non-zero flags not allowed in calls to recv_into() on %s\"\u001b[0m \u001b[0;34m%\u001b[0m\u001b[0;34m\u001b[0m\u001b[0;34m\u001b[0m\u001b[0m\n\u001b[1;32m   1070\u001b[0m                   self.__class__)\n\u001b[0;32m-> 1071\u001b[0;31m             \u001b[0;32mreturn\u001b[0m \u001b[0mself\u001b[0m\u001b[0;34m.\u001b[0m\u001b[0mread\u001b[0m\u001b[0;34m(\u001b[0m\u001b[0mnbytes\u001b[0m\u001b[0;34m,\u001b[0m \u001b[0mbuffer\u001b[0m\u001b[0;34m)\u001b[0m\u001b[0;34m\u001b[0m\u001b[0;34m\u001b[0m\u001b[0m\n\u001b[0m\u001b[1;32m   1072\u001b[0m         \u001b[0;32melse\u001b[0m\u001b[0;34m:\u001b[0m\u001b[0;34m\u001b[0m\u001b[0;34m\u001b[0m\u001b[0m\n\u001b[1;32m   1073\u001b[0m             \u001b[0;32mreturn\u001b[0m \u001b[0msuper\u001b[0m\u001b[0;34m(\u001b[0m\u001b[0;34m)\u001b[0m\u001b[0;34m.\u001b[0m\u001b[0mrecv_into\u001b[0m\u001b[0;34m(\u001b[0m\u001b[0mbuffer\u001b[0m\u001b[0;34m,\u001b[0m \u001b[0mnbytes\u001b[0m\u001b[0;34m,\u001b[0m \u001b[0mflags\u001b[0m\u001b[0;34m)\u001b[0m\u001b[0;34m\u001b[0m\u001b[0;34m\u001b[0m\u001b[0m\n",
            "\u001b[0;32m/usr/lib/python3.7/ssl.py\u001b[0m in \u001b[0;36mread\u001b[0;34m(self, len, buffer)\u001b[0m\n\u001b[1;32m    927\u001b[0m         \u001b[0;32mtry\u001b[0m\u001b[0;34m:\u001b[0m\u001b[0;34m\u001b[0m\u001b[0;34m\u001b[0m\u001b[0m\n\u001b[1;32m    928\u001b[0m             \u001b[0;32mif\u001b[0m \u001b[0mbuffer\u001b[0m \u001b[0;32mis\u001b[0m \u001b[0;32mnot\u001b[0m \u001b[0;32mNone\u001b[0m\u001b[0;34m:\u001b[0m\u001b[0;34m\u001b[0m\u001b[0;34m\u001b[0m\u001b[0m\n\u001b[0;32m--> 929\u001b[0;31m                 \u001b[0;32mreturn\u001b[0m \u001b[0mself\u001b[0m\u001b[0;34m.\u001b[0m\u001b[0m_sslobj\u001b[0m\u001b[0;34m.\u001b[0m\u001b[0mread\u001b[0m\u001b[0;34m(\u001b[0m\u001b[0mlen\u001b[0m\u001b[0;34m,\u001b[0m \u001b[0mbuffer\u001b[0m\u001b[0;34m)\u001b[0m\u001b[0;34m\u001b[0m\u001b[0;34m\u001b[0m\u001b[0m\n\u001b[0m\u001b[1;32m    930\u001b[0m             \u001b[0;32melse\u001b[0m\u001b[0;34m:\u001b[0m\u001b[0;34m\u001b[0m\u001b[0;34m\u001b[0m\u001b[0m\n\u001b[1;32m    931\u001b[0m                 \u001b[0;32mreturn\u001b[0m \u001b[0mself\u001b[0m\u001b[0;34m.\u001b[0m\u001b[0m_sslobj\u001b[0m\u001b[0;34m.\u001b[0m\u001b[0mread\u001b[0m\u001b[0;34m(\u001b[0m\u001b[0mlen\u001b[0m\u001b[0;34m)\u001b[0m\u001b[0;34m\u001b[0m\u001b[0;34m\u001b[0m\u001b[0m\n",
            "\u001b[0;31mKeyboardInterrupt\u001b[0m: "
          ]
        }
      ]
    },
    {
      "cell_type": "code",
      "metadata": {
        "id": "ri8z6laBzl56"
      },
      "source": [
        "import sys\n",
        "from PyQt5.QtWidgets import *\n",
        "from PyQt5 import uic\n",
        "from PyQt5.QtCore import *\n",
        "import pybithumb\n",
        "\n",
        "tickers = [\"BTC\", \"ETH\", \"BCH\", \"ETC\"]\n",
        "form_class = uic.loadUiType(\"bull.ui\")[0]\n",
        "\n",
        "class MyWindow(QMainWindow, form_class):\n",
        "    def __init__(self):\n",
        "        super().__init__()\n",
        "        self.setupUi(self)\n",
        "\n",
        "        timer = QTimer(self)\n",
        "        timer.start(5000)\n",
        "        timer.timeout.connect(self.timeout)\n",
        "\n",
        "    def get_market_infos(self, ticker):\n",
        "        df = pybithumb.get_ohlcv(ticker)\n",
        "        ma5 = df['close'].rolling(window=5).mean()\n",
        "        last_ma5 = ma5[-2]\n",
        "        price = pybithumb.get_current_price(ticker)\n",
        "\n",
        "        state = None\n",
        "        if price > last_ma5:\n",
        "            state = \"상승장\"\n",
        "        else:\n",
        "            state = \"하락장\"\n",
        "\n",
        "        return price, last_ma5, state\n",
        "\n",
        "    def timeout(self):\n",
        "        for i, ticker in enumerate(tickers):\n",
        "            item = QTableWidgetItem(ticker)\n",
        "            self.tableWidget.setItem(i, 0, item)\n",
        "\n",
        "            price, last_ma5, state = self.get_market_infos(ticker)\n",
        "            self.tableWidget.setItem(i, 1, QTableWidgetItem(str(price)))\n",
        "            self.tableWidget.setItem(i, 2, QTableWidgetItem(str(last_ma5)))\n",
        "            self.tableWidget.setItem(i, 3, QTableWidgetItem(state))\n",
        "\n",
        "\n",
        "app = QApplication(sys.argv)\n",
        "window = MyWindow()\n",
        "window.show()\n",
        "app.exec_()"
      ],
      "execution_count": null,
      "outputs": []
    },
    {
      "cell_type": "code",
      "metadata": {
        "id": "7zMfybsxE_L4"
      },
      "source": [
        "import sys\n",
        "from PyQt5.QtWidgets import *\n",
        "from PyQt5 import uic\n",
        "from PyQt5.QtCore import *\n",
        "import pybithumb\n",
        "\n",
        "tickers = [\"BTC\", \"ETH\", \"BCH\", \"ETC\"]\n",
        "form_class = uic.loadUiType(\"bull.ui\")[0]\n",
        "\n",
        "\n",
        "class Worker(QThread):\n",
        "    finished = pyqtSignal(dict)\n",
        "\n",
        "    def run(self):\n",
        "        while True:\n",
        "            data = {}\n",
        "\n",
        "            for ticker in tickers:\n",
        "                data[ticker] = self.get_market_infos(ticker)\n",
        "\n",
        "            self.finished.emit(data)\n",
        "            self.msleep(500)\n",
        "\n",
        "    def get_market_infos(self, ticker):\n",
        "        try:\n",
        "            df = pybithumb.get_ohlcv(ticker)\n",
        "            ma5 = df['close'].rolling(window=5).mean()\n",
        "\n",
        "            price = pybithumb.get_current_price(ticker)\n",
        "            last_ma5 = ma5[-2]\n",
        "\n",
        "            state = None\n",
        "            if price > last_ma5:\n",
        "                state = \"상승장\"\n",
        "            else:\n",
        "                state = \"하락장\"\n",
        "\n",
        "            return (price, last_ma5, state)\n",
        "        except:\n",
        "            return (None, None, None)\n",
        "\n",
        "\n",
        "class MyWindow(QMainWindow, form_class):\n",
        "    def __init__(self):\n",
        "        super().__init__()\n",
        "        self.setupUi(self)\n",
        "\n",
        "        self.tableWidget.setRowCount(len(tickers))\n",
        "        self.worker = Worker()\n",
        "        self.worker.finished.connect(self.update_table_widget)\n",
        "        self.worker.start()\n",
        "\n",
        "    @pyqtSlot(dict)\n",
        "    def update_table_widget(self, data):\n",
        "        try:\n",
        "            for ticker, infos in data.items():\n",
        "                index = tickers.index(ticker)\n",
        "\n",
        "                self.tableWidget.setItem(index, 0, QTableWidgetItem(ticker))\n",
        "                self.tableWidget.setItem(index, 1, QTableWidgetItem(str(infos[0])))\n",
        "                self.tableWidget.setItem(index, 2, QTableWidgetItem(str(infos[1])))\n",
        "                self.tableWidget.setItem(index, 3, QTableWidgetItem(str(infos[2])))\n",
        "        except:\n",
        "            pass\n",
        "\n",
        "\n",
        "app = QApplication(sys.argv)\n",
        "win = MyWindow()\n",
        "win.show()\n",
        "app.exec_()\n"
      ],
      "execution_count": null,
      "outputs": []
    }
  ]
}