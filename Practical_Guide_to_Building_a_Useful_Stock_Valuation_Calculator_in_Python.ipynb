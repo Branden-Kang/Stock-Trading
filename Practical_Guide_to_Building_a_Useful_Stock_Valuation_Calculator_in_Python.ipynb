{
  "nbformat": 4,
  "nbformat_minor": 0,
  "metadata": {
    "colab": {
      "provenance": [],
      "authorship_tag": "ABX9TyODOzS5f+6Vbcqm/2RPbu4V"
    },
    "kernelspec": {
      "name": "python3",
      "display_name": "Python 3"
    },
    "language_info": {
      "name": "python"
    }
  },
  "cells": [
    {
      "cell_type": "markdown",
      "source": [
        "[Reference](https://medium.com/the-handbook-of-coding-in-finance/practical-guide-to-building-a-useful-stock-valuation-calculator-in-python-8df40c4a1389)"
      ],
      "metadata": {
        "id": "9LBRyoBJwu46"
      }
    },
    {
      "cell_type": "code",
      "execution_count": 1,
      "metadata": {
        "id": "PwKbgEFLwqJA"
      },
      "outputs": [],
      "source": [
        "import streamlit as st\n",
        "import yahoo_fin.stock_info as si\n",
        "from yahoo_fin.stock_info import get_analysts_info\n",
        "import pandas_datareader as pdr\n",
        "\n",
        "st.header(\"Graham's Stock Valuation Calculator\")\n",
        "\n",
        "ticker = st.text_input('Ticker', 'AAPL')\n",
        "ng_pe = st.text_input('No Growth PE', 8.5)\n",
        "multiplier = st.text_input('Multiplier of Growth Rate', 2)\n",
        "margin = st.text_input('Margin of Safety(%)', 35)\n",
        "\n",
        "data = {}\n",
        "def get_data(ticker, ng_pe, multiplier, margin):\n",
        "    quote = si.get_quote_table(ticker)\n",
        "    current_price = quote[\"Quote Price\"]\n",
        "    eps = quote[\"EPS (TTM)\"]\n",
        "    growth_df = get_analysts_info(ticker)['Growth Estimates']\n",
        "    growth_rate = growth_df.iloc[4][1]\n",
        "    growth_rate = growth_rate.rstrip(\"%\")\n",
        "    aaa_df = pdr.get_data_fred('AAA')\n",
        "    current_yield = aaa_df.iloc[-1][0]\n",
        "\n",
        "    output = {\n",
        "        \"current_price\": float(current_price),\n",
        "        \"eps\": float(eps),\n",
        "        \"growth_rate\": float(growth_rate),\n",
        "        \"current_yield\": float(current_yield),\n",
        "        \"ng_pe\": float(ng_pe),\n",
        "        \"multiplier\": float(multiplier),\n",
        "        \"margin\": float(margin)\n",
        "    }\n",
        "    return output \n",
        "\n",
        "if st.button('Calculate'):\n",
        "    data = get_data(ticker, ng_pe, multiplier, margin)\n",
        "\n",
        "    st.markdown(\"\"\"---\"\"\")\n",
        "\n",
        "    col1, col2, col3 = st.columns(3)\n",
        "\n",
        "    with col1:\n",
        "        st.metric(label=\"EPS($)\", value=data[\"eps\"])\n",
        "    with col2:\n",
        "        st.metric(label=\"Projected Growth Rate (5 years)\", value=data[\"growth_rate\"])\n",
        "    with col3:\n",
        "        st.metric(label=\"Current Yield AAA Corp Bond\", value=data[\"current_yield\"])   \n",
        "\n",
        "    st.markdown(\"\"\"---\"\"\")\n",
        "\n",
        "    int_value = (data[\"eps\"] * (data[\"ng_pe\"] + data[\"multiplier\"] * data[\"growth_rate\"] ) * 4.4)/ data[\"current_yield\"]\n",
        "    int_value = round(int_value,2)\n",
        "    stock_price = round(data[\"current_price\"],2)\n",
        "    margin_rate = data[\"margin\"] / 100\n",
        "    accept_price = (1-margin_rate) * int_value\n",
        "    accept_price = round(accept_price,2) \n",
        "\n",
        "    col4, col5, col6 = st.columns(3)\n",
        "    with col4:\n",
        "        st.subheader('Current Stock Price($)')\n",
        "        st.subheader(\"**:blue[\" + str(stock_price) + \"]**\")       \n",
        "    with col5:\n",
        "        st.subheader('Intrinsic Stock Value($)')\n",
        "        st.subheader(\"**:blue[\" + str(int_value) + \"]**\")\n",
        "    with col6:\n",
        "        st.subheader('Acceptable Buy Price($)')\n",
        "        st.subheader(\"**:blue[\" + str(accept_price) + \"]**\")\n",
        "else:\n",
        "    st.text(\"Click on Calculate button\")"
      ]
    }
  ]
}