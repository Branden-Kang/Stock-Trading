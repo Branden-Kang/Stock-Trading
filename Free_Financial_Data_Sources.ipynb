{
  "nbformat": 4,
  "nbformat_minor": 0,
  "metadata": {
    "colab": {
      "provenance": [],
      "authorship_tag": "ABX9TyONWEQOcapi4IJQcMVa719f"
    },
    "kernelspec": {
      "name": "python3",
      "display_name": "Python 3"
    },
    "language_info": {
      "name": "python"
    }
  },
  "cells": [
    {
      "cell_type": "markdown",
      "source": [
        "[Reference](https://medium.com/@mlblogging.k/free-financial-data-sources-4283846ba9f5)"
      ],
      "metadata": {
        "id": "eqh38csdcxRF"
      }
    },
    {
      "cell_type": "markdown",
      "source": [
        "- Investing.com\n",
        "- Stooq.com\n",
        "- Yahoo finance\n",
        "- Alpha Vantage\n",
        "- SimFin\n",
        "- Edgar SEC\n",
        "- Fred database\n",
        "- Binance"
      ],
      "metadata": {
        "id": "0ctj8zYMczfy"
      }
    },
    {
      "cell_type": "code",
      "source": [
        "pip install investpy"
      ],
      "metadata": {
        "colab": {
          "base_uri": "https://localhost:8080/"
        },
        "id": "8eVk511-ctun",
        "outputId": "70b976a5-887a-4aca-b447-b5787a3c0856"
      },
      "execution_count": 2,
      "outputs": [
        {
          "output_type": "stream",
          "name": "stdout",
          "text": [
            "Looking in indexes: https://pypi.org/simple, https://us-python.pkg.dev/colab-wheels/public/simple/\n",
            "Collecting investpy\n",
            "  Downloading investpy-1.0.8.tar.gz (4.4 MB)\n",
            "\u001b[K     |████████████████████████████████| 4.4 MB 5.1 MB/s \n",
            "\u001b[?25hCollecting Unidecode>=1.1.1\n",
            "  Downloading Unidecode-1.3.6-py3-none-any.whl (235 kB)\n",
            "\u001b[K     |████████████████████████████████| 235 kB 52.2 MB/s \n",
            "\u001b[?25hRequirement already satisfied: setuptools>=41.2.0 in /usr/local/lib/python3.8/dist-packages (from investpy) (57.4.0)\n",
            "Requirement already satisfied: numpy>=1.17.2 in /usr/local/lib/python3.8/dist-packages (from investpy) (1.21.6)\n",
            "Requirement already satisfied: pandas>=0.25.1 in /usr/local/lib/python3.8/dist-packages (from investpy) (1.3.5)\n",
            "Requirement already satisfied: lxml>=4.4.1 in /usr/local/lib/python3.8/dist-packages (from investpy) (4.9.1)\n",
            "Requirement already satisfied: requests>=2.22.0 in /usr/local/lib/python3.8/dist-packages (from investpy) (2.23.0)\n",
            "Requirement already satisfied: pytz>=2019.3 in /usr/local/lib/python3.8/dist-packages (from investpy) (2022.6)\n",
            "Requirement already satisfied: python-dateutil>=2.7.3 in /usr/local/lib/python3.8/dist-packages (from pandas>=0.25.1->investpy) (2.8.2)\n",
            "Requirement already satisfied: six>=1.5 in /usr/local/lib/python3.8/dist-packages (from python-dateutil>=2.7.3->pandas>=0.25.1->investpy) (1.15.0)\n",
            "Requirement already satisfied: urllib3!=1.25.0,!=1.25.1,<1.26,>=1.21.1 in /usr/local/lib/python3.8/dist-packages (from requests>=2.22.0->investpy) (1.24.3)\n",
            "Requirement already satisfied: certifi>=2017.4.17 in /usr/local/lib/python3.8/dist-packages (from requests>=2.22.0->investpy) (2022.9.24)\n",
            "Requirement already satisfied: chardet<4,>=3.0.2 in /usr/local/lib/python3.8/dist-packages (from requests>=2.22.0->investpy) (3.0.4)\n",
            "Requirement already satisfied: idna<3,>=2.5 in /usr/local/lib/python3.8/dist-packages (from requests>=2.22.0->investpy) (2.10)\n",
            "Building wheels for collected packages: investpy\n",
            "  Building wheel for investpy (setup.py) ... \u001b[?25l\u001b[?25hdone\n",
            "  Created wheel for investpy: filename=investpy-1.0.8-py3-none-any.whl size=4481592 sha256=43528b4b5773b0f1f6ea9a51be5794db3b4890ada9d94e75177a54cb9680ec28\n",
            "  Stored in directory: /root/.cache/pip/wheels/9a/6f/8e/21466569113166e5859029b97fcae2b81af57063ed9faf698e\n",
            "Successfully built investpy\n",
            "Installing collected packages: Unidecode, investpy\n",
            "Successfully installed Unidecode-1.3.6 investpy-1.0.8\n"
          ]
        }
      ]
    },
    {
      "cell_type": "code",
      "execution_count": 4,
      "metadata": {
        "id": "72sIKNOGcixY"
      },
      "outputs": [],
      "source": [
        "# import investpy\n",
        "# df = investpy.get_stock_historical_data(\n",
        "# stock='MSFT',\n",
        "# country='United States',\n",
        "# from_date='01/01/2012',\n",
        "# to_date='11/07/2022'\n",
        "# )\n",
        "# print(df.head())"
      ]
    },
    {
      "cell_type": "code",
      "source": [
        "# import investpy\n",
        "# df = investpy.get_commodity_historical_data(\n",
        "# commodity='Zinc',\n",
        "# from_date='01/01/2012',\n",
        "# to_date='11/07/2022'\n",
        "# )\n",
        "# print(df.head())"
      ],
      "metadata": {
        "id": "ksN--lo4cpwh"
      },
      "execution_count": 6,
      "outputs": []
    },
    {
      "cell_type": "code",
      "source": [
        "# import investpy\n",
        "# df = investpy.get_currency_cross_historical_data(\n",
        "# currency_cross='EUR/USD',\n",
        "# from_date='01/01/2012',\n",
        "# to_date='11/07/2022'\n",
        "# )\n",
        "# print(df.head())"
      ],
      "metadata": {
        "id": "kDfBorfkcrAb"
      },
      "execution_count": 7,
      "outputs": []
    },
    {
      "cell_type": "code",
      "source": [
        "import pandas_datareader as pdr\n",
        "dfr = pdr.stooq.StooqDailyReader(\n",
        "symbols=[ 'META.US', 'MSFT.US', 'GOOG.US'],\n",
        "start='1/1/15',\n",
        "end='7/11/22'\n",
        ")\n",
        "df = dfr.read()\n",
        "print(df.head())"
      ],
      "metadata": {
        "colab": {
          "base_uri": "https://localhost:8080/"
        },
        "id": "a7zgli7_cvLt",
        "outputId": "e7d024c9-599c-498a-90d5-1973cc4a5df6"
      },
      "execution_count": 8,
      "outputs": [
        {
          "output_type": "stream",
          "name": "stdout",
          "text": [
            "Attributes   Close                      High                         Low  \\\n",
            "Symbols    META.US  MSFT.US  GOOG.US META.US  MSFT.US  GOOG.US   META.US   \n",
            "Date                                                                       \n",
            "2022-07-11  162.88  263.950  116.522  167.49  265.965  118.794  161.9100   \n",
            "2022-07-08  170.88  267.093  120.168  172.40  267.532  120.435  168.1501   \n",
            "2022-07-07  172.19  267.831  119.306  172.72  268.485  119.862  167.7800   \n",
            "2022-07-06  169.77  265.646  115.214  171.59  267.422  116.352  165.4600   \n",
            "2022-07-05  168.19  262.293  113.887  168.25  262.423  114.053  157.0200   \n",
            "\n",
            "Attributes                       Open                        Volume  \\\n",
            "Symbols     MSFT.US  GOOG.US  META.US  MSFT.US  GOOG.US     META.US   \n",
            "Date                                                                  \n",
            "2022-07-11  261.625  116.234  167.065  265.087  118.650  21905133.0   \n",
            "2022-07-08  262.727  117.514  169.980  264.229  117.550  19249243.0   \n",
            "2022-07-07  264.459  115.534  169.450  264.558  116.008  24083368.0   \n",
            "2022-07-06  261.844  112.251  168.200  263.191  114.092  23085921.0   \n",
            "2022-07-05  254.200  106.250  158.140  255.617  107.514  28664799.0   \n",
            "\n",
            "Attributes                            \n",
            "Symbols          MSFT.US     GOOG.US  \n",
            "Date                                  \n",
            "2022-07-11  1.956054e+07  26830460.0  \n",
            "2022-07-08  1.970048e+07  29082200.0  \n",
            "2022-07-07  2.090415e+07  32183940.0  \n",
            "2022-07-06  2.387499e+07  28852680.0  \n",
            "2022-07-05  2.302039e+07  36429380.0  \n"
          ]
        }
      ]
    },
    {
      "cell_type": "code",
      "source": [
        "pip install yfinance"
      ],
      "metadata": {
        "colab": {
          "base_uri": "https://localhost:8080/",
          "height": 511
        },
        "id": "FOBT1lHPdCj5",
        "outputId": "7b53d271-244b-4551-c633-79ccd5a80638"
      },
      "execution_count": 10,
      "outputs": [
        {
          "output_type": "stream",
          "name": "stdout",
          "text": [
            "Looking in indexes: https://pypi.org/simple, https://us-python.pkg.dev/colab-wheels/public/simple/\n",
            "Collecting yfinance\n",
            "  Downloading yfinance-0.1.87-py2.py3-none-any.whl (29 kB)\n",
            "Requirement already satisfied: appdirs>=1.4.4 in /usr/local/lib/python3.8/dist-packages (from yfinance) (1.4.4)\n",
            "Requirement already satisfied: lxml>=4.5.1 in /usr/local/lib/python3.8/dist-packages (from yfinance) (4.9.1)\n",
            "Collecting requests>=2.26\n",
            "  Downloading requests-2.28.1-py3-none-any.whl (62 kB)\n",
            "\u001b[K     |████████████████████████████████| 62 kB 1.1 MB/s \n",
            "\u001b[?25hRequirement already satisfied: pandas>=0.24.0 in /usr/local/lib/python3.8/dist-packages (from yfinance) (1.3.5)\n",
            "Requirement already satisfied: multitasking>=0.0.7 in /usr/local/lib/python3.8/dist-packages (from yfinance) (0.0.11)\n",
            "Requirement already satisfied: numpy>=1.15 in /usr/local/lib/python3.8/dist-packages (from yfinance) (1.21.6)\n",
            "Requirement already satisfied: python-dateutil>=2.7.3 in /usr/local/lib/python3.8/dist-packages (from pandas>=0.24.0->yfinance) (2.8.2)\n",
            "Requirement already satisfied: pytz>=2017.3 in /usr/local/lib/python3.8/dist-packages (from pandas>=0.24.0->yfinance) (2022.6)\n",
            "Requirement already satisfied: six>=1.5 in /usr/local/lib/python3.8/dist-packages (from python-dateutil>=2.7.3->pandas>=0.24.0->yfinance) (1.15.0)\n",
            "Requirement already satisfied: urllib3<1.27,>=1.21.1 in /usr/local/lib/python3.8/dist-packages (from requests>=2.26->yfinance) (1.24.3)\n",
            "Requirement already satisfied: certifi>=2017.4.17 in /usr/local/lib/python3.8/dist-packages (from requests>=2.26->yfinance) (2022.9.24)\n",
            "Requirement already satisfied: charset-normalizer<3,>=2 in /usr/local/lib/python3.8/dist-packages (from requests>=2.26->yfinance) (2.1.1)\n",
            "Requirement already satisfied: idna<4,>=2.5 in /usr/local/lib/python3.8/dist-packages (from requests>=2.26->yfinance) (2.10)\n",
            "Installing collected packages: requests, yfinance\n",
            "  Attempting uninstall: requests\n",
            "    Found existing installation: requests 2.23.0\n",
            "    Uninstalling requests-2.23.0:\n",
            "      Successfully uninstalled requests-2.23.0\n",
            "Successfully installed requests-2.28.1 yfinance-0.1.87\n"
          ]
        },
        {
          "output_type": "display_data",
          "data": {
            "application/vnd.colab-display-data+json": {
              "pip_warning": {
                "packages": [
                  "requests"
                ]
              }
            }
          },
          "metadata": {}
        }
      ]
    },
    {
      "cell_type": "code",
      "source": [
        "import yfinance as yf\n",
        "msft = yf.Ticker(\"MSFT\")\n",
        "# get stock info\n",
        "msft.info\n",
        "# get historical market data\n",
        "hist = msft.history(period=\"max\")\n",
        "# show actions (dividends, splits)\n",
        "msft.actions\n",
        "# show dividends\n",
        "msft.dividends\n",
        "# show splits\n",
        "msft.splits\n",
        "# show financials\n",
        "msft.financials\n",
        "msft.quarterly_financials\n",
        "# show major holders\n",
        "msft.major_holders\n",
        "# show institutional holders\n",
        "msft.institutional_holders\n",
        "# show balance sheet\n",
        "msft.balance_sheet\n",
        "msft.quarterly_balance_sheet\n",
        "# show cashflow\n",
        "msft.cashflow\n",
        "msft.quarterly_cashflow\n",
        "# show earnings\n",
        "msft.earnings\n",
        "msft.quarterly_earnings\n",
        "# show sustainability\n",
        "msft.sustainability\n",
        "# show analysts recommendations\n",
        "msft.recommendations\n",
        "# show next event (earnings, etc)\n",
        "msft.calendar\n",
        "# show all earnings dates\n",
        "msft.earnings_dates\n",
        "# show ISIN code - *experimental*\n",
        "# ISIN = International Securities Identification Number\n",
        "msft.isin\n",
        "# show options expirations\n",
        "msft.options\n",
        "# show news\n",
        "msft.news\n",
        "# get option chain for specific expiration\n",
        "# opt = msft.option_chain('YYYY-MM-DD')\n",
        "# data available via: opt.calls, opt.puts"
      ],
      "metadata": {
        "colab": {
          "base_uri": "https://localhost:8080/"
        },
        "id": "HiVepK2yc-WC",
        "outputId": "892e3f70-bc3f-4754-98d3-88e2e3b79e1f"
      },
      "execution_count": 13,
      "outputs": [
        {
          "output_type": "execute_result",
          "data": {
            "text/plain": [
              "[{'uuid': '5268526d-c497-323f-be0c-5452004406a3',\n",
              "  'title': 'Better Buy: Microsoft vs. Palo Alto Networks?',\n",
              "  'publisher': 'Motley Fool',\n",
              "  'link': 'https://finance.yahoo.com/m/5268526d-c497-323f-be0c-5452004406a3/better-buy%3A-microsoft-vs..html',\n",
              "  'providerPublishTime': 1669975500,\n",
              "  'type': 'STORY',\n",
              "  'thumbnail': {'resolutions': [{'url': 'https://s.yimg.com/uu/api/res/1.2/sqp9gV8WqWHuDSJBuLSA3A--~B/aD0xNDA0O3c9MjEzNTthcHBpZD15dGFjaHlvbg--/https://media.zenfs.com/en/motleyfool.com/5bff44c5767df613affd7a6804206370',\n",
              "     'width': 2135,\n",
              "     'height': 1404,\n",
              "     'tag': 'original'},\n",
              "    {'url': 'https://s.yimg.com/uu/api/res/1.2/PEaLNLyatpW5DxVlVGbxhA--~B/Zmk9ZmlsbDtoPTE0MDtweW9mZj0wO3c9MTQwO2FwcGlkPXl0YWNoeW9u/https://media.zenfs.com/en/motleyfool.com/5bff44c5767df613affd7a6804206370',\n",
              "     'width': 140,\n",
              "     'height': 140,\n",
              "     'tag': '140x140'}]},\n",
              "  'relatedTickers': ['PANW', 'MSFT']},\n",
              " {'uuid': '9b4ffdc5-1d5f-3c5c-ada2-6b354ce3d556',\n",
              "  'title': '3 Top Tech Stocks to Buy in December',\n",
              "  'publisher': 'Motley Fool',\n",
              "  'link': 'https://finance.yahoo.com/m/9b4ffdc5-1d5f-3c5c-ada2-6b354ce3d556/3-top-tech-stocks-to-buy-in.html',\n",
              "  'providerPublishTime': 1669975200,\n",
              "  'type': 'STORY',\n",
              "  'thumbnail': {'resolutions': [{'url': 'https://s.yimg.com/uu/api/res/1.2/fcJH7BvhJ_6B.bmmTOBZSQ--~B/aD0yNjY3O3c9NDAwMDthcHBpZD15dGFjaHlvbg--/https://media.zenfs.com/en/motleyfool.com/2b00d69dfa72725ed00826050251771e',\n",
              "     'width': 4000,\n",
              "     'height': 2667,\n",
              "     'tag': 'original'},\n",
              "    {'url': 'https://s.yimg.com/uu/api/res/1.2/3S7IM8Lsrq0O7Z6Ok9.B5Q--~B/Zmk9ZmlsbDtoPTE0MDtweW9mZj0wO3c9MTQwO2FwcGlkPXl0YWNoeW9u/https://media.zenfs.com/en/motleyfool.com/2b00d69dfa72725ed00826050251771e',\n",
              "     'width': 140,\n",
              "     'height': 140,\n",
              "     'tag': '140x140'}]},\n",
              "  'relatedTickers': ['AAPL', 'MSFT', 'AMD', 'AMZN']},\n",
              " {'uuid': '69406cd5-007e-3dc0-9a0a-736cf2b32b29',\n",
              "  'title': 'Microsoft (MSFT) Dips More Than Broader Markets: What You Should Know',\n",
              "  'publisher': 'Zacks',\n",
              "  'link': 'https://finance.yahoo.com/news/microsoft-msft-dips-more-broader-224510304.html',\n",
              "  'providerPublishTime': 1669934710,\n",
              "  'type': 'STORY',\n",
              "  'thumbnail': {'resolutions': [{'url': 'https://s.yimg.com/uu/api/res/1.2/aMCT_Lh5K9xNn9.QUdX03w--~B/aD01ODc7dz05MDA7YXBwaWQ9eXRhY2h5b24-/https://media.zenfs.com/en/zacks.com/17a4db66bb13bdabcbf848550a6ea15a',\n",
              "     'width': 900,\n",
              "     'height': 587,\n",
              "     'tag': 'original'},\n",
              "    {'url': 'https://s.yimg.com/uu/api/res/1.2/tcFLKwhz5YeAyf4wT0.fUA--~B/Zmk9ZmlsbDtoPTE0MDtweW9mZj0wO3c9MTQwO2FwcGlkPXl0YWNoeW9u/https://media.zenfs.com/en/zacks.com/17a4db66bb13bdabcbf848550a6ea15a',\n",
              "     'width': 140,\n",
              "     'height': 140,\n",
              "     'tag': '140x140'}]},\n",
              "  'relatedTickers': ['MSFT']},\n",
              " {'uuid': '632a9229-53c4-3ad2-939c-a79cc25a3c84',\n",
              "  'title': 'Does Big Tech Have a Pulse?',\n",
              "  'publisher': 'Zacks',\n",
              "  'link': 'https://finance.yahoo.com/news/does-big-tech-pulse-222910872.html',\n",
              "  'providerPublishTime': 1669933750,\n",
              "  'type': 'STORY',\n",
              "  'thumbnail': {'resolutions': [{'url': 'https://s.yimg.com/uu/api/res/1.2/9luckxOk8kuyxVFOBDXD7g--~B/aD0zNDk7dz02MjA7YXBwaWQ9eXRhY2h5b24-/https://media.zenfs.com/en/zacks.com/80c3b0044109952d2ccd07e54852806c',\n",
              "     'width': 620,\n",
              "     'height': 349,\n",
              "     'tag': 'original'},\n",
              "    {'url': 'https://s.yimg.com/uu/api/res/1.2/RCFht.LXTkGpxWL7m1KW4A--~B/Zmk9ZmlsbDtoPTE0MDtweW9mZj0wO3c9MTQwO2FwcGlkPXl0YWNoeW9u/https://media.zenfs.com/en/zacks.com/80c3b0044109952d2ccd07e54852806c',\n",
              "     'width': 140,\n",
              "     'height': 140,\n",
              "     'tag': '140x140'}]},\n",
              "  'relatedTickers': ['AAPL', 'MSFT', 'GOOGL']},\n",
              " {'uuid': '3a74bc5e-4821-3bee-b43f-d01480e5865a',\n",
              "  'title': 'Discord Is Offering Creators Ways to Make Money Through Subscriptions',\n",
              "  'publisher': 'Bloomberg',\n",
              "  'link': 'https://finance.yahoo.com/news/discord-offering-creators-ways-money-190526707.html',\n",
              "  'providerPublishTime': 1669932889,\n",
              "  'type': 'STORY',\n",
              "  'thumbnail': {'resolutions': [{'url': 'https://s.yimg.com/uu/api/res/1.2/8Lmk_afD_5zo2xVhTg40KQ--~B/aD0xMzM0O3c9MjAwMDthcHBpZD15dGFjaHlvbg--/https://media.zenfs.com/en/bloomberg_technology_68/1efb2f0e9ce621087b4da96ab5243f1f',\n",
              "     'width': 2000,\n",
              "     'height': 1334,\n",
              "     'tag': 'original'},\n",
              "    {'url': 'https://s.yimg.com/uu/api/res/1.2/Vn2BhX9d6nSBfgEc8D9NaQ--~B/Zmk9ZmlsbDtoPTE0MDtweW9mZj0wO3c9MTQwO2FwcGlkPXl0YWNoeW9u/https://media.zenfs.com/en/bloomberg_technology_68/1efb2f0e9ce621087b4da96ab5243f1f',\n",
              "     'width': 140,\n",
              "     'height': 140,\n",
              "     'tag': '140x140'}]},\n",
              "  'relatedTickers': ['MSFT', 'NYT']},\n",
              " {'uuid': '65b53896-faf4-3a06-9d0d-a63cf3c83192',\n",
              "  'title': 'Best Dow Jones Stocks To Buy And Watch In December: Apple, Microsoft Reverse Higher',\n",
              "  'publisher': \"Investor's Business Daily\",\n",
              "  'link': 'https://finance.yahoo.com/m/65b53896-faf4-3a06-9d0d-a63cf3c83192/best-dow-jones-stocks-to-buy.html',\n",
              "  'providerPublishTime': 1669924173,\n",
              "  'type': 'STORY',\n",
              "  'thumbnail': {'resolutions': [{'url': 'https://s.yimg.com/uu/api/res/1.2/JPX5jeyihDRi4N6ueuYJVQ--~B/aD01NjM7dz0xMDAwO2FwcGlkPXl0YWNoeW9u/https://media.zenfs.com/en/ibd.com/ed4e9880b0c3e9257977ca3554a6c383',\n",
              "     'width': 1000,\n",
              "     'height': 563,\n",
              "     'tag': 'original'},\n",
              "    {'url': 'https://s.yimg.com/uu/api/res/1.2/.0m6SEAzHJOxc1V1Vw8fuA--~B/Zmk9ZmlsbDtoPTE0MDtweW9mZj0wO3c9MTQwO2FwcGlkPXl0YWNoeW9u/https://media.zenfs.com/en/ibd.com/ed4e9880b0c3e9257977ca3554a6c383',\n",
              "     'width': 140,\n",
              "     'height': 140,\n",
              "     'tag': '140x140'}]},\n",
              "  'relatedTickers': ['^DJI', 'MSFT']},\n",
              " {'uuid': 'c36a6126-0d19-3b7b-8468-3cf014bbd96b',\n",
              "  'title': 'Activision Blizzard Joins Wedbush’s Best Ideas List. Microsoft Can Address Regulator Worries.',\n",
              "  'publisher': 'Barrons.com',\n",
              "  'link': 'https://finance.yahoo.com/m/c36a6126-0d19-3b7b-8468-3cf014bbd96b/activision-blizzard-joins.html',\n",
              "  'providerPublishTime': 1669924020,\n",
              "  'type': 'STORY',\n",
              "  'thumbnail': {'resolutions': [{'url': 'https://s.yimg.com/uu/api/res/1.2/neXIbxQnLZtI6LaL6Mqpvg--~B/aD02NDA7dz0xMjgwO2FwcGlkPXl0YWNoeW9u/https://media.zenfs.com/en/Barrons.com/6252653890f20ca17d1c2b5d4abfecb8',\n",
              "     'width': 1280,\n",
              "     'height': 640,\n",
              "     'tag': 'original'},\n",
              "    {'url': 'https://s.yimg.com/uu/api/res/1.2/fQ_0nngES1y7IuV_numufg--~B/Zmk9ZmlsbDtoPTE0MDtweW9mZj0wO3c9MTQwO2FwcGlkPXl0YWNoeW9u/https://media.zenfs.com/en/Barrons.com/6252653890f20ca17d1c2b5d4abfecb8',\n",
              "     'width': 140,\n",
              "     'height': 140,\n",
              "     'tag': '140x140'}]},\n",
              "  'relatedTickers': ['MSFT', 'ATVI']},\n",
              " {'uuid': 'e6102c89-4a23-3d34-a3ac-58b4f4513cf1',\n",
              "  'title': \"Morgan Stanley CEO: 'You Shouldn't Bet Against Elon Musk'\",\n",
              "  'publisher': 'TheStreet.com',\n",
              "  'link': 'https://finance.yahoo.com/m/e6102c89-4a23-3d34-a3ac-58b4f4513cf1/morgan-stanley-ceo%3A-%27you.html',\n",
              "  'providerPublishTime': 1669921320,\n",
              "  'type': 'STORY',\n",
              "  'thumbnail': {'resolutions': [{'url': 'https://s.yimg.com/uu/api/res/1.2/WBm26..PM7hLacRcUEYzkw--~B/aD0xMDgwO3c9MTkyMDthcHBpZD15dGFjaHlvbg--/https://media.zenfs.com/en/thestreet.com/c350ee14b280306f0624361e932cbba8',\n",
              "     'width': 1920,\n",
              "     'height': 1080,\n",
              "     'tag': 'original'},\n",
              "    {'url': 'https://s.yimg.com/uu/api/res/1.2/nl3h0UfFQO.N_hUm7c8QfA--~B/Zmk9ZmlsbDtoPTE0MDtweW9mZj0wO3c9MTQwO2FwcGlkPXl0YWNoeW9u/https://media.zenfs.com/en/thestreet.com/c350ee14b280306f0624361e932cbba8',\n",
              "     'width': 140,\n",
              "     'height': 140,\n",
              "     'tag': '140x140'}]},\n",
              "  'relatedTickers': ['TSLA', 'MSFT']}]"
            ]
          },
          "metadata": {},
          "execution_count": 13
        }
      ]
    },
    {
      "cell_type": "code",
      "source": [
        "# import requests\n",
        "# API_KEY = 'ADD_YOUR_KEY_HERE'\n",
        "# url = 'https://www.alphavantage.co/query?function=TIME_SERIES_INTRADAY&symbol=IBM&interval=5min&apikey=API_KEY'\n",
        "# r = requests.get(url)\n",
        "# data = r.json()\n",
        "# print(data)"
      ],
      "metadata": {
        "id": "Xv1yOe0XdBoj"
      },
      "execution_count": 14,
      "outputs": []
    },
    {
      "cell_type": "code",
      "source": [
        "# import requests\n",
        "# API_KEY = 'ADD_YOUR_KEY_HERE'\n",
        "# url = 'https://www.alphavantage.co/query?function=TIME_SERIES_DAILY&symbol=IBM&apikey=API_KEY'\n",
        "# r = requests.get(url)\n",
        "# data = r.json()\n",
        "# print(data)"
      ],
      "metadata": {
        "id": "iia0zknUdGm6"
      },
      "execution_count": 12,
      "outputs": []
    },
    {
      "cell_type": "code",
      "source": [
        "# import requests\n",
        "# API_KEY = 'ADD_YOUR_KEY_HERE'\n",
        "# url = 'https://www.alphavantage.co/query?function=INCOME_STATEMENT&symbol=IBM&apikey=API_KEY'\n",
        "# r = requests.get(url)\n",
        "# data = r.json()\n",
        "# print(data)"
      ],
      "metadata": {
        "id": "aPMnD1XTdIJr"
      },
      "execution_count": 15,
      "outputs": []
    },
    {
      "cell_type": "code",
      "source": [
        "pip install edgar"
      ],
      "metadata": {
        "colab": {
          "base_uri": "https://localhost:8080/"
        },
        "id": "iaJwMPOzdW-x",
        "outputId": "ef2646db-1ec3-454b-909e-29eb5c43f76c"
      },
      "execution_count": 16,
      "outputs": [
        {
          "output_type": "stream",
          "name": "stdout",
          "text": [
            "Looking in indexes: https://pypi.org/simple, https://us-python.pkg.dev/colab-wheels/public/simple/\n",
            "Collecting edgar\n",
            "  Downloading edgar-5.4.3-py3-none-any.whl (22 kB)\n",
            "Requirement already satisfied: tqdm in /usr/local/lib/python3.8/dist-packages (from edgar) (4.64.1)\n",
            "Requirement already satisfied: requests in /usr/local/lib/python3.8/dist-packages (from edgar) (2.28.1)\n",
            "Requirement already satisfied: lxml in /usr/local/lib/python3.8/dist-packages (from edgar) (4.9.1)\n",
            "Collecting rapidfuzz\n",
            "  Downloading rapidfuzz-2.13.2-cp38-cp38-manylinux_2_17_x86_64.manylinux2014_x86_64.whl (2.2 MB)\n",
            "\u001b[K     |████████████████████████████████| 2.2 MB 7.0 MB/s \n",
            "\u001b[?25hRequirement already satisfied: certifi>=2017.4.17 in /usr/local/lib/python3.8/dist-packages (from requests->edgar) (2022.9.24)\n",
            "Requirement already satisfied: charset-normalizer<3,>=2 in /usr/local/lib/python3.8/dist-packages (from requests->edgar) (2.1.1)\n",
            "Requirement already satisfied: urllib3<1.27,>=1.21.1 in /usr/local/lib/python3.8/dist-packages (from requests->edgar) (1.24.3)\n",
            "Requirement already satisfied: idna<4,>=2.5 in /usr/local/lib/python3.8/dist-packages (from requests->edgar) (2.10)\n",
            "Installing collected packages: rapidfuzz, edgar\n",
            "Successfully installed edgar-5.4.3 rapidfuzz-2.13.2\n"
          ]
        }
      ]
    },
    {
      "cell_type": "code",
      "source": [
        "from edgar import Company\n",
        "company = Company(\"Oracle Corp\", \"0001341439\")\n",
        "tree = company.get_all_filings(filing_type = \"10-K\")\n",
        "docs = Company.get_documents(tree, no_of_documents=5)"
      ],
      "metadata": {
        "id": "UEqvyBlvdKnS"
      },
      "execution_count": 17,
      "outputs": []
    },
    {
      "cell_type": "code",
      "source": [
        "pip install fredapi"
      ],
      "metadata": {
        "colab": {
          "base_uri": "https://localhost:8080/"
        },
        "id": "8jq0jiiPdbEt",
        "outputId": "bb58e0b5-7077-45d4-871e-e52e5a72602f"
      },
      "execution_count": 18,
      "outputs": [
        {
          "output_type": "stream",
          "name": "stdout",
          "text": [
            "Looking in indexes: https://pypi.org/simple, https://us-python.pkg.dev/colab-wheels/public/simple/\n",
            "Collecting fredapi\n",
            "  Downloading fredapi-0.5.0-py3-none-any.whl (11 kB)\n",
            "Requirement already satisfied: pandas in /usr/local/lib/python3.8/dist-packages (from fredapi) (1.3.5)\n",
            "Requirement already satisfied: pytz>=2017.3 in /usr/local/lib/python3.8/dist-packages (from pandas->fredapi) (2022.6)\n",
            "Requirement already satisfied: python-dateutil>=2.7.3 in /usr/local/lib/python3.8/dist-packages (from pandas->fredapi) (2.8.2)\n",
            "Requirement already satisfied: numpy>=1.17.3 in /usr/local/lib/python3.8/dist-packages (from pandas->fredapi) (1.21.6)\n",
            "Requirement already satisfied: six>=1.5 in /usr/local/lib/python3.8/dist-packages (from python-dateutil>=2.7.3->pandas->fredapi) (1.15.0)\n",
            "Installing collected packages: fredapi\n",
            "Successfully installed fredapi-0.5.0\n"
          ]
        }
      ]
    },
    {
      "cell_type": "code",
      "source": [
        "# from fredapi import Fred\n",
        "# fred = Fred(api_key='insert api key here')\n",
        "# data = fred.get_series_first_release('GDP')\n",
        "# data.tail()"
      ],
      "metadata": {
        "id": "-JjZFuGadXLC"
      },
      "execution_count": 19,
      "outputs": []
    }
  ]
}