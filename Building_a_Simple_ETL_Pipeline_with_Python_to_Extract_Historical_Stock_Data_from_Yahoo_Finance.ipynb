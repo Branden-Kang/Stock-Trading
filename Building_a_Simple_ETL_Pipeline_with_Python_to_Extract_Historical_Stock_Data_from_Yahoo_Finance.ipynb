{
  "nbformat": 4,
  "nbformat_minor": 0,
  "metadata": {
    "colab": {
      "provenance": [],
      "authorship_tag": "ABX9TyOj2O0FmOFXv5Ysctkev5vf"
    },
    "kernelspec": {
      "name": "python3",
      "display_name": "Python 3"
    },
    "language_info": {
      "name": "python"
    }
  },
  "cells": [
    {
      "cell_type": "markdown",
      "source": [
        "[Reference](https://medium.com/@huzaifazahoor654/building-a-simple-etl-pipeline-with-python-to-extract-historical-stock-data-from-yahoo-finance-b13068b26a)"
      ],
      "metadata": {
        "id": "iL9P8lAop0Zg"
      }
    },
    {
      "cell_type": "markdown",
      "source": [
        "# Setting up the Environment: Installing Required Libraries"
      ],
      "metadata": {
        "id": "Ykd3jiMXppOp"
      }
    },
    {
      "cell_type": "code",
      "source": [
        "!pip install pandas sqlalchemy yfinance"
      ],
      "metadata": {
        "colab": {
          "base_uri": "https://localhost:8080/"
        },
        "id": "NSu3f3lIpn9I",
        "outputId": "5b4aa238-57bf-4872-c86c-49cd806dfa5b"
      },
      "execution_count": 2,
      "outputs": [
        {
          "output_type": "stream",
          "name": "stdout",
          "text": [
            "Requirement already satisfied: pandas in /usr/local/lib/python3.10/dist-packages (1.5.3)\n",
            "Requirement already satisfied: sqlalchemy in /usr/local/lib/python3.10/dist-packages (2.0.16)\n",
            "Requirement already satisfied: yfinance in /usr/local/lib/python3.10/dist-packages (0.2.21)\n",
            "Requirement already satisfied: python-dateutil>=2.8.1 in /usr/local/lib/python3.10/dist-packages (from pandas) (2.8.2)\n",
            "Requirement already satisfied: pytz>=2020.1 in /usr/local/lib/python3.10/dist-packages (from pandas) (2022.7.1)\n",
            "Requirement already satisfied: numpy>=1.21.0 in /usr/local/lib/python3.10/dist-packages (from pandas) (1.22.4)\n",
            "Requirement already satisfied: typing-extensions>=4.2.0 in /usr/local/lib/python3.10/dist-packages (from sqlalchemy) (4.6.3)\n",
            "Requirement already satisfied: greenlet!=0.4.17 in /usr/local/lib/python3.10/dist-packages (from sqlalchemy) (2.0.2)\n",
            "Requirement already satisfied: requests>=2.26 in /usr/local/lib/python3.10/dist-packages (from yfinance) (2.27.1)\n",
            "Requirement already satisfied: multitasking>=0.0.7 in /usr/local/lib/python3.10/dist-packages (from yfinance) (0.0.11)\n",
            "Requirement already satisfied: lxml>=4.9.1 in /usr/local/lib/python3.10/dist-packages (from yfinance) (4.9.2)\n",
            "Requirement already satisfied: appdirs>=1.4.4 in /usr/local/lib/python3.10/dist-packages (from yfinance) (1.4.4)\n",
            "Requirement already satisfied: frozendict>=2.3.4 in /usr/local/lib/python3.10/dist-packages (from yfinance) (2.3.8)\n",
            "Requirement already satisfied: beautifulsoup4>=4.11.1 in /usr/local/lib/python3.10/dist-packages (from yfinance) (4.11.2)\n",
            "Requirement already satisfied: html5lib>=1.1 in /usr/local/lib/python3.10/dist-packages (from yfinance) (1.1)\n",
            "Requirement already satisfied: soupsieve>1.2 in /usr/local/lib/python3.10/dist-packages (from beautifulsoup4>=4.11.1->yfinance) (2.4.1)\n",
            "Requirement already satisfied: six>=1.9 in /usr/local/lib/python3.10/dist-packages (from html5lib>=1.1->yfinance) (1.16.0)\n",
            "Requirement already satisfied: webencodings in /usr/local/lib/python3.10/dist-packages (from html5lib>=1.1->yfinance) (0.5.1)\n",
            "Requirement already satisfied: urllib3<1.27,>=1.21.1 in /usr/local/lib/python3.10/dist-packages (from requests>=2.26->yfinance) (1.26.16)\n",
            "Requirement already satisfied: certifi>=2017.4.17 in /usr/local/lib/python3.10/dist-packages (from requests>=2.26->yfinance) (2023.5.7)\n",
            "Requirement already satisfied: charset-normalizer~=2.0.0 in /usr/local/lib/python3.10/dist-packages (from requests>=2.26->yfinance) (2.0.12)\n",
            "Requirement already satisfied: idna<4,>=2.5 in /usr/local/lib/python3.10/dist-packages (from requests>=2.26->yfinance) (3.4)\n"
          ]
        }
      ]
    },
    {
      "cell_type": "markdown",
      "source": [
        "# ㅍ"
      ],
      "metadata": {
        "id": "xOph1lIGprfA"
      }
    },
    {
      "cell_type": "code",
      "execution_count": 3,
      "metadata": {
        "id": "mtvQLadzpfnN"
      },
      "outputs": [],
      "source": [
        "import pandas as pd\n",
        "import yfinance as yf\n",
        "\n",
        "# Define the stock symbols and date range for data extraction\n",
        "symbols = ['AAPL', 'MSFT', 'GOOG']\n",
        "start_date = '2023-01-01'\n",
        "end_date = '2023-03-31'\n",
        "\n",
        "# Extract data from Yahoo Finance\n",
        "data = pd.DataFrame()\n",
        "for symbol in symbols:\n",
        "    ticker = yf.Ticker(symbol)\n",
        "    stock_data = ticker.history(start=start_date, end=end_date)\n",
        "    stock_data['symbol'] = symbol\n",
        "    data = pd.concat([data, stock_data])"
      ]
    },
    {
      "cell_type": "markdown",
      "source": [
        "# Transforming Data: Cleaning, Manipulating, and Filtering Data"
      ],
      "metadata": {
        "id": "A86RXVi9ptRo"
      }
    },
    {
      "cell_type": "code",
      "source": [
        "# Clean and transform the data\n",
        "data = data.reset_index()\n",
        "data = data.drop(['Dividends', 'Stock Splits'], axis=1)\n",
        "data = data.rename(columns={'Date': 'date', 'Open': 'open', 'High': 'high', 'Low': 'low', 'Close': 'close', 'Volume': 'volume', 'symbol': 'symbol'})"
      ],
      "metadata": {
        "id": "R_TT1lDUpm7e"
      },
      "execution_count": 4,
      "outputs": []
    },
    {
      "cell_type": "markdown",
      "source": [
        "# Loading Data: Writing Data to the Destination"
      ],
      "metadata": {
        "id": "TkHzCGVlpvfz"
      }
    },
    {
      "cell_type": "code",
      "source": [
        "# Import SQLAlchemy library\n",
        "from sqlalchemy import create_engine\n",
        "\n",
        "# Create a SQLite engine\n",
        "engine = create_engine('sqlite:///data.db')\n",
        "\n",
        "# Write data to SQLite database\n",
        "data.to_sql('stock_data', engine, index=False, if_exists='replace')"
      ],
      "metadata": {
        "colab": {
          "base_uri": "https://localhost:8080/"
        },
        "id": "YI5eHio7puXJ",
        "outputId": "ebddd85f-10b1-47e4-88cd-43e4a223b243"
      },
      "execution_count": 5,
      "outputs": [
        {
          "output_type": "execute_result",
          "data": {
            "text/plain": [
              "183"
            ]
          },
          "metadata": {},
          "execution_count": 5
        }
      ]
    }
  ]
}