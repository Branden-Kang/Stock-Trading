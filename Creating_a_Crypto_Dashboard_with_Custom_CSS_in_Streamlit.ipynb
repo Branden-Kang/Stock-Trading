{
  "nbformat": 4,
  "nbformat_minor": 0,
  "metadata": {
    "colab": {
      "provenance": [],
      "authorship_tag": "ABX9TyPAU6ciPE5C1cYmey/pX0IB"
    },
    "kernelspec": {
      "name": "python3",
      "display_name": "Python 3"
    },
    "language_info": {
      "name": "python"
    }
  },
  "cells": [
    {
      "cell_type": "markdown",
      "source": [
        "[Reference](https://levelup.gitconnected.com/creating-a-crypto-dashboard-with-custom-css-in-streamlit-53c5b85ec237)"
      ],
      "metadata": {
        "id": "qiy600vnIHMH"
      }
    },
    {
      "cell_type": "code",
      "execution_count": 1,
      "metadata": {
        "id": "W8za4IM8Huq4"
      },
      "outputs": [],
      "source": [
        "# IMPORTING PACKAGES\n",
        "\n",
        "import streamlit as st\n",
        "import requests\n",
        "import pandas as pd"
      ]
    },
    {
      "cell_type": "code",
      "source": [
        "api_key = 'YOUR API KEY'\n",
        "btc_price = requests.get(f'https://api.taapi.io/price?secret={api_key}&exchange=binance&symbol=BTC/USDT&interval=1m').json()\n",
        "btc_price"
      ],
      "metadata": {
        "id": "NXMy4aymIOzr"
      },
      "execution_count": 2,
      "outputs": []
    },
    {
      "cell_type": "code",
      "source": [
        "api_key = 'YOUR API KEY'\n",
        "url = f'https://api.taapi.io/candles?secret={api_key}&exchange=binance&symbol=BTC/USDT&interval=1d&period=365'\n",
        "hist_json = requests.get(url).json()\n",
        "hist_df = pd.DataFrame(hist_json).drop('timestampHuman', axis = 1).rename(columns = {'timestamp':'time'})\n",
        "hist_df.time = pd.to_datetime(hist_df.time, unit = 's')\n",
        "hist_df.tail()"
      ],
      "metadata": {
        "id": "4ru7jfI4IQVS"
      },
      "execution_count": 3,
      "outputs": []
    },
    {
      "cell_type": "markdown",
      "source": [
        "```\n",
        "[theme]\n",
        "primaryColor=\"#2962ff\"\n",
        "backgroundColor=\"#131722\"\n",
        "secondaryBackgroundColor=\"#0c0e15\"\n",
        "textColor=\"#f6f6f6\"\n",
        "```"
      ],
      "metadata": {
        "id": "nWYZvZFqJ6rB"
      }
    },
    {
      "cell_type": "code",
      "source": [
        "import streamlit as st\n",
        "import requests\n",
        "import pandas as pd\n",
        "from lightweight_charts.widgets import StreamlitChart\n",
        "\n",
        "if \"symbols_list\" not in st.session_state:\n",
        "    st.session_state.symbols_list = None\n",
        "\n",
        "st.set_page_config(\n",
        "    layout = 'wide',\n",
        "    page_title = 'Crypto Dashboard'\n",
        ")\n",
        "\n",
        "st.markdown(\n",
        "    \"\"\"\n",
        "    <style>\n",
        "        footer {display: none}\n",
        "        [data-testid=\"stHeader\"] {display: none}\n",
        "    </style>\n",
        "    \"\"\", unsafe_allow_html = True\n",
        ")\n",
        "\n",
        "with open('style.css') as f:\n",
        "    st.markdown(f'<style>{f.read()}</style>', unsafe_allow_html = True)\n",
        "\n",
        "api_key = 'YOUR TAAPI.IO API KEY'\n",
        "\n",
        "title_col, emp_col, btc_col, eth_col, xmr_col, sol_col, xrp_col = st.columns([1,0.2,1,1,1,1,1])\n",
        "\n",
        "with title_col:\n",
        "    st.markdown('<p class=\"dashboard_title\">Crypto<br>Dashboard</p>', unsafe_allow_html = True)\n",
        "\n",
        "with btc_col:\n",
        "    with st.container():\n",
        "        btc_price = requests.get(f'https://api.taapi.io/price?secret={api_key}&exchange=binance&symbol=BTC/USDT&interval=1m').json()['value']\n",
        "        st.markdown(f'<p class=\"btc_text\">BTC / USDT<br></p><p class=\"price_details\">{btc_price}</p>', unsafe_allow_html = True)\n",
        "\n",
        "with eth_col:\n",
        "    with st.container():\n",
        "        eth_price = requests.get(f'https://api.taapi.io/price?secret={api_key}&exchange=binance&symbol=ETH/USDT&interval=1m').json()['value']\n",
        "        st.markdown(f'<p class=\"eth_text\">ETH / USDT<br></p><p class=\"price_details\">{eth_price}</p>', unsafe_allow_html = True)\n",
        "\n",
        "with xmr_col:\n",
        "    with st.container():\n",
        "        xmr_price = requests.get(f'https://api.taapi.io/price?secret={api_key}&exchange=binance&symbol=XMR/USDT&interval=1m').json()['value']\n",
        "        st.markdown(f'<p class=\"xmr_text\">XMR / USDT<br></p><p class=\"price_details\">{xmr_price}</p>', unsafe_allow_html = True)\n",
        "\n",
        "with sol_col:\n",
        "    with st.container():\n",
        "        sol_price = requests.get(f'https://api.taapi.io/price?secret={api_key}&exchange=binance&symbol=SOL/USDT&interval=1m').json()['value']\n",
        "        st.markdown(f'<p class=\"sol_text\">SOL / USDT<br></p><p class=\"price_details\">{sol_price}</p>', unsafe_allow_html = True)\n",
        "\n",
        "with xrp_col:\n",
        "    with st.container():\n",
        "        xrp_price = requests.get(f'https://api.taapi.io/price?secret={api_key}&exchange=binance&symbol=XRP/USDT&interval=1m').json()['value']\n",
        "        st.markdown(f'<p class=\"xrp_text\">XRP / USDT<br></p><p class=\"price_details\">{xrp_price}</p>', unsafe_allow_html = True)"
      ],
      "metadata": {
        "id": "n1VXJ3vvJWzr"
      },
      "execution_count": 4,
      "outputs": []
    },
    {
      "cell_type": "markdown",
      "source": [
        "```\n",
        "@import url('https://fonts.googleapis.com/css2?family=Space+Grotesk:wght@300;400;500;600;700&display=swap');\n",
        "\n",
        "/* DASHBOARD PADDING */\n",
        "div.block-container.css-z5fcl4.egzxvld4 {\n",
        "    width: 100%;\n",
        "    min-width: auto;\n",
        "    max-width: initial;\n",
        "    padding-left: 5rem;\n",
        "    padding-right: 5rem;\n",
        "    padding-top: 15px;\n",
        "    padding-bottom: 40px;\n",
        "}\n",
        "\n",
        "/* GLOBAL FONT CHANGE */\n",
        "html, body, [class*=\"css\"] {\n",
        "    font-family: 'Space Grotesk';\n",
        "}\n",
        "\n",
        ".st-ae {\n",
        "    font-family: 'Space Grotesk';\n",
        "}\n",
        "\n",
        "/* CONTAINER CSS */\n",
        "[data-testid=\"stVerticalBlock\"] > [style*=\"flex-direction: column;\"] > [data-testid=\"stVerticalBlock\"] {\n",
        "    border: 1px groove #52546a;\n",
        "    border-radius: 10px;\n",
        "    padding-left: 25px;\n",
        "    padding-top: 10px;\n",
        "    padding-bottom: 10px;\n",
        "    box-shadow: -6px 8px 20px 1px #00000052;\n",
        "}\n",
        "\n",
        "/* CUSTOM MARKDOWN CLASSES */\n",
        ".dashboard_title {\n",
        "    font-size: 35px;\n",
        "    font-family: 'Space Grotesk';\n",
        "    font-weight: 700;\n",
        "    line-height: 1.2;\n",
        "    text-align: left;\n",
        "    padding-bottom: 35px;\n",
        "}\n",
        "\n",
        ".price_details {\n",
        "    font-size: 30px;\n",
        "    font-family: 'Space Grotesk';\n",
        "    color: #f6f6f6;\n",
        "    font-weight: 900;\n",
        "    text-align: left;\n",
        "    line-height: 1;\n",
        "    padding-bottom: 10px;\n",
        "}\n",
        "\n",
        ".btc_text {\n",
        "    font-size: 14px;\n",
        "    font-family: 'Space Grotesk';\n",
        "    color: #f7931a;\n",
        "    font-weight: bold;\n",
        "    text-align: left;\n",
        "    line-height: 0.2;\n",
        "    padding-top: 10px;\n",
        "}\n",
        "\n",
        ".eth_text {\n",
        "    font-size: 14px;\n",
        "    font-family: 'Space Grotesk';\n",
        "    color: #a1a1a1;\n",
        "    font-weight: bold;\n",
        "    text-align: left;\n",
        "    line-height: 0.2;\n",
        "    padding-top: 10px;\n",
        "}\n",
        "\n",
        ".xmr_text {\n",
        "    font-size: 14px;\n",
        "    font-family: 'Space Grotesk';\n",
        "    color: #ff6b08;\n",
        "    font-weight: bold;\n",
        "    text-align: left;\n",
        "    line-height: 0.2;\n",
        "    padding-top: 10px;\n",
        "}\n",
        "\n",
        ".sol_text {\n",
        "    font-size: 14px;\n",
        "    font-family: 'Space Grotesk';\n",
        "    color: #807af4;\n",
        "    font-weight: bold;\n",
        "    text-align: left;\n",
        "    line-height: 0.2;\n",
        "    padding-top: 10px;\n",
        "}\n",
        "\n",
        ".xrp_text {\n",
        "    font-size: 14px;\n",
        "    font-family: 'Space Grotesk';\n",
        "    color: #01acf1;\n",
        "    font-weight: bold;\n",
        "    text-align: left;\n",
        "    line-height: 0.2;\n",
        "    padding-top: 10px;\n",
        "}\n",
        "```"
      ],
      "metadata": {
        "id": "CTn051wJKCNp"
      }
    }
  ]
}