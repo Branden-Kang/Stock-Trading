{
  "nbformat": 4,
  "nbformat_minor": 0,
  "metadata": {
    "colab": {
      "provenance": [],
      "authorship_tag": "ABX9TyM/EUhSKb5eJg7iUFzjtjXR"
    },
    "kernelspec": {
      "name": "python3",
      "display_name": "Python 3"
    },
    "language_info": {
      "name": "python"
    }
  },
  "cells": [
    {
      "cell_type": "markdown",
      "source": [
        "[Reference](https://medium.com/fintechexplained/create-free-real-time-trading-stock-ticking-application-using-python-649ca209b90a)"
      ],
      "metadata": {
        "id": "A2IIg0YrpIUL"
      }
    },
    {
      "cell_type": "code",
      "execution_count": 1,
      "metadata": {
        "colab": {
          "base_uri": "https://localhost:8080/",
          "height": 582
        },
        "id": "EKFd4hJMpAc6",
        "outputId": "92f82168-bce8-41c6-d79b-49a90a64a3a9"
      },
      "outputs": [
        {
          "output_type": "stream",
          "name": "stdout",
          "text": [
            "Looking in indexes: https://pypi.org/simple, https://us-python.pkg.dev/colab-wheels/public/simple/\n",
            "Collecting yliveticker==0.3.0\n",
            "  Downloading yliveticker-0.3.0-py3-none-any.whl (7.0 kB)\n",
            "Requirement already satisfied: protobuf>=3.11.0 in /usr/local/lib/python3.8/dist-packages (from yliveticker==0.3.0) (3.19.6)\n",
            "Collecting websocket-client>=0.57.0\n",
            "  Downloading websocket_client-1.4.2-py3-none-any.whl (55 kB)\n",
            "\u001b[K     |████████████████████████████████| 55 kB 1.4 MB/s \n",
            "\u001b[?25hInstalling collected packages: websocket-client, yliveticker\n",
            "Successfully installed websocket-client-1.4.2 yliveticker-0.3.0\n",
            "Looking in indexes: https://pypi.org/simple, https://us-python.pkg.dev/colab-wheels/public/simple/\n",
            "Collecting protobuf==3.19.0\n",
            "  Downloading protobuf-3.19.0-cp38-cp38-manylinux_2_17_x86_64.manylinux2014_x86_64.whl (1.1 MB)\n",
            "\u001b[K     |████████████████████████████████| 1.1 MB 4.8 MB/s \n",
            "\u001b[?25hInstalling collected packages: protobuf\n",
            "  Attempting uninstall: protobuf\n",
            "    Found existing installation: protobuf 3.19.6\n",
            "    Uninstalling protobuf-3.19.6:\n",
            "      Successfully uninstalled protobuf-3.19.6\n",
            "\u001b[31mERROR: pip's dependency resolver does not currently take into account all the packages that are installed. This behaviour is the source of the following dependency conflicts.\n",
            "googleapis-common-protos 1.57.0 requires protobuf!=3.20.0,!=3.20.1,!=4.21.1,!=4.21.2,!=4.21.3,!=4.21.4,!=4.21.5,<5.0.0dev,>=3.19.5, but you have protobuf 3.19.0 which is incompatible.\n",
            "google-cloud-translate 3.8.4 requires protobuf!=3.20.0,!=3.20.1,!=4.21.0,!=4.21.1,!=4.21.2,!=4.21.3,!=4.21.4,!=4.21.5,<5.0.0dev,>=3.19.5, but you have protobuf 3.19.0 which is incompatible.\n",
            "google-cloud-language 2.6.1 requires protobuf!=3.20.0,!=3.20.1,!=4.21.0,!=4.21.1,!=4.21.2,!=4.21.3,!=4.21.4,!=4.21.5,<5.0.0dev,>=3.19.5, but you have protobuf 3.19.0 which is incompatible.\n",
            "google-cloud-firestore 2.7.2 requires protobuf!=3.20.0,!=3.20.1,!=4.21.0,!=4.21.1,!=4.21.2,!=4.21.3,!=4.21.4,!=4.21.5,<5.0.0dev,>=3.19.5, but you have protobuf 3.19.0 which is incompatible.\n",
            "google-cloud-datastore 2.9.0 requires protobuf!=3.20.0,!=3.20.1,!=4.21.0,!=4.21.1,!=4.21.2,!=4.21.3,!=4.21.4,!=4.21.5,<5.0.0dev,>=3.19.5, but you have protobuf 3.19.0 which is incompatible.\n",
            "google-cloud-bigquery 3.3.6 requires protobuf!=3.20.0,!=3.20.1,!=4.21.0,!=4.21.1,!=4.21.2,!=4.21.3,!=4.21.4,!=4.21.5,<5.0.0dev,>=3.19.5, but you have protobuf 3.19.0 which is incompatible.\n",
            "google-cloud-bigquery-storage 2.16.2 requires protobuf!=3.20.0,!=3.20.1,!=4.21.0,!=4.21.1,!=4.21.2,!=4.21.3,!=4.21.4,!=4.21.5,<5.0.0dev,>=3.19.5, but you have protobuf 3.19.0 which is incompatible.\u001b[0m\n",
            "Successfully installed protobuf-3.19.0\n"
          ]
        },
        {
          "output_type": "display_data",
          "data": {
            "application/vnd.colab-display-data+json": {
              "pip_warning": {
                "packages": [
                  "google"
                ]
              }
            }
          },
          "metadata": {}
        }
      ],
      "source": [
        "!pip install yliveticker==0.3.0\n",
        "\n",
        "!pip install protobuf==3.19.0"
      ]
    },
    {
      "cell_type": "code",
      "source": [
        "import yliveticker\n",
        "from collections import defaultdict, deque\n",
        "from functools import partial\n",
        "\n",
        "\n",
        "class YahooWebSocketClient():\n",
        "    def start_streaming(self, tickers):\n",
        "        yliveticker.YLiveTicker(ticker_names=tickers,\n",
        "                                on_ticker=self._on_ticker)\n",
        "    def _on_ticker(self, ws, msg):\n",
        "        self._process(msg)\n",
        "\n",
        "    def _process(self, message):\n",
        "        # process this message\n",
        "        print(message)\n",
        "\n",
        "\n",
        "if __name__ == \"__main__\":\n",
        "    yahoo_websocket_client = YahooWebSocketClient()\n",
        "    yahoo_websocket_client.start_streaming(['MSFT', 'GOOG'])"
      ],
      "metadata": {
        "colab": {
          "base_uri": "https://localhost:8080/"
        },
        "id": "yy9PwCjWpDYz",
        "outputId": "e35b34a4-45e4-4c57-9339-c8f97d68f3c0"
      },
      "execution_count": 2,
      "outputs": [
        {
          "output_type": "stream",
          "name": "stderr",
          "text": [
            "[2022-12-10 15:26:08.235189] ### connection is open ###\n",
            "WARNING:websocket:websocket connected\n",
            "ERROR:websocket: - goodbye\n",
            "[2022-12-10 15:26:48.824573] \n",
            "ERROR:websocket:error from callback <bound method YLiveTicker.on_close of <yliveticker.YLiveTicker object at 0x7fbc0dffcc70>>: on_close() takes 2 positional arguments but 4 were given\n",
            "[2022-12-10 15:26:48.855567] on_close() takes 2 positional arguments but 4 were given\n"
          ]
        }
      ]
    }
  ]
}