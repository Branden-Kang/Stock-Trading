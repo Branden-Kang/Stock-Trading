{
  "nbformat": 4,
  "nbformat_minor": 0,
  "metadata": {
    "colab": {
      "provenance": [],
      "authorship_tag": "ABX9TyMm1h+C2NZVi4mIrj6ibNL+"
    },
    "kernelspec": {
      "name": "python3",
      "display_name": "Python 3"
    },
    "language_info": {
      "name": "python"
    }
  },
  "cells": [
    {
      "cell_type": "markdown",
      "source": [
        "[Reference](https://medium.com/geekculture/how-id-start-learning-python-for-finance-9f91f8084306)"
      ],
      "metadata": {
        "id": "zwlSY-G4LTcZ"
      }
    },
    {
      "cell_type": "code",
      "execution_count": 1,
      "metadata": {
        "colab": {
          "base_uri": "https://localhost:8080/"
        },
        "id": "FPHilGTHLGL2",
        "outputId": "ff0b10d6-8f9a-4efd-8fea-9fa4261163be"
      },
      "outputs": [
        {
          "output_type": "stream",
          "name": "stdout",
          "text": [
            "\r[*********************100%***********************]  1 of 1 completed\n",
            "Strategy Growth: 2.318970681941365\n",
            "Buy and hold growth: 2.8598538387677266\n"
          ]
        }
      ],
      "source": [
        "import numpy as np\n",
        "import yfinance as yf\n",
        "\n",
        "\n",
        "def run_strat(open_prices, ma):\n",
        "    '''\n",
        "    Run simple ma strategy - we buy if the stock is above the moving average\n",
        "    and close our position once the stock crosses below it.\n",
        "    '''\n",
        "    \n",
        "    # Flag to determine whether the instrument is currently held or not\n",
        "    holding = False\n",
        "    \n",
        "    # Empty lists to store the results from the strategy\n",
        "    trade_res = []\n",
        "    \n",
        "    for day in range(1, open_prices.shape[0]):\n",
        "        \n",
        "        if not holding and open_prices[day] >= ma[day-1]:\n",
        "            \n",
        "            bought_at = open_prices[day]\n",
        "            holding = True\n",
        "        \n",
        "        elif holding and open_prices[day] < ma[day-1]:\n",
        "            \n",
        "            trade_res.append(open_prices[day]/bought_at - 1)\n",
        "            holding = False\n",
        "            \n",
        "    # If we are still holding, then complete the trade to gather the full \n",
        "    # strategy performance until today\n",
        "    if holding:\n",
        "        trade_res.append(open_prices[day]/bought_at - 1)\n",
        "\n",
        "    return np.array(trade_res)\n",
        "\n",
        "\n",
        "if __name__ == '__main__':\n",
        "\n",
        "    df = yf.download('SPY')\n",
        "    df['ma'] = df['Close'].rolling(200).mean()\n",
        "    df = df[df.index >= '2000-01-01'].dropna()\n",
        "    \n",
        "    trade_res = run_strat(df['Open'].values, df['ma'].values)\n",
        "    \n",
        "    print('Strategy Growth:', np.prod(1+trade_res))\n",
        "    print('Buy and hold growth:', df['Close'].values[-1]/df['Close'].values[0])"
      ]
    },
    {
      "cell_type": "code",
      "source": [],
      "metadata": {
        "id": "phHlY5EzLIDF"
      },
      "execution_count": null,
      "outputs": []
    }
  ]
}