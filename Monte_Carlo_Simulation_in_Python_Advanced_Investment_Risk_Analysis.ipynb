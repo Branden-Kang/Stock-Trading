{
  "nbformat": 4,
  "nbformat_minor": 0,
  "metadata": {
    "colab": {
      "provenance": [],
      "authorship_tag": "ABX9TyOaWw4HBTzsBGeppUrOW8K3"
    },
    "kernelspec": {
      "name": "python3",
      "display_name": "Python 3"
    },
    "language_info": {
      "name": "python"
    }
  },
  "cells": [
    {
      "cell_type": "markdown",
      "source": [
        "[Reference](https://levelup.gitconnected.com/monte-carlo-simulation-in-python-advanced-investment-risk-analysis-c28d4532b05b)"
      ],
      "metadata": {
        "id": "kpOaY5tyRvkp"
      }
    },
    {
      "cell_type": "code",
      "execution_count": 3,
      "metadata": {
        "id": "UY7-cdmWQIQw"
      },
      "outputs": [],
      "source": [
        "!python3 -m pip install eodhd -U"
      ]
    },
    {
      "cell_type": "code",
      "source": [
        "import numpy as np\n",
        "import matplotlib.pyplot as plt\n",
        "from eodhd import APIClient\n",
        "\n",
        "API_KEY = \"<YOUR_KEY>\"\n",
        "\n",
        "api = APIClient(API_KEY)\n",
        "df = api.get_historical_data(\"GSPC.INDX\", \"d\", results=365)\n",
        "\n",
        "print(df)\n",
        "\n",
        "# Calculate daily returns\n",
        "daily_returns = df[\"adjusted_close\"].pct_change().dropna()\n",
        "print(daily_returns)"
      ],
      "metadata": {
        "id": "n36FoAHWRzwi"
      },
      "execution_count": 4,
      "outputs": []
    },
    {
      "cell_type": "code",
      "source": [
        "# Simulation parameters\n",
        "num_simulations = 1000\n",
        "forecast_days = 365\n",
        "\n",
        "# Initialise simulation array, all zeros\n",
        "simulations = np.zeros((num_simulations, forecast_days))\n",
        "\n",
        "# Simulate future paths\n",
        "last_price = df[\"adjusted_close\"].iloc[-1]\n",
        "for i in range(num_simulations):\n",
        "    cumulative_returns = np.random.choice(daily_returns, size=forecast_days, replace=True).cumsum()\n",
        "    simulations[i, :] = last_price * (1 + cumulative_returns)\n",
        "\n",
        "print(simulations)"
      ],
      "metadata": {
        "id": "GmThax_oR24G"
      },
      "execution_count": 5,
      "outputs": []
    },
    {
      "cell_type": "code",
      "source": [
        "# Plotting the results\n",
        "plt.figure(figsize=(10, 6))\n",
        "plt.plot(simulations.T, color=\"blue\", alpha=0.025)\n",
        "plt.title(\"Monte Carlo Simulation of Future Prices\")\n",
        "plt.xlabel(\"Day\")\n",
        "plt.ylabel(\"Price\")\n",
        "plt.show()"
      ],
      "metadata": {
        "id": "eRiv_7xoR7f2"
      },
      "execution_count": 6,
      "outputs": []
    },
    {
      "cell_type": "code",
      "source": [
        "# Calculate daily returns\n",
        "daily_returns = df[\"adjusted_close\"].pct_change().dropna()\n",
        "\n",
        "# Simulation parameters\n",
        "initial_investment = 10000  # Initial investment amount\n",
        "num_simulations = 1000  # Number of simulations\n",
        "forecast_days = 365  # Investment horizon in days\n",
        "desired_return = 0.10  # Desired return (10%)\n",
        "\n",
        "# Calculate the average daily return\n",
        "average_daily_return = daily_returns.mean()\n",
        "\n",
        "# Calculate volatility as the standard deviation of daily returns\n",
        "volatility = daily_returns.std()\n",
        "\n",
        "print(f\"Average Daily Return: {average_daily_return}\")\n",
        "print(f\"Volatility: {volatility}\")"
      ],
      "metadata": {
        "id": "E_NCOtdQR9vl"
      },
      "execution_count": 7,
      "outputs": []
    },
    {
      "cell_type": "code",
      "source": [
        "daily_returns = np.log(df[\"adjusted_close\"] / df[\"adjusted_close\"].shift(1)).dropna()"
      ],
      "metadata": {
        "id": "dXrxss9XSA-5"
      },
      "execution_count": 8,
      "outputs": []
    },
    {
      "cell_type": "code",
      "source": [
        "# Simulating future returns\n",
        "simulated_end_returns = np.zeros(num_simulations)\n",
        "for i in range(num_simulations):\n",
        "    random_returns = np.random.normal(average_daily_return, volatility, forecast_days)\n",
        "    cumulative_return = np.prod(1 + random_returns)\n",
        "    simulated_end_returns[i] = initial_investment * cumulative_return\n",
        "\n",
        "# Calculate the final investment values\n",
        "final_investment_values = simulated_end_returns\n",
        "\n",
        "print(final_investment_values)"
      ],
      "metadata": {
        "id": "XL8ULYWKSCuX"
      },
      "execution_count": 9,
      "outputs": []
    },
    {
      "cell_type": "code",
      "source": [
        "confidence_level = 0.95\n",
        "sorted_returns = np.sort(final_investment_values)\n",
        "index_at_var = int((1-confidence_level) * num_simulations)\n",
        "var = initial_investment - sorted_returns[index_at_var]\n",
        "conditional_var = initial_investment - sorted_returns[:index_at_var].mean()\n",
        "\n",
        "print(f\"Value at Risk (95% confidence): £{var:,.2f}\")\n",
        "print(f\"Expected Tail Loss (Conditional VaR): £{conditional_var:,.2f}\")"
      ],
      "metadata": {
        "id": "tL3E_CqqSELu"
      },
      "execution_count": 10,
      "outputs": []
    },
    {
      "cell_type": "code",
      "source": [
        "num_success = np.sum(final_investment_values >= initial_investment * (1 + desired_return))\n",
        "probability_of_success = num_success / num_simulations\n",
        "\n",
        "print(f\"Probability of achieving at least a {desired_return*100}% return: {probability_of_success*100:.2f}%\")"
      ],
      "metadata": {
        "id": "BCIqprcxSHo5"
      },
      "execution_count": 11,
      "outputs": []
    },
    {
      "cell_type": "code",
      "source": [
        "plt.figure(figsize=(10, 6))\n",
        "plt.hist(final_investment_values, bins=50, alpha=0.75)\n",
        "plt.axvline(\n",
        "      initial_investment * (1 + desired_return),\n",
        "      color=\"r\",\n",
        "      linestyle=\"dashed\",\n",
        "      linewidth=2,\n",
        "      )\n",
        "plt.axvline(initial_investment - var, color=\"g\", linestyle=\"dashed\", linewidth=2)\n",
        "plt.title(\"Distribution of Final Investment Values\")\n",
        "plt.xlabel(\"Final Investment Value\")\n",
        "plt.ylabel(\"Frequency\")\n",
        "plt.show()"
      ],
      "metadata": {
        "id": "d51S7-xWSJyP"
      },
      "execution_count": 12,
      "outputs": []
    },
    {
      "cell_type": "code",
      "source": [
        "import numpy as np\n",
        "import matplotlib.pyplot as plt\n",
        "from eodhd import APIClient\n",
        "import config as cfg\n",
        "\n",
        "api = APIClient(cfg.API_KEY)\n",
        "\n",
        "\n",
        "def get_ohlc_data():\n",
        "    df = api.get_historical_data(\"GSPC.INDX\", \"d\", results=365)\n",
        "    return df\n",
        "\n",
        "\n",
        "if __name__ == \"__main__\":\n",
        "    df = get_ohlc_data()\n",
        "\n",
        "    # Calculate daily returns\n",
        "    daily_returns = df[\"adjusted_close\"].pct_change().dropna()\n",
        "\n",
        "    # Simulation parameters\n",
        "    initial_investment = 10000  # Initial investment amount\n",
        "    num_simulations = 1000  # Number of simulations\n",
        "    forecast_days = 365  # Investment horizon in days\n",
        "    desired_return = 0.10  # Desired return (10%)\n",
        "\n",
        "    # Calculate the average daily return\n",
        "    average_daily_return = daily_returns.mean()\n",
        "\n",
        "    # Calculate volatility as the standard deviation of daily returns\n",
        "    volatility = daily_returns.std()\n",
        "\n",
        "    print(f\"Average Daily Return: {average_daily_return}\")\n",
        "    print(f\"Volatility: {volatility}\")\n",
        "\n",
        "    # Simulating future returns\n",
        "    simulated_end_returns = np.zeros(num_simulations)\n",
        "    for i in range(num_simulations):\n",
        "        random_returns = np.random.normal(\n",
        "            average_daily_return, volatility, forecast_days\n",
        "        )\n",
        "        cumulative_return = np.prod(1 + random_returns)\n",
        "        simulated_end_returns[i] = initial_investment * cumulative_return\n",
        "\n",
        "    # Calculate the final investment values\n",
        "    final_investment_values = simulated_end_returns\n",
        "\n",
        "    # Calculate Value at Risk (VaR) and Expected Tail Loss (Conditional VaR)\n",
        "    confidence_level = 0.95\n",
        "    sorted_returns = np.sort(final_investment_values)\n",
        "    index_at_var = int((1 - confidence_level) * num_simulations)\n",
        "    var = initial_investment - sorted_returns[index_at_var]\n",
        "    conditional_var = initial_investment - sorted_returns[:index_at_var].mean()\n",
        "\n",
        "    print(f\"Value at Risk (95% confidence): £{var:,.2f}\")\n",
        "    print(f\"Expected Tail Loss (Conditional VaR): £{conditional_var:,.2f}\")\n",
        "\n",
        "    num_success = np.sum(\n",
        "        final_investment_values >= initial_investment * (1 + desired_return)\n",
        "    )\n",
        "    probability_of_success = num_success / num_simulations\n",
        "\n",
        "    print(\n",
        "        f\"Probability of achieving at least a {desired_return*100}% return: {probability_of_success*100:.2f}%\"\n",
        "    )\n",
        "\n",
        "    plt.figure(figsize=(10, 6))\n",
        "    plt.hist(final_investment_values, bins=50, alpha=0.75)\n",
        "    plt.axvline(\n",
        "        initial_investment * (1 + desired_return),\n",
        "        color=\"r\",\n",
        "        linestyle=\"dashed\",\n",
        "        linewidth=2,\n",
        "    )\n",
        "    plt.axvline(initial_investment - var, color=\"g\", linestyle=\"dashed\", linewidth=2)\n",
        "    plt.title(\"Distribution of Final Investment Values\")\n",
        "    plt.xlabel(\"Final Investment Value\")\n",
        "    plt.ylabel(\"Frequency\")\n",
        "    plt.show()\n",
        "\n",
        "    \"\"\"\n",
        "    # Plotting the results\n",
        "    plt.figure(figsize=(10, 6))\n",
        "    plt.plot(simulations.T, color=\"blue\", alpha=0.025)\n",
        "    plt.title(\"Monte Carlo Simulation of Future Prices\")\n",
        "    plt.xlabel(\"Day\")\n",
        "    plt.ylabel(\"Price\")\n",
        "    plt.show()\n",
        "    \"\"\""
      ],
      "metadata": {
        "id": "a9fO8NKTSPnR"
      },
      "execution_count": 13,
      "outputs": []
    }
  ]
}